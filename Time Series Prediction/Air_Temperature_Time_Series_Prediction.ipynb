{
  "nbformat": 4,
  "nbformat_minor": 0,
  "metadata": {
    "colab": {
      "provenance": [],
      "authorship_tag": "ABX9TyPhqUl+uHj57+7TzLbEpF1X",
      "include_colab_link": true
    },
    "kernelspec": {
      "name": "python3",
      "display_name": "Python 3"
    },
    "language_info": {
      "name": "python"
    }
  },
  "cells": [
    {
      "cell_type": "markdown",
      "metadata": {
        "id": "view-in-github",
        "colab_type": "text"
      },
      "source": [
        "<a href=\"https://colab.research.google.com/github/dindararas/Data-Science-Portfolio/blob/main/Time%20Series%20Prediction/Air_Temperature_Time_Series_Prediction.ipynb\" target=\"_parent\"><img src=\"https://colab.research.google.com/assets/colab-badge.svg\" alt=\"Open In Colab\"/></a>"
      ]
    },
    {
      "cell_type": "markdown",
      "source": [
        "# **TIME SERIES PREDICTION**"
      ],
      "metadata": {
        "id": "ZrotY65RrVeN"
      }
    },
    {
      "cell_type": "markdown",
      "source": [
        "Time series prediction is the task of building a model fitted to historical data with the goal of forecasting future values. In this project, I will establish and evaluate deep learning methods (LSTM and CNN) for predicting **Monthly Air Temperature in Jakarta**. The prediction of air temperature is an important task since it affects crop production and other life aspects."
      ],
      "metadata": {
        "id": "rnRrl-Z33RHQ"
      }
    },
    {
      "cell_type": "markdown",
      "source": [
        "## **1. IMPORTING LIBRARIES**"
      ],
      "metadata": {
        "id": "N5WaYtfnraw9"
      }
    },
    {
      "cell_type": "code",
      "source": [
        "!pip install -q -U keras-tuner"
      ],
      "metadata": {
        "colab": {
          "base_uri": "https://localhost:8080/"
        },
        "id": "_XE0sEw87EKT",
        "outputId": "facaa64d-f435-4c16-842e-178fc3451b8c"
      },
      "execution_count": null,
      "outputs": [
        {
          "output_type": "stream",
          "name": "stdout",
          "text": [
            "\u001b[K     |████████████████████████████████| 135 kB 21.0 MB/s \n",
            "\u001b[K     |████████████████████████████████| 1.6 MB 58.4 MB/s \n",
            "\u001b[?25h"
          ]
        }
      ]
    },
    {
      "cell_type": "code",
      "source": [
        "import numpy as np\n",
        "import pandas as pd\n",
        "import matplotlib.pyplot as plt\n",
        "import plotly\n",
        "import plotly.express as px\n",
        "from plotly.subplots import make_subplots\n",
        "import plotly.graph_objects as go\n",
        "import seaborn as sns\n",
        "from tensorflow.keras.models import Sequential, load_model\n",
        "from tensorflow.keras.layers import Dense, SimpleRNN, LSTM, Activation, Dropout\n",
        "from tensorflow.keras.layers import Flatten, Conv1D, MaxPooling1D, Lambda, Input\n",
        "from tensorflow.keras.optimizers import Adam\n",
        "import keras_tuner \n",
        "from keras_tuner import BayesianOptimization\n",
        "import sklearn\n",
        "from sklearn.ensemble import IsolationForest\n",
        "from sklearn.preprocessing import MinMaxScaler\n",
        "from sklearn.metrics import mean_squared_error, mean_absolute_error\n",
        "from math import sqrt\n",
        "import warnings\n",
        "warnings.filterwarnings('ignore')\n",
        "%matplotlib inline"
      ],
      "metadata": {
        "id": "YLKHLcSeruBZ"
      },
      "execution_count": null,
      "outputs": []
    },
    {
      "cell_type": "markdown",
      "source": [
        "## **2. LOADING DATASET**"
      ],
      "metadata": {
        "id": "FViqaFp_ujD9"
      }
    },
    {
      "cell_type": "code",
      "source": [
        "cities = pd.read_csv('/content/GlobalLandTemperaturesByMajorCity.csv')\n",
        "\n",
        "# Focus on Jakarta\n",
        "city = cities['City'] == 'Jakarta'\n",
        "jkt = cities.loc[city, ['dt', 'AverageTemperature']]\n",
        "jkt.columns = ['Date', 'Temp']\n",
        "\n",
        "# Set 'Date' as an index\n",
        "jkt['Date'] = pd.to_datetime(jkt['Date'], format = '%Y-%m-%d')\n",
        "jkt.set_index('Date', inplace = True)\n",
        "\n",
        "# Round decimals\n",
        "jkt = jkt.round(decimals = 2)\n",
        "\n",
        "# Focus on the temperature from 1990 until the end of data\n",
        "jkt = jkt.loc['1985-01-01' :]\n",
        "jkt.head()"
      ],
      "metadata": {
        "colab": {
          "base_uri": "https://localhost:8080/",
          "height": 237
        },
        "id": "QHolbBijul5-",
        "outputId": "8e820709-d539-4aa1-a748-ded61dee9525"
      },
      "execution_count": null,
      "outputs": [
        {
          "output_type": "execute_result",
          "data": {
            "text/plain": [
              "             Temp\n",
              "Date             \n",
              "1985-01-01  26.15\n",
              "1985-02-01  27.23\n",
              "1985-03-01  27.22\n",
              "1985-04-01  27.36\n",
              "1985-05-01  27.65"
            ],
            "text/html": [
              "\n",
              "  <div id=\"df-a4a3826b-3c9d-41cc-8d0a-1163e647f969\">\n",
              "    <div class=\"colab-df-container\">\n",
              "      <div>\n",
              "<style scoped>\n",
              "    .dataframe tbody tr th:only-of-type {\n",
              "        vertical-align: middle;\n",
              "    }\n",
              "\n",
              "    .dataframe tbody tr th {\n",
              "        vertical-align: top;\n",
              "    }\n",
              "\n",
              "    .dataframe thead th {\n",
              "        text-align: right;\n",
              "    }\n",
              "</style>\n",
              "<table border=\"1\" class=\"dataframe\">\n",
              "  <thead>\n",
              "    <tr style=\"text-align: right;\">\n",
              "      <th></th>\n",
              "      <th>Temp</th>\n",
              "    </tr>\n",
              "    <tr>\n",
              "      <th>Date</th>\n",
              "      <th></th>\n",
              "    </tr>\n",
              "  </thead>\n",
              "  <tbody>\n",
              "    <tr>\n",
              "      <th>1985-01-01</th>\n",
              "      <td>26.15</td>\n",
              "    </tr>\n",
              "    <tr>\n",
              "      <th>1985-02-01</th>\n",
              "      <td>27.23</td>\n",
              "    </tr>\n",
              "    <tr>\n",
              "      <th>1985-03-01</th>\n",
              "      <td>27.22</td>\n",
              "    </tr>\n",
              "    <tr>\n",
              "      <th>1985-04-01</th>\n",
              "      <td>27.36</td>\n",
              "    </tr>\n",
              "    <tr>\n",
              "      <th>1985-05-01</th>\n",
              "      <td>27.65</td>\n",
              "    </tr>\n",
              "  </tbody>\n",
              "</table>\n",
              "</div>\n",
              "      <button class=\"colab-df-convert\" onclick=\"convertToInteractive('df-a4a3826b-3c9d-41cc-8d0a-1163e647f969')\"\n",
              "              title=\"Convert this dataframe to an interactive table.\"\n",
              "              style=\"display:none;\">\n",
              "        \n",
              "  <svg xmlns=\"http://www.w3.org/2000/svg\" height=\"24px\"viewBox=\"0 0 24 24\"\n",
              "       width=\"24px\">\n",
              "    <path d=\"M0 0h24v24H0V0z\" fill=\"none\"/>\n",
              "    <path d=\"M18.56 5.44l.94 2.06.94-2.06 2.06-.94-2.06-.94-.94-2.06-.94 2.06-2.06.94zm-11 1L8.5 8.5l.94-2.06 2.06-.94-2.06-.94L8.5 2.5l-.94 2.06-2.06.94zm10 10l.94 2.06.94-2.06 2.06-.94-2.06-.94-.94-2.06-.94 2.06-2.06.94z\"/><path d=\"M17.41 7.96l-1.37-1.37c-.4-.4-.92-.59-1.43-.59-.52 0-1.04.2-1.43.59L10.3 9.45l-7.72 7.72c-.78.78-.78 2.05 0 2.83L4 21.41c.39.39.9.59 1.41.59.51 0 1.02-.2 1.41-.59l7.78-7.78 2.81-2.81c.8-.78.8-2.07 0-2.86zM5.41 20L4 18.59l7.72-7.72 1.47 1.35L5.41 20z\"/>\n",
              "  </svg>\n",
              "      </button>\n",
              "      \n",
              "  <style>\n",
              "    .colab-df-container {\n",
              "      display:flex;\n",
              "      flex-wrap:wrap;\n",
              "      gap: 12px;\n",
              "    }\n",
              "\n",
              "    .colab-df-convert {\n",
              "      background-color: #E8F0FE;\n",
              "      border: none;\n",
              "      border-radius: 50%;\n",
              "      cursor: pointer;\n",
              "      display: none;\n",
              "      fill: #1967D2;\n",
              "      height: 32px;\n",
              "      padding: 0 0 0 0;\n",
              "      width: 32px;\n",
              "    }\n",
              "\n",
              "    .colab-df-convert:hover {\n",
              "      background-color: #E2EBFA;\n",
              "      box-shadow: 0px 1px 2px rgba(60, 64, 67, 0.3), 0px 1px 3px 1px rgba(60, 64, 67, 0.15);\n",
              "      fill: #174EA6;\n",
              "    }\n",
              "\n",
              "    [theme=dark] .colab-df-convert {\n",
              "      background-color: #3B4455;\n",
              "      fill: #D2E3FC;\n",
              "    }\n",
              "\n",
              "    [theme=dark] .colab-df-convert:hover {\n",
              "      background-color: #434B5C;\n",
              "      box-shadow: 0px 1px 3px 1px rgba(0, 0, 0, 0.15);\n",
              "      filter: drop-shadow(0px 1px 2px rgba(0, 0, 0, 0.3));\n",
              "      fill: #FFFFFF;\n",
              "    }\n",
              "  </style>\n",
              "\n",
              "      <script>\n",
              "        const buttonEl =\n",
              "          document.querySelector('#df-a4a3826b-3c9d-41cc-8d0a-1163e647f969 button.colab-df-convert');\n",
              "        buttonEl.style.display =\n",
              "          google.colab.kernel.accessAllowed ? 'block' : 'none';\n",
              "\n",
              "        async function convertToInteractive(key) {\n",
              "          const element = document.querySelector('#df-a4a3826b-3c9d-41cc-8d0a-1163e647f969');\n",
              "          const dataTable =\n",
              "            await google.colab.kernel.invokeFunction('convertToInteractive',\n",
              "                                                     [key], {});\n",
              "          if (!dataTable) return;\n",
              "\n",
              "          const docLinkHtml = 'Like what you see? Visit the ' +\n",
              "            '<a target=\"_blank\" href=https://colab.research.google.com/notebooks/data_table.ipynb>data table notebook</a>'\n",
              "            + ' to learn more about interactive tables.';\n",
              "          element.innerHTML = '';\n",
              "          dataTable['output_type'] = 'display_data';\n",
              "          await google.colab.output.renderOutput(dataTable, element);\n",
              "          const docLink = document.createElement('div');\n",
              "          docLink.innerHTML = docLinkHtml;\n",
              "          element.appendChild(docLink);\n",
              "        }\n",
              "      </script>\n",
              "    </div>\n",
              "  </div>\n",
              "  "
            ]
          },
          "metadata": {},
          "execution_count": 5
        }
      ]
    },
    {
      "cell_type": "code",
      "source": [
        "# Dataframe shape\n",
        "print(f'Dataframe has : {jkt.shape[0]} rows and {jkt.shape[1]} columns')"
      ],
      "metadata": {
        "colab": {
          "base_uri": "https://localhost:8080/"
        },
        "id": "e4g2uFPS0JoI",
        "outputId": "9a4e93dd-9235-4fa2-d5ac-233a2a355377"
      },
      "execution_count": null,
      "outputs": [
        {
          "output_type": "stream",
          "name": "stdout",
          "text": [
            "Dataframe has : 345 rows and 1 columns\n"
          ]
        }
      ]
    },
    {
      "cell_type": "markdown",
      "source": [
        "## **2. EXPLORATORY DATA ANALYSIS**"
      ],
      "metadata": {
        "id": "1TZLQD_dzeHx"
      }
    },
    {
      "cell_type": "markdown",
      "source": [
        "### **Temperature Changes Yearly**"
      ],
      "metadata": {
        "id": "0p7DOw4R0jz8"
      }
    },
    {
      "cell_type": "code",
      "source": [
        "# Plot the temperature changes\n",
        "def plot_temp(df, y = str) :\n",
        "  fig = px.line(df, x = df.index, y = y, title = 'Temperature Changes in Jakarta' )\n",
        "  fig.show()"
      ],
      "metadata": {
        "id": "5fhGluLmzhzG"
      },
      "execution_count": null,
      "outputs": []
    },
    {
      "cell_type": "code",
      "source": [
        "plot_temp(jkt, 'Temp')"
      ],
      "metadata": {
        "colab": {
          "base_uri": "https://localhost:8080/",
          "height": 542
        },
        "id": "5-wCHsgz_Www",
        "outputId": "bc87cfdf-cb60-48e5-bb22-c5f244ad0d3a"
      },
      "execution_count": null,
      "outputs": [
        {
          "output_type": "display_data",
          "data": {
            "text/html": [
              "<html>\n",
              "<head><meta charset=\"utf-8\" /></head>\n",
              "<body>\n",
              "    <div>            <script src=\"https://cdnjs.cloudflare.com/ajax/libs/mathjax/2.7.5/MathJax.js?config=TeX-AMS-MML_SVG\"></script><script type=\"text/javascript\">if (window.MathJax) {MathJax.Hub.Config({SVG: {font: \"STIX-Web\"}});}</script>                <script type=\"text/javascript\">window.PlotlyConfig = {MathJaxConfig: 'local'};</script>\n",
              "        <script src=\"https://cdn.plot.ly/plotly-2.8.3.min.js\"></script>                <div id=\"d26efa2c-7fc4-4e43-bc59-14be1cde84bd\" class=\"plotly-graph-div\" style=\"height:525px; width:100%;\"></div>            <script type=\"text/javascript\">                                    window.PLOTLYENV=window.PLOTLYENV || {};                                    if (document.getElementById(\"d26efa2c-7fc4-4e43-bc59-14be1cde84bd\")) {                    Plotly.newPlot(                        \"d26efa2c-7fc4-4e43-bc59-14be1cde84bd\",                        [{\"hovertemplate\":\"Date=%{x}<br>Temp=%{y}<extra></extra>\",\"legendgroup\":\"\",\"line\":{\"color\":\"#636efa\",\"dash\":\"solid\"},\"marker\":{\"symbol\":\"circle\"},\"mode\":\"lines\",\"name\":\"\",\"orientation\":\"v\",\"showlegend\":false,\"x\":[\"1985-01-01T00:00:00\",\"1985-02-01T00:00:00\",\"1985-03-01T00:00:00\",\"1985-04-01T00:00:00\",\"1985-05-01T00:00:00\",\"1985-06-01T00:00:00\",\"1985-07-01T00:00:00\",\"1985-08-01T00:00:00\",\"1985-09-01T00:00:00\",\"1985-10-01T00:00:00\",\"1985-11-01T00:00:00\",\"1985-12-01T00:00:00\",\"1986-01-01T00:00:00\",\"1986-02-01T00:00:00\",\"1986-03-01T00:00:00\",\"1986-04-01T00:00:00\",\"1986-05-01T00:00:00\",\"1986-06-01T00:00:00\",\"1986-07-01T00:00:00\",\"1986-08-01T00:00:00\",\"1986-09-01T00:00:00\",\"1986-10-01T00:00:00\",\"1986-11-01T00:00:00\",\"1986-12-01T00:00:00\",\"1987-01-01T00:00:00\",\"1987-02-01T00:00:00\",\"1987-03-01T00:00:00\",\"1987-04-01T00:00:00\",\"1987-05-01T00:00:00\",\"1987-06-01T00:00:00\",\"1987-07-01T00:00:00\",\"1987-08-01T00:00:00\",\"1987-09-01T00:00:00\",\"1987-10-01T00:00:00\",\"1987-11-01T00:00:00\",\"1987-12-01T00:00:00\",\"1988-01-01T00:00:00\",\"1988-02-01T00:00:00\",\"1988-03-01T00:00:00\",\"1988-04-01T00:00:00\",\"1988-05-01T00:00:00\",\"1988-06-01T00:00:00\",\"1988-07-01T00:00:00\",\"1988-08-01T00:00:00\",\"1988-09-01T00:00:00\",\"1988-10-01T00:00:00\",\"1988-11-01T00:00:00\",\"1988-12-01T00:00:00\",\"1989-01-01T00:00:00\",\"1989-02-01T00:00:00\",\"1989-03-01T00:00:00\",\"1989-04-01T00:00:00\",\"1989-05-01T00:00:00\",\"1989-06-01T00:00:00\",\"1989-07-01T00:00:00\",\"1989-08-01T00:00:00\",\"1989-09-01T00:00:00\",\"1989-10-01T00:00:00\",\"1989-11-01T00:00:00\",\"1989-12-01T00:00:00\",\"1990-01-01T00:00:00\",\"1990-02-01T00:00:00\",\"1990-03-01T00:00:00\",\"1990-04-01T00:00:00\",\"1990-05-01T00:00:00\",\"1990-06-01T00:00:00\",\"1990-07-01T00:00:00\",\"1990-08-01T00:00:00\",\"1990-09-01T00:00:00\",\"1990-10-01T00:00:00\",\"1990-11-01T00:00:00\",\"1990-12-01T00:00:00\",\"1991-01-01T00:00:00\",\"1991-02-01T00:00:00\",\"1991-03-01T00:00:00\",\"1991-04-01T00:00:00\",\"1991-05-01T00:00:00\",\"1991-06-01T00:00:00\",\"1991-07-01T00:00:00\",\"1991-08-01T00:00:00\",\"1991-09-01T00:00:00\",\"1991-10-01T00:00:00\",\"1991-11-01T00:00:00\",\"1991-12-01T00:00:00\",\"1992-01-01T00:00:00\",\"1992-02-01T00:00:00\",\"1992-03-01T00:00:00\",\"1992-04-01T00:00:00\",\"1992-05-01T00:00:00\",\"1992-06-01T00:00:00\",\"1992-07-01T00:00:00\",\"1992-08-01T00:00:00\",\"1992-09-01T00:00:00\",\"1992-10-01T00:00:00\",\"1992-11-01T00:00:00\",\"1992-12-01T00:00:00\",\"1993-01-01T00:00:00\",\"1993-02-01T00:00:00\",\"1993-03-01T00:00:00\",\"1993-04-01T00:00:00\",\"1993-05-01T00:00:00\",\"1993-06-01T00:00:00\",\"1993-07-01T00:00:00\",\"1993-08-01T00:00:00\",\"1993-09-01T00:00:00\",\"1993-10-01T00:00:00\",\"1993-11-01T00:00:00\",\"1993-12-01T00:00:00\",\"1994-01-01T00:00:00\",\"1994-02-01T00:00:00\",\"1994-03-01T00:00:00\",\"1994-04-01T00:00:00\",\"1994-05-01T00:00:00\",\"1994-06-01T00:00:00\",\"1994-07-01T00:00:00\",\"1994-08-01T00:00:00\",\"1994-09-01T00:00:00\",\"1994-10-01T00:00:00\",\"1994-11-01T00:00:00\",\"1994-12-01T00:00:00\",\"1995-01-01T00:00:00\",\"1995-02-01T00:00:00\",\"1995-03-01T00:00:00\",\"1995-04-01T00:00:00\",\"1995-05-01T00:00:00\",\"1995-06-01T00:00:00\",\"1995-07-01T00:00:00\",\"1995-08-01T00:00:00\",\"1995-09-01T00:00:00\",\"1995-10-01T00:00:00\",\"1995-11-01T00:00:00\",\"1995-12-01T00:00:00\",\"1996-01-01T00:00:00\",\"1996-02-01T00:00:00\",\"1996-03-01T00:00:00\",\"1996-04-01T00:00:00\",\"1996-05-01T00:00:00\",\"1996-06-01T00:00:00\",\"1996-07-01T00:00:00\",\"1996-08-01T00:00:00\",\"1996-09-01T00:00:00\",\"1996-10-01T00:00:00\",\"1996-11-01T00:00:00\",\"1996-12-01T00:00:00\",\"1997-01-01T00:00:00\",\"1997-02-01T00:00:00\",\"1997-03-01T00:00:00\",\"1997-04-01T00:00:00\",\"1997-05-01T00:00:00\",\"1997-06-01T00:00:00\",\"1997-07-01T00:00:00\",\"1997-08-01T00:00:00\",\"1997-09-01T00:00:00\",\"1997-10-01T00:00:00\",\"1997-11-01T00:00:00\",\"1997-12-01T00:00:00\",\"1998-01-01T00:00:00\",\"1998-02-01T00:00:00\",\"1998-03-01T00:00:00\",\"1998-04-01T00:00:00\",\"1998-05-01T00:00:00\",\"1998-06-01T00:00:00\",\"1998-07-01T00:00:00\",\"1998-08-01T00:00:00\",\"1998-09-01T00:00:00\",\"1998-10-01T00:00:00\",\"1998-11-01T00:00:00\",\"1998-12-01T00:00:00\",\"1999-01-01T00:00:00\",\"1999-02-01T00:00:00\",\"1999-03-01T00:00:00\",\"1999-04-01T00:00:00\",\"1999-05-01T00:00:00\",\"1999-06-01T00:00:00\",\"1999-07-01T00:00:00\",\"1999-08-01T00:00:00\",\"1999-09-01T00:00:00\",\"1999-10-01T00:00:00\",\"1999-11-01T00:00:00\",\"1999-12-01T00:00:00\",\"2000-01-01T00:00:00\",\"2000-02-01T00:00:00\",\"2000-03-01T00:00:00\",\"2000-04-01T00:00:00\",\"2000-05-01T00:00:00\",\"2000-06-01T00:00:00\",\"2000-07-01T00:00:00\",\"2000-08-01T00:00:00\",\"2000-09-01T00:00:00\",\"2000-10-01T00:00:00\",\"2000-11-01T00:00:00\",\"2000-12-01T00:00:00\",\"2001-01-01T00:00:00\",\"2001-02-01T00:00:00\",\"2001-03-01T00:00:00\",\"2001-04-01T00:00:00\",\"2001-05-01T00:00:00\",\"2001-06-01T00:00:00\",\"2001-07-01T00:00:00\",\"2001-08-01T00:00:00\",\"2001-09-01T00:00:00\",\"2001-10-01T00:00:00\",\"2001-11-01T00:00:00\",\"2001-12-01T00:00:00\",\"2002-01-01T00:00:00\",\"2002-02-01T00:00:00\",\"2002-03-01T00:00:00\",\"2002-04-01T00:00:00\",\"2002-05-01T00:00:00\",\"2002-06-01T00:00:00\",\"2002-07-01T00:00:00\",\"2002-08-01T00:00:00\",\"2002-09-01T00:00:00\",\"2002-10-01T00:00:00\",\"2002-11-01T00:00:00\",\"2002-12-01T00:00:00\",\"2003-01-01T00:00:00\",\"2003-02-01T00:00:00\",\"2003-03-01T00:00:00\",\"2003-04-01T00:00:00\",\"2003-05-01T00:00:00\",\"2003-06-01T00:00:00\",\"2003-07-01T00:00:00\",\"2003-08-01T00:00:00\",\"2003-09-01T00:00:00\",\"2003-10-01T00:00:00\",\"2003-11-01T00:00:00\",\"2003-12-01T00:00:00\",\"2004-01-01T00:00:00\",\"2004-02-01T00:00:00\",\"2004-03-01T00:00:00\",\"2004-04-01T00:00:00\",\"2004-05-01T00:00:00\",\"2004-06-01T00:00:00\",\"2004-07-01T00:00:00\",\"2004-08-01T00:00:00\",\"2004-09-01T00:00:00\",\"2004-10-01T00:00:00\",\"2004-11-01T00:00:00\",\"2004-12-01T00:00:00\",\"2005-01-01T00:00:00\",\"2005-02-01T00:00:00\",\"2005-03-01T00:00:00\",\"2005-04-01T00:00:00\",\"2005-05-01T00:00:00\",\"2005-06-01T00:00:00\",\"2005-07-01T00:00:00\",\"2005-08-01T00:00:00\",\"2005-09-01T00:00:00\",\"2005-10-01T00:00:00\",\"2005-11-01T00:00:00\",\"2005-12-01T00:00:00\",\"2006-01-01T00:00:00\",\"2006-02-01T00:00:00\",\"2006-03-01T00:00:00\",\"2006-04-01T00:00:00\",\"2006-05-01T00:00:00\",\"2006-06-01T00:00:00\",\"2006-07-01T00:00:00\",\"2006-08-01T00:00:00\",\"2006-09-01T00:00:00\",\"2006-10-01T00:00:00\",\"2006-11-01T00:00:00\",\"2006-12-01T00:00:00\",\"2007-01-01T00:00:00\",\"2007-02-01T00:00:00\",\"2007-03-01T00:00:00\",\"2007-04-01T00:00:00\",\"2007-05-01T00:00:00\",\"2007-06-01T00:00:00\",\"2007-07-01T00:00:00\",\"2007-08-01T00:00:00\",\"2007-09-01T00:00:00\",\"2007-10-01T00:00:00\",\"2007-11-01T00:00:00\",\"2007-12-01T00:00:00\",\"2008-01-01T00:00:00\",\"2008-02-01T00:00:00\",\"2008-03-01T00:00:00\",\"2008-04-01T00:00:00\",\"2008-05-01T00:00:00\",\"2008-06-01T00:00:00\",\"2008-07-01T00:00:00\",\"2008-08-01T00:00:00\",\"2008-09-01T00:00:00\",\"2008-10-01T00:00:00\",\"2008-11-01T00:00:00\",\"2008-12-01T00:00:00\",\"2009-01-01T00:00:00\",\"2009-02-01T00:00:00\",\"2009-03-01T00:00:00\",\"2009-04-01T00:00:00\",\"2009-05-01T00:00:00\",\"2009-06-01T00:00:00\",\"2009-07-01T00:00:00\",\"2009-08-01T00:00:00\",\"2009-09-01T00:00:00\",\"2009-10-01T00:00:00\",\"2009-11-01T00:00:00\",\"2009-12-01T00:00:00\",\"2010-01-01T00:00:00\",\"2010-02-01T00:00:00\",\"2010-03-01T00:00:00\",\"2010-04-01T00:00:00\",\"2010-05-01T00:00:00\",\"2010-06-01T00:00:00\",\"2010-07-01T00:00:00\",\"2010-08-01T00:00:00\",\"2010-09-01T00:00:00\",\"2010-10-01T00:00:00\",\"2010-11-01T00:00:00\",\"2010-12-01T00:00:00\",\"2011-01-01T00:00:00\",\"2011-02-01T00:00:00\",\"2011-03-01T00:00:00\",\"2011-04-01T00:00:00\",\"2011-05-01T00:00:00\",\"2011-06-01T00:00:00\",\"2011-07-01T00:00:00\",\"2011-08-01T00:00:00\",\"2011-09-01T00:00:00\",\"2011-10-01T00:00:00\",\"2011-11-01T00:00:00\",\"2011-12-01T00:00:00\",\"2012-01-01T00:00:00\",\"2012-02-01T00:00:00\",\"2012-03-01T00:00:00\",\"2012-04-01T00:00:00\",\"2012-05-01T00:00:00\",\"2012-06-01T00:00:00\",\"2012-07-01T00:00:00\",\"2012-08-01T00:00:00\",\"2012-09-01T00:00:00\",\"2012-10-01T00:00:00\",\"2012-11-01T00:00:00\",\"2012-12-01T00:00:00\",\"2013-01-01T00:00:00\",\"2013-02-01T00:00:00\",\"2013-03-01T00:00:00\",\"2013-04-01T00:00:00\",\"2013-05-01T00:00:00\",\"2013-06-01T00:00:00\",\"2013-07-01T00:00:00\",\"2013-08-01T00:00:00\",\"2013-09-01T00:00:00\"],\"xaxis\":\"x\",\"y\":[26.15,27.23,27.22,27.36,27.65,27.06,26.2,26.75,26.68,26.66,26.66,26.64,26.03,26.5,26.9,27.24,28.04,27.26,26.58,26.46,26.36,26.29,26.21,26.53,26.03,26.39,27.53,27.64,27.8,27.79,27.48,26.97,27.34,27.5,27.38,26.47,26.58,27.05,27.34,27.93,27.86,27.42,27.12,26.54,27.01,26.69,26.67,25.92,26.62,26.0,26.99,27.1,27.37,27.38,27.27,26.94,26.96,26.7,26.93,26.4,26.22,27.24,27.13,27.89,27.84,27.37,26.77,26.74,26.94,26.95,27.2,26.34,26.65,26.73,27.33,27.48,27.8,27.59,27.05,26.76,26.87,27.18,26.54,26.44,26.71,27.07,27.71,27.63,27.93,27.55,26.83,26.59,26.46,26.17,26.45,26.37,26.6,26.76,27.2,27.22,27.8,27.49,27.16,26.92,26.7,27.0,26.87,26.81,26.49,27.03,27.08,27.43,27.54,27.39,26.66,26.73,26.98,27.39,27.69,27.09,26.86,27.06,27.27,27.8,28.02,27.6,26.98,26.96,26.95,26.81,26.68,26.76,26.31,26.77,27.61,27.66,28.14,27.63,27.45,26.86,27.02,26.41,26.67,26.3,26.37,27.08,27.8,27.39,27.96,27.63,26.95,26.92,27.14,27.68,27.81,27.69,28.04,27.94,28.26,28.29,28.76,27.72,27.11,27.04,27.19,26.7,27.02,26.96,26.55,26.92,27.74,28.05,27.52,27.35,26.64,26.54,27.08,26.48,26.78,26.51,26.61,27.06,27.7,27.69,28.05,27.11,27.09,26.59,27.34,26.98,26.87,27.28,26.82,26.74,27.46,27.47,28.1,27.2,27.17,27.14,27.01,26.7,26.79,26.99,26.67,26.86,27.68,27.58,28.2,27.88,27.34,27.14,27.15,27.57,27.39,27.35,27.61,27.05,27.84,28.11,28.38,28.16,27.54,27.43,27.18,27.04,27.32,26.55,27.16,27.06,27.75,28.21,27.97,27.52,26.96,27.1,27.46,27.64,27.36,26.9,26.61,27.17,27.6,27.98,28.19,27.61,27.08,26.99,27.19,26.82,26.8,26.62,26.46,27.29,27.46,27.53,27.84,27.42,27.32,26.9,27.1,27.89,28.12,27.33,27.41,26.8,27.48,27.53,28.0,27.34,27.15,26.94,27.08,27.06,27.23,26.46,27.09,26.44,27.0,27.36,27.83,27.22,26.88,26.68,26.97,26.8,26.86,26.53,26.29,26.51,27.44,27.81,27.99,27.8,27.28,27.29,27.73,27.3,27.1,27.19,26.79,27.57,27.9,28.61,28.49,27.39,27.04,27.09,26.3,26.32,26.88,26.6,26.56,27.03,27.24,27.65,27.89,27.71,27.07,27.09,27.21,27.04,27.18,27.25,26.91,27.29,27.69,27.61,28.13,27.72,27.1,27.05,27.43,27.32,27.09,27.01,26.74,27.34,27.72,27.64,27.94,27.88,26.86,26.87,null],\"yaxis\":\"y\",\"type\":\"scatter\"}],                        {\"template\":{\"data\":{\"bar\":[{\"error_x\":{\"color\":\"#2a3f5f\"},\"error_y\":{\"color\":\"#2a3f5f\"},\"marker\":{\"line\":{\"color\":\"#E5ECF6\",\"width\":0.5},\"pattern\":{\"fillmode\":\"overlay\",\"size\":10,\"solidity\":0.2}},\"type\":\"bar\"}],\"barpolar\":[{\"marker\":{\"line\":{\"color\":\"#E5ECF6\",\"width\":0.5},\"pattern\":{\"fillmode\":\"overlay\",\"size\":10,\"solidity\":0.2}},\"type\":\"barpolar\"}],\"carpet\":[{\"aaxis\":{\"endlinecolor\":\"#2a3f5f\",\"gridcolor\":\"white\",\"linecolor\":\"white\",\"minorgridcolor\":\"white\",\"startlinecolor\":\"#2a3f5f\"},\"baxis\":{\"endlinecolor\":\"#2a3f5f\",\"gridcolor\":\"white\",\"linecolor\":\"white\",\"minorgridcolor\":\"white\",\"startlinecolor\":\"#2a3f5f\"},\"type\":\"carpet\"}],\"choropleth\":[{\"colorbar\":{\"outlinewidth\":0,\"ticks\":\"\"},\"type\":\"choropleth\"}],\"contour\":[{\"colorbar\":{\"outlinewidth\":0,\"ticks\":\"\"},\"colorscale\":[[0.0,\"#0d0887\"],[0.1111111111111111,\"#46039f\"],[0.2222222222222222,\"#7201a8\"],[0.3333333333333333,\"#9c179e\"],[0.4444444444444444,\"#bd3786\"],[0.5555555555555556,\"#d8576b\"],[0.6666666666666666,\"#ed7953\"],[0.7777777777777778,\"#fb9f3a\"],[0.8888888888888888,\"#fdca26\"],[1.0,\"#f0f921\"]],\"type\":\"contour\"}],\"contourcarpet\":[{\"colorbar\":{\"outlinewidth\":0,\"ticks\":\"\"},\"type\":\"contourcarpet\"}],\"heatmap\":[{\"colorbar\":{\"outlinewidth\":0,\"ticks\":\"\"},\"colorscale\":[[0.0,\"#0d0887\"],[0.1111111111111111,\"#46039f\"],[0.2222222222222222,\"#7201a8\"],[0.3333333333333333,\"#9c179e\"],[0.4444444444444444,\"#bd3786\"],[0.5555555555555556,\"#d8576b\"],[0.6666666666666666,\"#ed7953\"],[0.7777777777777778,\"#fb9f3a\"],[0.8888888888888888,\"#fdca26\"],[1.0,\"#f0f921\"]],\"type\":\"heatmap\"}],\"heatmapgl\":[{\"colorbar\":{\"outlinewidth\":0,\"ticks\":\"\"},\"colorscale\":[[0.0,\"#0d0887\"],[0.1111111111111111,\"#46039f\"],[0.2222222222222222,\"#7201a8\"],[0.3333333333333333,\"#9c179e\"],[0.4444444444444444,\"#bd3786\"],[0.5555555555555556,\"#d8576b\"],[0.6666666666666666,\"#ed7953\"],[0.7777777777777778,\"#fb9f3a\"],[0.8888888888888888,\"#fdca26\"],[1.0,\"#f0f921\"]],\"type\":\"heatmapgl\"}],\"histogram\":[{\"marker\":{\"pattern\":{\"fillmode\":\"overlay\",\"size\":10,\"solidity\":0.2}},\"type\":\"histogram\"}],\"histogram2d\":[{\"colorbar\":{\"outlinewidth\":0,\"ticks\":\"\"},\"colorscale\":[[0.0,\"#0d0887\"],[0.1111111111111111,\"#46039f\"],[0.2222222222222222,\"#7201a8\"],[0.3333333333333333,\"#9c179e\"],[0.4444444444444444,\"#bd3786\"],[0.5555555555555556,\"#d8576b\"],[0.6666666666666666,\"#ed7953\"],[0.7777777777777778,\"#fb9f3a\"],[0.8888888888888888,\"#fdca26\"],[1.0,\"#f0f921\"]],\"type\":\"histogram2d\"}],\"histogram2dcontour\":[{\"colorbar\":{\"outlinewidth\":0,\"ticks\":\"\"},\"colorscale\":[[0.0,\"#0d0887\"],[0.1111111111111111,\"#46039f\"],[0.2222222222222222,\"#7201a8\"],[0.3333333333333333,\"#9c179e\"],[0.4444444444444444,\"#bd3786\"],[0.5555555555555556,\"#d8576b\"],[0.6666666666666666,\"#ed7953\"],[0.7777777777777778,\"#fb9f3a\"],[0.8888888888888888,\"#fdca26\"],[1.0,\"#f0f921\"]],\"type\":\"histogram2dcontour\"}],\"mesh3d\":[{\"colorbar\":{\"outlinewidth\":0,\"ticks\":\"\"},\"type\":\"mesh3d\"}],\"parcoords\":[{\"line\":{\"colorbar\":{\"outlinewidth\":0,\"ticks\":\"\"}},\"type\":\"parcoords\"}],\"pie\":[{\"automargin\":true,\"type\":\"pie\"}],\"scatter\":[{\"marker\":{\"colorbar\":{\"outlinewidth\":0,\"ticks\":\"\"}},\"type\":\"scatter\"}],\"scatter3d\":[{\"line\":{\"colorbar\":{\"outlinewidth\":0,\"ticks\":\"\"}},\"marker\":{\"colorbar\":{\"outlinewidth\":0,\"ticks\":\"\"}},\"type\":\"scatter3d\"}],\"scattercarpet\":[{\"marker\":{\"colorbar\":{\"outlinewidth\":0,\"ticks\":\"\"}},\"type\":\"scattercarpet\"}],\"scattergeo\":[{\"marker\":{\"colorbar\":{\"outlinewidth\":0,\"ticks\":\"\"}},\"type\":\"scattergeo\"}],\"scattergl\":[{\"marker\":{\"colorbar\":{\"outlinewidth\":0,\"ticks\":\"\"}},\"type\":\"scattergl\"}],\"scattermapbox\":[{\"marker\":{\"colorbar\":{\"outlinewidth\":0,\"ticks\":\"\"}},\"type\":\"scattermapbox\"}],\"scatterpolar\":[{\"marker\":{\"colorbar\":{\"outlinewidth\":0,\"ticks\":\"\"}},\"type\":\"scatterpolar\"}],\"scatterpolargl\":[{\"marker\":{\"colorbar\":{\"outlinewidth\":0,\"ticks\":\"\"}},\"type\":\"scatterpolargl\"}],\"scatterternary\":[{\"marker\":{\"colorbar\":{\"outlinewidth\":0,\"ticks\":\"\"}},\"type\":\"scatterternary\"}],\"surface\":[{\"colorbar\":{\"outlinewidth\":0,\"ticks\":\"\"},\"colorscale\":[[0.0,\"#0d0887\"],[0.1111111111111111,\"#46039f\"],[0.2222222222222222,\"#7201a8\"],[0.3333333333333333,\"#9c179e\"],[0.4444444444444444,\"#bd3786\"],[0.5555555555555556,\"#d8576b\"],[0.6666666666666666,\"#ed7953\"],[0.7777777777777778,\"#fb9f3a\"],[0.8888888888888888,\"#fdca26\"],[1.0,\"#f0f921\"]],\"type\":\"surface\"}],\"table\":[{\"cells\":{\"fill\":{\"color\":\"#EBF0F8\"},\"line\":{\"color\":\"white\"}},\"header\":{\"fill\":{\"color\":\"#C8D4E3\"},\"line\":{\"color\":\"white\"}},\"type\":\"table\"}]},\"layout\":{\"annotationdefaults\":{\"arrowcolor\":\"#2a3f5f\",\"arrowhead\":0,\"arrowwidth\":1},\"autotypenumbers\":\"strict\",\"coloraxis\":{\"colorbar\":{\"outlinewidth\":0,\"ticks\":\"\"}},\"colorscale\":{\"diverging\":[[0,\"#8e0152\"],[0.1,\"#c51b7d\"],[0.2,\"#de77ae\"],[0.3,\"#f1b6da\"],[0.4,\"#fde0ef\"],[0.5,\"#f7f7f7\"],[0.6,\"#e6f5d0\"],[0.7,\"#b8e186\"],[0.8,\"#7fbc41\"],[0.9,\"#4d9221\"],[1,\"#276419\"]],\"sequential\":[[0.0,\"#0d0887\"],[0.1111111111111111,\"#46039f\"],[0.2222222222222222,\"#7201a8\"],[0.3333333333333333,\"#9c179e\"],[0.4444444444444444,\"#bd3786\"],[0.5555555555555556,\"#d8576b\"],[0.6666666666666666,\"#ed7953\"],[0.7777777777777778,\"#fb9f3a\"],[0.8888888888888888,\"#fdca26\"],[1.0,\"#f0f921\"]],\"sequentialminus\":[[0.0,\"#0d0887\"],[0.1111111111111111,\"#46039f\"],[0.2222222222222222,\"#7201a8\"],[0.3333333333333333,\"#9c179e\"],[0.4444444444444444,\"#bd3786\"],[0.5555555555555556,\"#d8576b\"],[0.6666666666666666,\"#ed7953\"],[0.7777777777777778,\"#fb9f3a\"],[0.8888888888888888,\"#fdca26\"],[1.0,\"#f0f921\"]]},\"colorway\":[\"#636efa\",\"#EF553B\",\"#00cc96\",\"#ab63fa\",\"#FFA15A\",\"#19d3f3\",\"#FF6692\",\"#B6E880\",\"#FF97FF\",\"#FECB52\"],\"font\":{\"color\":\"#2a3f5f\"},\"geo\":{\"bgcolor\":\"white\",\"lakecolor\":\"white\",\"landcolor\":\"#E5ECF6\",\"showlakes\":true,\"showland\":true,\"subunitcolor\":\"white\"},\"hoverlabel\":{\"align\":\"left\"},\"hovermode\":\"closest\",\"mapbox\":{\"style\":\"light\"},\"paper_bgcolor\":\"white\",\"plot_bgcolor\":\"#E5ECF6\",\"polar\":{\"angularaxis\":{\"gridcolor\":\"white\",\"linecolor\":\"white\",\"ticks\":\"\"},\"bgcolor\":\"#E5ECF6\",\"radialaxis\":{\"gridcolor\":\"white\",\"linecolor\":\"white\",\"ticks\":\"\"}},\"scene\":{\"xaxis\":{\"backgroundcolor\":\"#E5ECF6\",\"gridcolor\":\"white\",\"gridwidth\":2,\"linecolor\":\"white\",\"showbackground\":true,\"ticks\":\"\",\"zerolinecolor\":\"white\"},\"yaxis\":{\"backgroundcolor\":\"#E5ECF6\",\"gridcolor\":\"white\",\"gridwidth\":2,\"linecolor\":\"white\",\"showbackground\":true,\"ticks\":\"\",\"zerolinecolor\":\"white\"},\"zaxis\":{\"backgroundcolor\":\"#E5ECF6\",\"gridcolor\":\"white\",\"gridwidth\":2,\"linecolor\":\"white\",\"showbackground\":true,\"ticks\":\"\",\"zerolinecolor\":\"white\"}},\"shapedefaults\":{\"line\":{\"color\":\"#2a3f5f\"}},\"ternary\":{\"aaxis\":{\"gridcolor\":\"white\",\"linecolor\":\"white\",\"ticks\":\"\"},\"baxis\":{\"gridcolor\":\"white\",\"linecolor\":\"white\",\"ticks\":\"\"},\"bgcolor\":\"#E5ECF6\",\"caxis\":{\"gridcolor\":\"white\",\"linecolor\":\"white\",\"ticks\":\"\"}},\"title\":{\"x\":0.05},\"xaxis\":{\"automargin\":true,\"gridcolor\":\"white\",\"linecolor\":\"white\",\"ticks\":\"\",\"title\":{\"standoff\":15},\"zerolinecolor\":\"white\",\"zerolinewidth\":2},\"yaxis\":{\"automargin\":true,\"gridcolor\":\"white\",\"linecolor\":\"white\",\"ticks\":\"\",\"title\":{\"standoff\":15},\"zerolinecolor\":\"white\",\"zerolinewidth\":2}}},\"xaxis\":{\"anchor\":\"y\",\"domain\":[0.0,1.0],\"title\":{\"text\":\"Date\"}},\"yaxis\":{\"anchor\":\"x\",\"domain\":[0.0,1.0],\"title\":{\"text\":\"Temp\"}},\"legend\":{\"tracegroupgap\":0},\"title\":{\"text\":\"Temperature Changes in Jakarta\"}},                        {\"responsive\": true}                    ).then(function(){\n",
              "                            \n",
              "var gd = document.getElementById('d26efa2c-7fc4-4e43-bc59-14be1cde84bd');\n",
              "var x = new MutationObserver(function (mutations, observer) {{\n",
              "        var display = window.getComputedStyle(gd).display;\n",
              "        if (!display || display === 'none') {{\n",
              "            console.log([gd, 'removed!']);\n",
              "            Plotly.purge(gd);\n",
              "            observer.disconnect();\n",
              "        }}\n",
              "}});\n",
              "\n",
              "// Listen for the removal of the full notebook cells\n",
              "var notebookContainer = gd.closest('#notebook-container');\n",
              "if (notebookContainer) {{\n",
              "    x.observe(notebookContainer, {childList: true});\n",
              "}}\n",
              "\n",
              "// Listen for the clearing of the current output cell\n",
              "var outputEl = gd.closest('.output');\n",
              "if (outputEl) {{\n",
              "    x.observe(outputEl, {childList: true});\n",
              "}}\n",
              "\n",
              "                        })                };                            </script>        </div>\n",
              "</body>\n",
              "</html>"
            ]
          },
          "metadata": {}
        }
      ]
    },
    {
      "cell_type": "markdown",
      "source": [
        "### **Temperature Changes Monthly**"
      ],
      "metadata": {
        "id": "c2qDIi-40_d2"
      }
    },
    {
      "cell_type": "code",
      "source": [
        "# Pivot table\n",
        "df = jkt.copy()\n",
        "df['Month'] = df.index.month\n",
        "df['Year'] = df.index.year\n",
        "monthly = pd.pivot_table(df, values = 'Temp', index = 'Month', columns = 'Year', aggfunc = 'mean').mean(axis=1).to_frame()\n",
        "monthly.columns = ['Temp']\n",
        "monthly = monthly.round(decimals = 2)\n",
        "\n",
        "# Visualization\n",
        "plot_temp(monthly, 'Temp')"
      ],
      "metadata": {
        "colab": {
          "base_uri": "https://localhost:8080/",
          "height": 542
        },
        "id": "_YzVxDqy1DDx",
        "outputId": "3cafb0d1-c32b-4ed5-cc6b-451bd5c4543e"
      },
      "execution_count": null,
      "outputs": [
        {
          "output_type": "display_data",
          "data": {
            "text/html": [
              "<html>\n",
              "<head><meta charset=\"utf-8\" /></head>\n",
              "<body>\n",
              "    <div>            <script src=\"https://cdnjs.cloudflare.com/ajax/libs/mathjax/2.7.5/MathJax.js?config=TeX-AMS-MML_SVG\"></script><script type=\"text/javascript\">if (window.MathJax) {MathJax.Hub.Config({SVG: {font: \"STIX-Web\"}});}</script>                <script type=\"text/javascript\">window.PlotlyConfig = {MathJaxConfig: 'local'};</script>\n",
              "        <script src=\"https://cdn.plot.ly/plotly-2.8.3.min.js\"></script>                <div id=\"05908a04-60a5-44a0-a12a-53053dae3823\" class=\"plotly-graph-div\" style=\"height:525px; width:100%;\"></div>            <script type=\"text/javascript\">                                    window.PLOTLYENV=window.PLOTLYENV || {};                                    if (document.getElementById(\"05908a04-60a5-44a0-a12a-53053dae3823\")) {                    Plotly.newPlot(                        \"05908a04-60a5-44a0-a12a-53053dae3823\",                        [{\"hovertemplate\":\"Month=%{x}<br>Temp=%{y}<extra></extra>\",\"legendgroup\":\"\",\"line\":{\"color\":\"#636efa\",\"dash\":\"solid\"},\"marker\":{\"symbol\":\"circle\"},\"mode\":\"lines\",\"name\":\"\",\"orientation\":\"v\",\"showlegend\":false,\"x\":[1,2,3,4,5,6,7,8,9,10,11,12],\"xaxis\":\"x\",\"y\":[26.69,26.96,27.49,27.69,27.97,27.52,27.04,26.9,27.03,26.97,27.02,26.76],\"yaxis\":\"y\",\"type\":\"scatter\"}],                        {\"template\":{\"data\":{\"bar\":[{\"error_x\":{\"color\":\"#2a3f5f\"},\"error_y\":{\"color\":\"#2a3f5f\"},\"marker\":{\"line\":{\"color\":\"#E5ECF6\",\"width\":0.5},\"pattern\":{\"fillmode\":\"overlay\",\"size\":10,\"solidity\":0.2}},\"type\":\"bar\"}],\"barpolar\":[{\"marker\":{\"line\":{\"color\":\"#E5ECF6\",\"width\":0.5},\"pattern\":{\"fillmode\":\"overlay\",\"size\":10,\"solidity\":0.2}},\"type\":\"barpolar\"}],\"carpet\":[{\"aaxis\":{\"endlinecolor\":\"#2a3f5f\",\"gridcolor\":\"white\",\"linecolor\":\"white\",\"minorgridcolor\":\"white\",\"startlinecolor\":\"#2a3f5f\"},\"baxis\":{\"endlinecolor\":\"#2a3f5f\",\"gridcolor\":\"white\",\"linecolor\":\"white\",\"minorgridcolor\":\"white\",\"startlinecolor\":\"#2a3f5f\"},\"type\":\"carpet\"}],\"choropleth\":[{\"colorbar\":{\"outlinewidth\":0,\"ticks\":\"\"},\"type\":\"choropleth\"}],\"contour\":[{\"colorbar\":{\"outlinewidth\":0,\"ticks\":\"\"},\"colorscale\":[[0.0,\"#0d0887\"],[0.1111111111111111,\"#46039f\"],[0.2222222222222222,\"#7201a8\"],[0.3333333333333333,\"#9c179e\"],[0.4444444444444444,\"#bd3786\"],[0.5555555555555556,\"#d8576b\"],[0.6666666666666666,\"#ed7953\"],[0.7777777777777778,\"#fb9f3a\"],[0.8888888888888888,\"#fdca26\"],[1.0,\"#f0f921\"]],\"type\":\"contour\"}],\"contourcarpet\":[{\"colorbar\":{\"outlinewidth\":0,\"ticks\":\"\"},\"type\":\"contourcarpet\"}],\"heatmap\":[{\"colorbar\":{\"outlinewidth\":0,\"ticks\":\"\"},\"colorscale\":[[0.0,\"#0d0887\"],[0.1111111111111111,\"#46039f\"],[0.2222222222222222,\"#7201a8\"],[0.3333333333333333,\"#9c179e\"],[0.4444444444444444,\"#bd3786\"],[0.5555555555555556,\"#d8576b\"],[0.6666666666666666,\"#ed7953\"],[0.7777777777777778,\"#fb9f3a\"],[0.8888888888888888,\"#fdca26\"],[1.0,\"#f0f921\"]],\"type\":\"heatmap\"}],\"heatmapgl\":[{\"colorbar\":{\"outlinewidth\":0,\"ticks\":\"\"},\"colorscale\":[[0.0,\"#0d0887\"],[0.1111111111111111,\"#46039f\"],[0.2222222222222222,\"#7201a8\"],[0.3333333333333333,\"#9c179e\"],[0.4444444444444444,\"#bd3786\"],[0.5555555555555556,\"#d8576b\"],[0.6666666666666666,\"#ed7953\"],[0.7777777777777778,\"#fb9f3a\"],[0.8888888888888888,\"#fdca26\"],[1.0,\"#f0f921\"]],\"type\":\"heatmapgl\"}],\"histogram\":[{\"marker\":{\"pattern\":{\"fillmode\":\"overlay\",\"size\":10,\"solidity\":0.2}},\"type\":\"histogram\"}],\"histogram2d\":[{\"colorbar\":{\"outlinewidth\":0,\"ticks\":\"\"},\"colorscale\":[[0.0,\"#0d0887\"],[0.1111111111111111,\"#46039f\"],[0.2222222222222222,\"#7201a8\"],[0.3333333333333333,\"#9c179e\"],[0.4444444444444444,\"#bd3786\"],[0.5555555555555556,\"#d8576b\"],[0.6666666666666666,\"#ed7953\"],[0.7777777777777778,\"#fb9f3a\"],[0.8888888888888888,\"#fdca26\"],[1.0,\"#f0f921\"]],\"type\":\"histogram2d\"}],\"histogram2dcontour\":[{\"colorbar\":{\"outlinewidth\":0,\"ticks\":\"\"},\"colorscale\":[[0.0,\"#0d0887\"],[0.1111111111111111,\"#46039f\"],[0.2222222222222222,\"#7201a8\"],[0.3333333333333333,\"#9c179e\"],[0.4444444444444444,\"#bd3786\"],[0.5555555555555556,\"#d8576b\"],[0.6666666666666666,\"#ed7953\"],[0.7777777777777778,\"#fb9f3a\"],[0.8888888888888888,\"#fdca26\"],[1.0,\"#f0f921\"]],\"type\":\"histogram2dcontour\"}],\"mesh3d\":[{\"colorbar\":{\"outlinewidth\":0,\"ticks\":\"\"},\"type\":\"mesh3d\"}],\"parcoords\":[{\"line\":{\"colorbar\":{\"outlinewidth\":0,\"ticks\":\"\"}},\"type\":\"parcoords\"}],\"pie\":[{\"automargin\":true,\"type\":\"pie\"}],\"scatter\":[{\"marker\":{\"colorbar\":{\"outlinewidth\":0,\"ticks\":\"\"}},\"type\":\"scatter\"}],\"scatter3d\":[{\"line\":{\"colorbar\":{\"outlinewidth\":0,\"ticks\":\"\"}},\"marker\":{\"colorbar\":{\"outlinewidth\":0,\"ticks\":\"\"}},\"type\":\"scatter3d\"}],\"scattercarpet\":[{\"marker\":{\"colorbar\":{\"outlinewidth\":0,\"ticks\":\"\"}},\"type\":\"scattercarpet\"}],\"scattergeo\":[{\"marker\":{\"colorbar\":{\"outlinewidth\":0,\"ticks\":\"\"}},\"type\":\"scattergeo\"}],\"scattergl\":[{\"marker\":{\"colorbar\":{\"outlinewidth\":0,\"ticks\":\"\"}},\"type\":\"scattergl\"}],\"scattermapbox\":[{\"marker\":{\"colorbar\":{\"outlinewidth\":0,\"ticks\":\"\"}},\"type\":\"scattermapbox\"}],\"scatterpolar\":[{\"marker\":{\"colorbar\":{\"outlinewidth\":0,\"ticks\":\"\"}},\"type\":\"scatterpolar\"}],\"scatterpolargl\":[{\"marker\":{\"colorbar\":{\"outlinewidth\":0,\"ticks\":\"\"}},\"type\":\"scatterpolargl\"}],\"scatterternary\":[{\"marker\":{\"colorbar\":{\"outlinewidth\":0,\"ticks\":\"\"}},\"type\":\"scatterternary\"}],\"surface\":[{\"colorbar\":{\"outlinewidth\":0,\"ticks\":\"\"},\"colorscale\":[[0.0,\"#0d0887\"],[0.1111111111111111,\"#46039f\"],[0.2222222222222222,\"#7201a8\"],[0.3333333333333333,\"#9c179e\"],[0.4444444444444444,\"#bd3786\"],[0.5555555555555556,\"#d8576b\"],[0.6666666666666666,\"#ed7953\"],[0.7777777777777778,\"#fb9f3a\"],[0.8888888888888888,\"#fdca26\"],[1.0,\"#f0f921\"]],\"type\":\"surface\"}],\"table\":[{\"cells\":{\"fill\":{\"color\":\"#EBF0F8\"},\"line\":{\"color\":\"white\"}},\"header\":{\"fill\":{\"color\":\"#C8D4E3\"},\"line\":{\"color\":\"white\"}},\"type\":\"table\"}]},\"layout\":{\"annotationdefaults\":{\"arrowcolor\":\"#2a3f5f\",\"arrowhead\":0,\"arrowwidth\":1},\"autotypenumbers\":\"strict\",\"coloraxis\":{\"colorbar\":{\"outlinewidth\":0,\"ticks\":\"\"}},\"colorscale\":{\"diverging\":[[0,\"#8e0152\"],[0.1,\"#c51b7d\"],[0.2,\"#de77ae\"],[0.3,\"#f1b6da\"],[0.4,\"#fde0ef\"],[0.5,\"#f7f7f7\"],[0.6,\"#e6f5d0\"],[0.7,\"#b8e186\"],[0.8,\"#7fbc41\"],[0.9,\"#4d9221\"],[1,\"#276419\"]],\"sequential\":[[0.0,\"#0d0887\"],[0.1111111111111111,\"#46039f\"],[0.2222222222222222,\"#7201a8\"],[0.3333333333333333,\"#9c179e\"],[0.4444444444444444,\"#bd3786\"],[0.5555555555555556,\"#d8576b\"],[0.6666666666666666,\"#ed7953\"],[0.7777777777777778,\"#fb9f3a\"],[0.8888888888888888,\"#fdca26\"],[1.0,\"#f0f921\"]],\"sequentialminus\":[[0.0,\"#0d0887\"],[0.1111111111111111,\"#46039f\"],[0.2222222222222222,\"#7201a8\"],[0.3333333333333333,\"#9c179e\"],[0.4444444444444444,\"#bd3786\"],[0.5555555555555556,\"#d8576b\"],[0.6666666666666666,\"#ed7953\"],[0.7777777777777778,\"#fb9f3a\"],[0.8888888888888888,\"#fdca26\"],[1.0,\"#f0f921\"]]},\"colorway\":[\"#636efa\",\"#EF553B\",\"#00cc96\",\"#ab63fa\",\"#FFA15A\",\"#19d3f3\",\"#FF6692\",\"#B6E880\",\"#FF97FF\",\"#FECB52\"],\"font\":{\"color\":\"#2a3f5f\"},\"geo\":{\"bgcolor\":\"white\",\"lakecolor\":\"white\",\"landcolor\":\"#E5ECF6\",\"showlakes\":true,\"showland\":true,\"subunitcolor\":\"white\"},\"hoverlabel\":{\"align\":\"left\"},\"hovermode\":\"closest\",\"mapbox\":{\"style\":\"light\"},\"paper_bgcolor\":\"white\",\"plot_bgcolor\":\"#E5ECF6\",\"polar\":{\"angularaxis\":{\"gridcolor\":\"white\",\"linecolor\":\"white\",\"ticks\":\"\"},\"bgcolor\":\"#E5ECF6\",\"radialaxis\":{\"gridcolor\":\"white\",\"linecolor\":\"white\",\"ticks\":\"\"}},\"scene\":{\"xaxis\":{\"backgroundcolor\":\"#E5ECF6\",\"gridcolor\":\"white\",\"gridwidth\":2,\"linecolor\":\"white\",\"showbackground\":true,\"ticks\":\"\",\"zerolinecolor\":\"white\"},\"yaxis\":{\"backgroundcolor\":\"#E5ECF6\",\"gridcolor\":\"white\",\"gridwidth\":2,\"linecolor\":\"white\",\"showbackground\":true,\"ticks\":\"\",\"zerolinecolor\":\"white\"},\"zaxis\":{\"backgroundcolor\":\"#E5ECF6\",\"gridcolor\":\"white\",\"gridwidth\":2,\"linecolor\":\"white\",\"showbackground\":true,\"ticks\":\"\",\"zerolinecolor\":\"white\"}},\"shapedefaults\":{\"line\":{\"color\":\"#2a3f5f\"}},\"ternary\":{\"aaxis\":{\"gridcolor\":\"white\",\"linecolor\":\"white\",\"ticks\":\"\"},\"baxis\":{\"gridcolor\":\"white\",\"linecolor\":\"white\",\"ticks\":\"\"},\"bgcolor\":\"#E5ECF6\",\"caxis\":{\"gridcolor\":\"white\",\"linecolor\":\"white\",\"ticks\":\"\"}},\"title\":{\"x\":0.05},\"xaxis\":{\"automargin\":true,\"gridcolor\":\"white\",\"linecolor\":\"white\",\"ticks\":\"\",\"title\":{\"standoff\":15},\"zerolinecolor\":\"white\",\"zerolinewidth\":2},\"yaxis\":{\"automargin\":true,\"gridcolor\":\"white\",\"linecolor\":\"white\",\"ticks\":\"\",\"title\":{\"standoff\":15},\"zerolinecolor\":\"white\",\"zerolinewidth\":2}}},\"xaxis\":{\"anchor\":\"y\",\"domain\":[0.0,1.0],\"title\":{\"text\":\"Month\"}},\"yaxis\":{\"anchor\":\"x\",\"domain\":[0.0,1.0],\"title\":{\"text\":\"Temp\"}},\"legend\":{\"tracegroupgap\":0},\"title\":{\"text\":\"Temperature Changes in Jakarta\"}},                        {\"responsive\": true}                    ).then(function(){\n",
              "                            \n",
              "var gd = document.getElementById('05908a04-60a5-44a0-a12a-53053dae3823');\n",
              "var x = new MutationObserver(function (mutations, observer) {{\n",
              "        var display = window.getComputedStyle(gd).display;\n",
              "        if (!display || display === 'none') {{\n",
              "            console.log([gd, 'removed!']);\n",
              "            Plotly.purge(gd);\n",
              "            observer.disconnect();\n",
              "        }}\n",
              "}});\n",
              "\n",
              "// Listen for the removal of the full notebook cells\n",
              "var notebookContainer = gd.closest('#notebook-container');\n",
              "if (notebookContainer) {{\n",
              "    x.observe(notebookContainer, {childList: true});\n",
              "}}\n",
              "\n",
              "// Listen for the clearing of the current output cell\n",
              "var outputEl = gd.closest('.output');\n",
              "if (outputEl) {{\n",
              "    x.observe(outputEl, {childList: true});\n",
              "}}\n",
              "\n",
              "                        })                };                            </script>        </div>\n",
              "</body>\n",
              "</html>"
            ]
          },
          "metadata": {}
        }
      ]
    },
    {
      "cell_type": "markdown",
      "source": [
        "It can be seen that the highest temperature in Jakarta was in May throughout years. Furthermore, temperature increased from January to May and then decreased until December. It makes sense because May is dry season in Indonesia."
      ],
      "metadata": {
        "id": "V-rC385m8iIi"
      }
    },
    {
      "cell_type": "markdown",
      "source": [
        "### **Check Missing Values**"
      ],
      "metadata": {
        "id": "e3lVm12wBTRv"
      }
    },
    {
      "cell_type": "code",
      "source": [
        "# Check NaN values\n",
        "print(f'NaN value of dataframe : {jkt.isna().sum()}')\n",
        "\n",
        "# Data interpolation\n",
        "jkt = jkt.interpolate()"
      ],
      "metadata": {
        "colab": {
          "base_uri": "https://localhost:8080/"
        },
        "id": "M0diLm8cBcFX",
        "outputId": "7d8ff88d-1489-42a5-872f-578d1a61a7db"
      },
      "execution_count": null,
      "outputs": [
        {
          "output_type": "stream",
          "name": "stdout",
          "text": [
            "NaN value of dataframe : Temp    1\n",
            "dtype: int64\n"
          ]
        }
      ]
    },
    {
      "cell_type": "markdown",
      "source": [
        "There is one missing value in this dataset. I applied interpolation method to fill the missing value."
      ],
      "metadata": {
        "id": "E4YUd5KQ6mNW"
      }
    },
    {
      "cell_type": "markdown",
      "source": [
        "### **Check Outliers**"
      ],
      "metadata": {
        "id": "veTyDE9LuPbe"
      }
    },
    {
      "cell_type": "code",
      "source": [
        "# Using Isolation forest to detect outliers\n",
        "outliers = jkt.copy()\n",
        "clf=IsolationForest(n_estimators=100, max_samples='auto', contamination=float(0.003), max_features=1.0, bootstrap=False, n_jobs=-1, random_state=42, verbose=0)\n",
        "clf.fit(outliers[['Temp']])\n",
        "outliers['scores']=clf.decision_function(outliers[['Temp']])\n",
        "outliers['anomaly']=clf.predict(outliers[['Temp']])\n",
        "outliers.loc[outliers['anomaly'] == 1,'anomaly'] = 0\n",
        "outliers.loc[outliers['anomaly'] == -1,'anomaly'] = 1\n",
        "outliers.head()"
      ],
      "metadata": {
        "colab": {
          "base_uri": "https://localhost:8080/",
          "height": 237
        },
        "id": "g-FMoMyUuV9D",
        "outputId": "b97e1d90-cd5d-41ba-aba2-5f923a33df99"
      },
      "execution_count": null,
      "outputs": [
        {
          "output_type": "execute_result",
          "data": {
            "text/plain": [
              "             Temp    scores  anomaly\n",
              "Date                                \n",
              "1985-01-01  26.15  0.099822        0\n",
              "1985-02-01  27.23  0.283081        0\n",
              "1985-03-01  27.22  0.286284        0\n",
              "1985-04-01  27.36  0.289144        0\n",
              "1985-05-01  27.65  0.275573        0"
            ],
            "text/html": [
              "\n",
              "  <div id=\"df-4a2f6b89-8bd9-4962-ab60-a2caa9c5a4c6\">\n",
              "    <div class=\"colab-df-container\">\n",
              "      <div>\n",
              "<style scoped>\n",
              "    .dataframe tbody tr th:only-of-type {\n",
              "        vertical-align: middle;\n",
              "    }\n",
              "\n",
              "    .dataframe tbody tr th {\n",
              "        vertical-align: top;\n",
              "    }\n",
              "\n",
              "    .dataframe thead th {\n",
              "        text-align: right;\n",
              "    }\n",
              "</style>\n",
              "<table border=\"1\" class=\"dataframe\">\n",
              "  <thead>\n",
              "    <tr style=\"text-align: right;\">\n",
              "      <th></th>\n",
              "      <th>Temp</th>\n",
              "      <th>scores</th>\n",
              "      <th>anomaly</th>\n",
              "    </tr>\n",
              "    <tr>\n",
              "      <th>Date</th>\n",
              "      <th></th>\n",
              "      <th></th>\n",
              "      <th></th>\n",
              "    </tr>\n",
              "  </thead>\n",
              "  <tbody>\n",
              "    <tr>\n",
              "      <th>1985-01-01</th>\n",
              "      <td>26.15</td>\n",
              "      <td>0.099822</td>\n",
              "      <td>0</td>\n",
              "    </tr>\n",
              "    <tr>\n",
              "      <th>1985-02-01</th>\n",
              "      <td>27.23</td>\n",
              "      <td>0.283081</td>\n",
              "      <td>0</td>\n",
              "    </tr>\n",
              "    <tr>\n",
              "      <th>1985-03-01</th>\n",
              "      <td>27.22</td>\n",
              "      <td>0.286284</td>\n",
              "      <td>0</td>\n",
              "    </tr>\n",
              "    <tr>\n",
              "      <th>1985-04-01</th>\n",
              "      <td>27.36</td>\n",
              "      <td>0.289144</td>\n",
              "      <td>0</td>\n",
              "    </tr>\n",
              "    <tr>\n",
              "      <th>1985-05-01</th>\n",
              "      <td>27.65</td>\n",
              "      <td>0.275573</td>\n",
              "      <td>0</td>\n",
              "    </tr>\n",
              "  </tbody>\n",
              "</table>\n",
              "</div>\n",
              "      <button class=\"colab-df-convert\" onclick=\"convertToInteractive('df-4a2f6b89-8bd9-4962-ab60-a2caa9c5a4c6')\"\n",
              "              title=\"Convert this dataframe to an interactive table.\"\n",
              "              style=\"display:none;\">\n",
              "        \n",
              "  <svg xmlns=\"http://www.w3.org/2000/svg\" height=\"24px\"viewBox=\"0 0 24 24\"\n",
              "       width=\"24px\">\n",
              "    <path d=\"M0 0h24v24H0V0z\" fill=\"none\"/>\n",
              "    <path d=\"M18.56 5.44l.94 2.06.94-2.06 2.06-.94-2.06-.94-.94-2.06-.94 2.06-2.06.94zm-11 1L8.5 8.5l.94-2.06 2.06-.94-2.06-.94L8.5 2.5l-.94 2.06-2.06.94zm10 10l.94 2.06.94-2.06 2.06-.94-2.06-.94-.94-2.06-.94 2.06-2.06.94z\"/><path d=\"M17.41 7.96l-1.37-1.37c-.4-.4-.92-.59-1.43-.59-.52 0-1.04.2-1.43.59L10.3 9.45l-7.72 7.72c-.78.78-.78 2.05 0 2.83L4 21.41c.39.39.9.59 1.41.59.51 0 1.02-.2 1.41-.59l7.78-7.78 2.81-2.81c.8-.78.8-2.07 0-2.86zM5.41 20L4 18.59l7.72-7.72 1.47 1.35L5.41 20z\"/>\n",
              "  </svg>\n",
              "      </button>\n",
              "      \n",
              "  <style>\n",
              "    .colab-df-container {\n",
              "      display:flex;\n",
              "      flex-wrap:wrap;\n",
              "      gap: 12px;\n",
              "    }\n",
              "\n",
              "    .colab-df-convert {\n",
              "      background-color: #E8F0FE;\n",
              "      border: none;\n",
              "      border-radius: 50%;\n",
              "      cursor: pointer;\n",
              "      display: none;\n",
              "      fill: #1967D2;\n",
              "      height: 32px;\n",
              "      padding: 0 0 0 0;\n",
              "      width: 32px;\n",
              "    }\n",
              "\n",
              "    .colab-df-convert:hover {\n",
              "      background-color: #E2EBFA;\n",
              "      box-shadow: 0px 1px 2px rgba(60, 64, 67, 0.3), 0px 1px 3px 1px rgba(60, 64, 67, 0.15);\n",
              "      fill: #174EA6;\n",
              "    }\n",
              "\n",
              "    [theme=dark] .colab-df-convert {\n",
              "      background-color: #3B4455;\n",
              "      fill: #D2E3FC;\n",
              "    }\n",
              "\n",
              "    [theme=dark] .colab-df-convert:hover {\n",
              "      background-color: #434B5C;\n",
              "      box-shadow: 0px 1px 3px 1px rgba(0, 0, 0, 0.15);\n",
              "      filter: drop-shadow(0px 1px 2px rgba(0, 0, 0, 0.3));\n",
              "      fill: #FFFFFF;\n",
              "    }\n",
              "  </style>\n",
              "\n",
              "      <script>\n",
              "        const buttonEl =\n",
              "          document.querySelector('#df-4a2f6b89-8bd9-4962-ab60-a2caa9c5a4c6 button.colab-df-convert');\n",
              "        buttonEl.style.display =\n",
              "          google.colab.kernel.accessAllowed ? 'block' : 'none';\n",
              "\n",
              "        async function convertToInteractive(key) {\n",
              "          const element = document.querySelector('#df-4a2f6b89-8bd9-4962-ab60-a2caa9c5a4c6');\n",
              "          const dataTable =\n",
              "            await google.colab.kernel.invokeFunction('convertToInteractive',\n",
              "                                                     [key], {});\n",
              "          if (!dataTable) return;\n",
              "\n",
              "          const docLinkHtml = 'Like what you see? Visit the ' +\n",
              "            '<a target=\"_blank\" href=https://colab.research.google.com/notebooks/data_table.ipynb>data table notebook</a>'\n",
              "            + ' to learn more about interactive tables.';\n",
              "          element.innerHTML = '';\n",
              "          dataTable['output_type'] = 'display_data';\n",
              "          await google.colab.output.renderOutput(dataTable, element);\n",
              "          const docLink = document.createElement('div');\n",
              "          docLink.innerHTML = docLinkHtml;\n",
              "          element.appendChild(docLink);\n",
              "        }\n",
              "      </script>\n",
              "    </div>\n",
              "  </div>\n",
              "  "
            ]
          },
          "metadata": {},
          "execution_count": 12
        }
      ]
    },
    {
      "cell_type": "code",
      "source": [
        "def plot_anomaly(df,metric_name):\n",
        "  df.reset_index(inplace = True)\n",
        "  Date = df.Date\n",
        "  #identify the anomaly points and create a array of its values for plot\n",
        "  bool_array = (abs(df['anomaly']) > 0)\n",
        "  actuals = df['Temp'][-len(bool_array):]\n",
        "  anomaly_points = bool_array * actuals\n",
        "  anomaly_points[anomaly_points == 0] = np.nan\n",
        "\n",
        "  # Table which includes Date,Actuals,Change occured from previous point\n",
        "  table = go.Table(domain=dict(x=[0, 1], y=[0, 0.3]),columnwidth=[1, 2],\n",
        "                   header=dict(height=20, values=[['<b>Date</b>'], ['<b>Actual Values </b>'],],\n",
        "                               font=dict(color=['rgb(45, 45, 45)'] * 5, size=14)), \n",
        "                   cells=dict(values=[df.round(3)[k].tolist() for k in ['Date', 'Temp']], line=dict(color='#506784'),\n",
        "                              align=['center'] * 5,font=dict(color=['rgb(40, 40, 40)'] * 5, size=12),suffix=[None] + [''] + [''] + ['%'] + [''],\n",
        "                              height=27))\n",
        "  Actuals = go.Scatter(name='Actuals', x=Date, y=df['Temp'], xaxis='x1', yaxis='y1', mode='lines', marker=dict(size=12, line=dict(width=1),\n",
        "                                                                                                              color=\"blue\"))\n",
        "    #Highlight the anomaly points\n",
        "  anomalies_map = go.Scatter(name='Outlier',showlegend=True, x=Date, y=anomaly_points, mode='markers',\n",
        "                             xaxis='x1', yaxis='y1',marker=dict(color=\"red\",size=11, line=dict(color=\"red\", width=2)))\n",
        "  axis = dict(showline=True, zeroline=False,showgrid=True, mirror=True,ticklen=4, gridcolor='#ffffff',tickfont=dict(size=10))\n",
        "  layout = dict(width=1000,height=865,autosize=False, title=metric_name, margin=dict(t=75),showlegend=True,\n",
        "        xaxis1=dict(axis, **dict(domain=[0, 1], anchor='y1', showticklabels=True)), \n",
        "        yaxis1=dict(axis, **dict(domain=[2 * 0.21 + 0.20, 1], anchor='x1', hoverformat='.2f')))\n",
        "  fig = go.Figure(data=[table, anomalies_map, Actuals], layout=layout)\n",
        "  fig.show()\n",
        "plot_anomaly(outliers,'Outliers Detection')"
      ],
      "metadata": {
        "colab": {
          "base_uri": "https://localhost:8080/",
          "height": 882
        },
        "id": "Ugyyf5t2ziL5",
        "outputId": "fdb740fd-fc1a-4819-e145-c370c8663b80"
      },
      "execution_count": null,
      "outputs": [
        {
          "output_type": "display_data",
          "data": {
            "text/html": [
              "<html>\n",
              "<head><meta charset=\"utf-8\" /></head>\n",
              "<body>\n",
              "    <div>            <script src=\"https://cdnjs.cloudflare.com/ajax/libs/mathjax/2.7.5/MathJax.js?config=TeX-AMS-MML_SVG\"></script><script type=\"text/javascript\">if (window.MathJax) {MathJax.Hub.Config({SVG: {font: \"STIX-Web\"}});}</script>                <script type=\"text/javascript\">window.PlotlyConfig = {MathJaxConfig: 'local'};</script>\n",
              "        <script src=\"https://cdn.plot.ly/plotly-2.8.3.min.js\"></script>                <div id=\"900ca01d-0988-4484-b9db-8bb85163bb99\" class=\"plotly-graph-div\" style=\"height:865px; width:1000px;\"></div>            <script type=\"text/javascript\">                                    window.PLOTLYENV=window.PLOTLYENV || {};                                    if (document.getElementById(\"900ca01d-0988-4484-b9db-8bb85163bb99\")) {                    Plotly.newPlot(                        \"900ca01d-0988-4484-b9db-8bb85163bb99\",                        [{\"cells\":{\"align\":[\"center\",\"center\",\"center\",\"center\",\"center\"],\"font\":{\"color\":[\"rgb(40, 40, 40)\",\"rgb(40, 40, 40)\",\"rgb(40, 40, 40)\",\"rgb(40, 40, 40)\",\"rgb(40, 40, 40)\"],\"size\":12},\"height\":27,\"line\":{\"color\":\"#506784\"},\"suffix\":[null,\"\",\"\",\"%\",\"\"],\"values\":[[\"1985-01-01T00:00:00\",\"1985-02-01T00:00:00\",\"1985-03-01T00:00:00\",\"1985-04-01T00:00:00\",\"1985-05-01T00:00:00\",\"1985-06-01T00:00:00\",\"1985-07-01T00:00:00\",\"1985-08-01T00:00:00\",\"1985-09-01T00:00:00\",\"1985-10-01T00:00:00\",\"1985-11-01T00:00:00\",\"1985-12-01T00:00:00\",\"1986-01-01T00:00:00\",\"1986-02-01T00:00:00\",\"1986-03-01T00:00:00\",\"1986-04-01T00:00:00\",\"1986-05-01T00:00:00\",\"1986-06-01T00:00:00\",\"1986-07-01T00:00:00\",\"1986-08-01T00:00:00\",\"1986-09-01T00:00:00\",\"1986-10-01T00:00:00\",\"1986-11-01T00:00:00\",\"1986-12-01T00:00:00\",\"1987-01-01T00:00:00\",\"1987-02-01T00:00:00\",\"1987-03-01T00:00:00\",\"1987-04-01T00:00:00\",\"1987-05-01T00:00:00\",\"1987-06-01T00:00:00\",\"1987-07-01T00:00:00\",\"1987-08-01T00:00:00\",\"1987-09-01T00:00:00\",\"1987-10-01T00:00:00\",\"1987-11-01T00:00:00\",\"1987-12-01T00:00:00\",\"1988-01-01T00:00:00\",\"1988-02-01T00:00:00\",\"1988-03-01T00:00:00\",\"1988-04-01T00:00:00\",\"1988-05-01T00:00:00\",\"1988-06-01T00:00:00\",\"1988-07-01T00:00:00\",\"1988-08-01T00:00:00\",\"1988-09-01T00:00:00\",\"1988-10-01T00:00:00\",\"1988-11-01T00:00:00\",\"1988-12-01T00:00:00\",\"1989-01-01T00:00:00\",\"1989-02-01T00:00:00\",\"1989-03-01T00:00:00\",\"1989-04-01T00:00:00\",\"1989-05-01T00:00:00\",\"1989-06-01T00:00:00\",\"1989-07-01T00:00:00\",\"1989-08-01T00:00:00\",\"1989-09-01T00:00:00\",\"1989-10-01T00:00:00\",\"1989-11-01T00:00:00\",\"1989-12-01T00:00:00\",\"1990-01-01T00:00:00\",\"1990-02-01T00:00:00\",\"1990-03-01T00:00:00\",\"1990-04-01T00:00:00\",\"1990-05-01T00:00:00\",\"1990-06-01T00:00:00\",\"1990-07-01T00:00:00\",\"1990-08-01T00:00:00\",\"1990-09-01T00:00:00\",\"1990-10-01T00:00:00\",\"1990-11-01T00:00:00\",\"1990-12-01T00:00:00\",\"1991-01-01T00:00:00\",\"1991-02-01T00:00:00\",\"1991-03-01T00:00:00\",\"1991-04-01T00:00:00\",\"1991-05-01T00:00:00\",\"1991-06-01T00:00:00\",\"1991-07-01T00:00:00\",\"1991-08-01T00:00:00\",\"1991-09-01T00:00:00\",\"1991-10-01T00:00:00\",\"1991-11-01T00:00:00\",\"1991-12-01T00:00:00\",\"1992-01-01T00:00:00\",\"1992-02-01T00:00:00\",\"1992-03-01T00:00:00\",\"1992-04-01T00:00:00\",\"1992-05-01T00:00:00\",\"1992-06-01T00:00:00\",\"1992-07-01T00:00:00\",\"1992-08-01T00:00:00\",\"1992-09-01T00:00:00\",\"1992-10-01T00:00:00\",\"1992-11-01T00:00:00\",\"1992-12-01T00:00:00\",\"1993-01-01T00:00:00\",\"1993-02-01T00:00:00\",\"1993-03-01T00:00:00\",\"1993-04-01T00:00:00\",\"1993-05-01T00:00:00\",\"1993-06-01T00:00:00\",\"1993-07-01T00:00:00\",\"1993-08-01T00:00:00\",\"1993-09-01T00:00:00\",\"1993-10-01T00:00:00\",\"1993-11-01T00:00:00\",\"1993-12-01T00:00:00\",\"1994-01-01T00:00:00\",\"1994-02-01T00:00:00\",\"1994-03-01T00:00:00\",\"1994-04-01T00:00:00\",\"1994-05-01T00:00:00\",\"1994-06-01T00:00:00\",\"1994-07-01T00:00:00\",\"1994-08-01T00:00:00\",\"1994-09-01T00:00:00\",\"1994-10-01T00:00:00\",\"1994-11-01T00:00:00\",\"1994-12-01T00:00:00\",\"1995-01-01T00:00:00\",\"1995-02-01T00:00:00\",\"1995-03-01T00:00:00\",\"1995-04-01T00:00:00\",\"1995-05-01T00:00:00\",\"1995-06-01T00:00:00\",\"1995-07-01T00:00:00\",\"1995-08-01T00:00:00\",\"1995-09-01T00:00:00\",\"1995-10-01T00:00:00\",\"1995-11-01T00:00:00\",\"1995-12-01T00:00:00\",\"1996-01-01T00:00:00\",\"1996-02-01T00:00:00\",\"1996-03-01T00:00:00\",\"1996-04-01T00:00:00\",\"1996-05-01T00:00:00\",\"1996-06-01T00:00:00\",\"1996-07-01T00:00:00\",\"1996-08-01T00:00:00\",\"1996-09-01T00:00:00\",\"1996-10-01T00:00:00\",\"1996-11-01T00:00:00\",\"1996-12-01T00:00:00\",\"1997-01-01T00:00:00\",\"1997-02-01T00:00:00\",\"1997-03-01T00:00:00\",\"1997-04-01T00:00:00\",\"1997-05-01T00:00:00\",\"1997-06-01T00:00:00\",\"1997-07-01T00:00:00\",\"1997-08-01T00:00:00\",\"1997-09-01T00:00:00\",\"1997-10-01T00:00:00\",\"1997-11-01T00:00:00\",\"1997-12-01T00:00:00\",\"1998-01-01T00:00:00\",\"1998-02-01T00:00:00\",\"1998-03-01T00:00:00\",\"1998-04-01T00:00:00\",\"1998-05-01T00:00:00\",\"1998-06-01T00:00:00\",\"1998-07-01T00:00:00\",\"1998-08-01T00:00:00\",\"1998-09-01T00:00:00\",\"1998-10-01T00:00:00\",\"1998-11-01T00:00:00\",\"1998-12-01T00:00:00\",\"1999-01-01T00:00:00\",\"1999-02-01T00:00:00\",\"1999-03-01T00:00:00\",\"1999-04-01T00:00:00\",\"1999-05-01T00:00:00\",\"1999-06-01T00:00:00\",\"1999-07-01T00:00:00\",\"1999-08-01T00:00:00\",\"1999-09-01T00:00:00\",\"1999-10-01T00:00:00\",\"1999-11-01T00:00:00\",\"1999-12-01T00:00:00\",\"2000-01-01T00:00:00\",\"2000-02-01T00:00:00\",\"2000-03-01T00:00:00\",\"2000-04-01T00:00:00\",\"2000-05-01T00:00:00\",\"2000-06-01T00:00:00\",\"2000-07-01T00:00:00\",\"2000-08-01T00:00:00\",\"2000-09-01T00:00:00\",\"2000-10-01T00:00:00\",\"2000-11-01T00:00:00\",\"2000-12-01T00:00:00\",\"2001-01-01T00:00:00\",\"2001-02-01T00:00:00\",\"2001-03-01T00:00:00\",\"2001-04-01T00:00:00\",\"2001-05-01T00:00:00\",\"2001-06-01T00:00:00\",\"2001-07-01T00:00:00\",\"2001-08-01T00:00:00\",\"2001-09-01T00:00:00\",\"2001-10-01T00:00:00\",\"2001-11-01T00:00:00\",\"2001-12-01T00:00:00\",\"2002-01-01T00:00:00\",\"2002-02-01T00:00:00\",\"2002-03-01T00:00:00\",\"2002-04-01T00:00:00\",\"2002-05-01T00:00:00\",\"2002-06-01T00:00:00\",\"2002-07-01T00:00:00\",\"2002-08-01T00:00:00\",\"2002-09-01T00:00:00\",\"2002-10-01T00:00:00\",\"2002-11-01T00:00:00\",\"2002-12-01T00:00:00\",\"2003-01-01T00:00:00\",\"2003-02-01T00:00:00\",\"2003-03-01T00:00:00\",\"2003-04-01T00:00:00\",\"2003-05-01T00:00:00\",\"2003-06-01T00:00:00\",\"2003-07-01T00:00:00\",\"2003-08-01T00:00:00\",\"2003-09-01T00:00:00\",\"2003-10-01T00:00:00\",\"2003-11-01T00:00:00\",\"2003-12-01T00:00:00\",\"2004-01-01T00:00:00\",\"2004-02-01T00:00:00\",\"2004-03-01T00:00:00\",\"2004-04-01T00:00:00\",\"2004-05-01T00:00:00\",\"2004-06-01T00:00:00\",\"2004-07-01T00:00:00\",\"2004-08-01T00:00:00\",\"2004-09-01T00:00:00\",\"2004-10-01T00:00:00\",\"2004-11-01T00:00:00\",\"2004-12-01T00:00:00\",\"2005-01-01T00:00:00\",\"2005-02-01T00:00:00\",\"2005-03-01T00:00:00\",\"2005-04-01T00:00:00\",\"2005-05-01T00:00:00\",\"2005-06-01T00:00:00\",\"2005-07-01T00:00:00\",\"2005-08-01T00:00:00\",\"2005-09-01T00:00:00\",\"2005-10-01T00:00:00\",\"2005-11-01T00:00:00\",\"2005-12-01T00:00:00\",\"2006-01-01T00:00:00\",\"2006-02-01T00:00:00\",\"2006-03-01T00:00:00\",\"2006-04-01T00:00:00\",\"2006-05-01T00:00:00\",\"2006-06-01T00:00:00\",\"2006-07-01T00:00:00\",\"2006-08-01T00:00:00\",\"2006-09-01T00:00:00\",\"2006-10-01T00:00:00\",\"2006-11-01T00:00:00\",\"2006-12-01T00:00:00\",\"2007-01-01T00:00:00\",\"2007-02-01T00:00:00\",\"2007-03-01T00:00:00\",\"2007-04-01T00:00:00\",\"2007-05-01T00:00:00\",\"2007-06-01T00:00:00\",\"2007-07-01T00:00:00\",\"2007-08-01T00:00:00\",\"2007-09-01T00:00:00\",\"2007-10-01T00:00:00\",\"2007-11-01T00:00:00\",\"2007-12-01T00:00:00\",\"2008-01-01T00:00:00\",\"2008-02-01T00:00:00\",\"2008-03-01T00:00:00\",\"2008-04-01T00:00:00\",\"2008-05-01T00:00:00\",\"2008-06-01T00:00:00\",\"2008-07-01T00:00:00\",\"2008-08-01T00:00:00\",\"2008-09-01T00:00:00\",\"2008-10-01T00:00:00\",\"2008-11-01T00:00:00\",\"2008-12-01T00:00:00\",\"2009-01-01T00:00:00\",\"2009-02-01T00:00:00\",\"2009-03-01T00:00:00\",\"2009-04-01T00:00:00\",\"2009-05-01T00:00:00\",\"2009-06-01T00:00:00\",\"2009-07-01T00:00:00\",\"2009-08-01T00:00:00\",\"2009-09-01T00:00:00\",\"2009-10-01T00:00:00\",\"2009-11-01T00:00:00\",\"2009-12-01T00:00:00\",\"2010-01-01T00:00:00\",\"2010-02-01T00:00:00\",\"2010-03-01T00:00:00\",\"2010-04-01T00:00:00\",\"2010-05-01T00:00:00\",\"2010-06-01T00:00:00\",\"2010-07-01T00:00:00\",\"2010-08-01T00:00:00\",\"2010-09-01T00:00:00\",\"2010-10-01T00:00:00\",\"2010-11-01T00:00:00\",\"2010-12-01T00:00:00\",\"2011-01-01T00:00:00\",\"2011-02-01T00:00:00\",\"2011-03-01T00:00:00\",\"2011-04-01T00:00:00\",\"2011-05-01T00:00:00\",\"2011-06-01T00:00:00\",\"2011-07-01T00:00:00\",\"2011-08-01T00:00:00\",\"2011-09-01T00:00:00\",\"2011-10-01T00:00:00\",\"2011-11-01T00:00:00\",\"2011-12-01T00:00:00\",\"2012-01-01T00:00:00\",\"2012-02-01T00:00:00\",\"2012-03-01T00:00:00\",\"2012-04-01T00:00:00\",\"2012-05-01T00:00:00\",\"2012-06-01T00:00:00\",\"2012-07-01T00:00:00\",\"2012-08-01T00:00:00\",\"2012-09-01T00:00:00\",\"2012-10-01T00:00:00\",\"2012-11-01T00:00:00\",\"2012-12-01T00:00:00\",\"2013-01-01T00:00:00\",\"2013-02-01T00:00:00\",\"2013-03-01T00:00:00\",\"2013-04-01T00:00:00\",\"2013-05-01T00:00:00\",\"2013-06-01T00:00:00\",\"2013-07-01T00:00:00\",\"2013-08-01T00:00:00\",\"2013-09-01T00:00:00\"],[26.15,27.23,27.22,27.36,27.65,27.06,26.2,26.75,26.68,26.66,26.66,26.64,26.03,26.5,26.9,27.24,28.04,27.26,26.58,26.46,26.36,26.29,26.21,26.53,26.03,26.39,27.53,27.64,27.8,27.79,27.48,26.97,27.34,27.5,27.38,26.47,26.58,27.05,27.34,27.93,27.86,27.42,27.12,26.54,27.01,26.69,26.67,25.92,26.62,26.0,26.99,27.1,27.37,27.38,27.27,26.94,26.96,26.7,26.93,26.4,26.22,27.24,27.13,27.89,27.84,27.37,26.77,26.74,26.94,26.95,27.2,26.34,26.65,26.73,27.33,27.48,27.8,27.59,27.05,26.76,26.87,27.18,26.54,26.44,26.71,27.07,27.71,27.63,27.93,27.55,26.83,26.59,26.46,26.17,26.45,26.37,26.6,26.76,27.2,27.22,27.8,27.49,27.16,26.92,26.7,27.0,26.87,26.81,26.49,27.03,27.08,27.43,27.54,27.39,26.66,26.73,26.98,27.39,27.69,27.09,26.86,27.06,27.27,27.8,28.02,27.6,26.98,26.96,26.95,26.81,26.68,26.76,26.31,26.77,27.61,27.66,28.14,27.63,27.45,26.86,27.02,26.41,26.67,26.3,26.37,27.08,27.8,27.39,27.96,27.63,26.95,26.92,27.14,27.68,27.81,27.69,28.04,27.94,28.26,28.29,28.76,27.72,27.11,27.04,27.19,26.7,27.02,26.96,26.55,26.92,27.74,28.05,27.52,27.35,26.64,26.54,27.08,26.48,26.78,26.51,26.61,27.06,27.7,27.69,28.05,27.11,27.09,26.59,27.34,26.98,26.87,27.28,26.82,26.74,27.46,27.47,28.1,27.2,27.17,27.14,27.01,26.7,26.79,26.99,26.67,26.86,27.68,27.58,28.2,27.88,27.34,27.14,27.15,27.57,27.39,27.35,27.61,27.05,27.84,28.11,28.38,28.16,27.54,27.43,27.18,27.04,27.32,26.55,27.16,27.06,27.75,28.21,27.97,27.52,26.96,27.1,27.46,27.64,27.36,26.9,26.61,27.17,27.6,27.98,28.19,27.61,27.08,26.99,27.19,26.82,26.8,26.62,26.46,27.29,27.46,27.53,27.84,27.42,27.32,26.9,27.1,27.89,28.12,27.33,27.41,26.8,27.48,27.53,28.0,27.34,27.15,26.94,27.08,27.06,27.23,26.46,27.09,26.44,27.0,27.36,27.83,27.22,26.88,26.68,26.97,26.8,26.86,26.53,26.29,26.51,27.44,27.81,27.99,27.8,27.28,27.29,27.73,27.3,27.1,27.19,26.79,27.57,27.9,28.61,28.49,27.39,27.04,27.09,26.3,26.32,26.88,26.6,26.56,27.03,27.24,27.65,27.89,27.71,27.07,27.09,27.21,27.04,27.18,27.25,26.91,27.29,27.69,27.61,28.13,27.72,27.1,27.05,27.43,27.32,27.09,27.01,26.74,27.34,27.72,27.64,27.94,27.88,26.86,26.87,26.87]]},\"columnwidth\":[1,2],\"domain\":{\"x\":[0,1],\"y\":[0,0.3]},\"header\":{\"font\":{\"color\":[\"rgb(45, 45, 45)\",\"rgb(45, 45, 45)\",\"rgb(45, 45, 45)\",\"rgb(45, 45, 45)\",\"rgb(45, 45, 45)\"],\"size\":14},\"height\":20,\"values\":[[\"<b>Date</b>\"],[\"<b>Actual Values </b>\"]]},\"type\":\"table\"},{\"marker\":{\"color\":\"red\",\"line\":{\"color\":\"red\",\"width\":2},\"size\":11},\"mode\":\"markers\",\"name\":\"Outlier\",\"showlegend\":true,\"x\":[\"1985-01-01T00:00:00\",\"1985-02-01T00:00:00\",\"1985-03-01T00:00:00\",\"1985-04-01T00:00:00\",\"1985-05-01T00:00:00\",\"1985-06-01T00:00:00\",\"1985-07-01T00:00:00\",\"1985-08-01T00:00:00\",\"1985-09-01T00:00:00\",\"1985-10-01T00:00:00\",\"1985-11-01T00:00:00\",\"1985-12-01T00:00:00\",\"1986-01-01T00:00:00\",\"1986-02-01T00:00:00\",\"1986-03-01T00:00:00\",\"1986-04-01T00:00:00\",\"1986-05-01T00:00:00\",\"1986-06-01T00:00:00\",\"1986-07-01T00:00:00\",\"1986-08-01T00:00:00\",\"1986-09-01T00:00:00\",\"1986-10-01T00:00:00\",\"1986-11-01T00:00:00\",\"1986-12-01T00:00:00\",\"1987-01-01T00:00:00\",\"1987-02-01T00:00:00\",\"1987-03-01T00:00:00\",\"1987-04-01T00:00:00\",\"1987-05-01T00:00:00\",\"1987-06-01T00:00:00\",\"1987-07-01T00:00:00\",\"1987-08-01T00:00:00\",\"1987-09-01T00:00:00\",\"1987-10-01T00:00:00\",\"1987-11-01T00:00:00\",\"1987-12-01T00:00:00\",\"1988-01-01T00:00:00\",\"1988-02-01T00:00:00\",\"1988-03-01T00:00:00\",\"1988-04-01T00:00:00\",\"1988-05-01T00:00:00\",\"1988-06-01T00:00:00\",\"1988-07-01T00:00:00\",\"1988-08-01T00:00:00\",\"1988-09-01T00:00:00\",\"1988-10-01T00:00:00\",\"1988-11-01T00:00:00\",\"1988-12-01T00:00:00\",\"1989-01-01T00:00:00\",\"1989-02-01T00:00:00\",\"1989-03-01T00:00:00\",\"1989-04-01T00:00:00\",\"1989-05-01T00:00:00\",\"1989-06-01T00:00:00\",\"1989-07-01T00:00:00\",\"1989-08-01T00:00:00\",\"1989-09-01T00:00:00\",\"1989-10-01T00:00:00\",\"1989-11-01T00:00:00\",\"1989-12-01T00:00:00\",\"1990-01-01T00:00:00\",\"1990-02-01T00:00:00\",\"1990-03-01T00:00:00\",\"1990-04-01T00:00:00\",\"1990-05-01T00:00:00\",\"1990-06-01T00:00:00\",\"1990-07-01T00:00:00\",\"1990-08-01T00:00:00\",\"1990-09-01T00:00:00\",\"1990-10-01T00:00:00\",\"1990-11-01T00:00:00\",\"1990-12-01T00:00:00\",\"1991-01-01T00:00:00\",\"1991-02-01T00:00:00\",\"1991-03-01T00:00:00\",\"1991-04-01T00:00:00\",\"1991-05-01T00:00:00\",\"1991-06-01T00:00:00\",\"1991-07-01T00:00:00\",\"1991-08-01T00:00:00\",\"1991-09-01T00:00:00\",\"1991-10-01T00:00:00\",\"1991-11-01T00:00:00\",\"1991-12-01T00:00:00\",\"1992-01-01T00:00:00\",\"1992-02-01T00:00:00\",\"1992-03-01T00:00:00\",\"1992-04-01T00:00:00\",\"1992-05-01T00:00:00\",\"1992-06-01T00:00:00\",\"1992-07-01T00:00:00\",\"1992-08-01T00:00:00\",\"1992-09-01T00:00:00\",\"1992-10-01T00:00:00\",\"1992-11-01T00:00:00\",\"1992-12-01T00:00:00\",\"1993-01-01T00:00:00\",\"1993-02-01T00:00:00\",\"1993-03-01T00:00:00\",\"1993-04-01T00:00:00\",\"1993-05-01T00:00:00\",\"1993-06-01T00:00:00\",\"1993-07-01T00:00:00\",\"1993-08-01T00:00:00\",\"1993-09-01T00:00:00\",\"1993-10-01T00:00:00\",\"1993-11-01T00:00:00\",\"1993-12-01T00:00:00\",\"1994-01-01T00:00:00\",\"1994-02-01T00:00:00\",\"1994-03-01T00:00:00\",\"1994-04-01T00:00:00\",\"1994-05-01T00:00:00\",\"1994-06-01T00:00:00\",\"1994-07-01T00:00:00\",\"1994-08-01T00:00:00\",\"1994-09-01T00:00:00\",\"1994-10-01T00:00:00\",\"1994-11-01T00:00:00\",\"1994-12-01T00:00:00\",\"1995-01-01T00:00:00\",\"1995-02-01T00:00:00\",\"1995-03-01T00:00:00\",\"1995-04-01T00:00:00\",\"1995-05-01T00:00:00\",\"1995-06-01T00:00:00\",\"1995-07-01T00:00:00\",\"1995-08-01T00:00:00\",\"1995-09-01T00:00:00\",\"1995-10-01T00:00:00\",\"1995-11-01T00:00:00\",\"1995-12-01T00:00:00\",\"1996-01-01T00:00:00\",\"1996-02-01T00:00:00\",\"1996-03-01T00:00:00\",\"1996-04-01T00:00:00\",\"1996-05-01T00:00:00\",\"1996-06-01T00:00:00\",\"1996-07-01T00:00:00\",\"1996-08-01T00:00:00\",\"1996-09-01T00:00:00\",\"1996-10-01T00:00:00\",\"1996-11-01T00:00:00\",\"1996-12-01T00:00:00\",\"1997-01-01T00:00:00\",\"1997-02-01T00:00:00\",\"1997-03-01T00:00:00\",\"1997-04-01T00:00:00\",\"1997-05-01T00:00:00\",\"1997-06-01T00:00:00\",\"1997-07-01T00:00:00\",\"1997-08-01T00:00:00\",\"1997-09-01T00:00:00\",\"1997-10-01T00:00:00\",\"1997-11-01T00:00:00\",\"1997-12-01T00:00:00\",\"1998-01-01T00:00:00\",\"1998-02-01T00:00:00\",\"1998-03-01T00:00:00\",\"1998-04-01T00:00:00\",\"1998-05-01T00:00:00\",\"1998-06-01T00:00:00\",\"1998-07-01T00:00:00\",\"1998-08-01T00:00:00\",\"1998-09-01T00:00:00\",\"1998-10-01T00:00:00\",\"1998-11-01T00:00:00\",\"1998-12-01T00:00:00\",\"1999-01-01T00:00:00\",\"1999-02-01T00:00:00\",\"1999-03-01T00:00:00\",\"1999-04-01T00:00:00\",\"1999-05-01T00:00:00\",\"1999-06-01T00:00:00\",\"1999-07-01T00:00:00\",\"1999-08-01T00:00:00\",\"1999-09-01T00:00:00\",\"1999-10-01T00:00:00\",\"1999-11-01T00:00:00\",\"1999-12-01T00:00:00\",\"2000-01-01T00:00:00\",\"2000-02-01T00:00:00\",\"2000-03-01T00:00:00\",\"2000-04-01T00:00:00\",\"2000-05-01T00:00:00\",\"2000-06-01T00:00:00\",\"2000-07-01T00:00:00\",\"2000-08-01T00:00:00\",\"2000-09-01T00:00:00\",\"2000-10-01T00:00:00\",\"2000-11-01T00:00:00\",\"2000-12-01T00:00:00\",\"2001-01-01T00:00:00\",\"2001-02-01T00:00:00\",\"2001-03-01T00:00:00\",\"2001-04-01T00:00:00\",\"2001-05-01T00:00:00\",\"2001-06-01T00:00:00\",\"2001-07-01T00:00:00\",\"2001-08-01T00:00:00\",\"2001-09-01T00:00:00\",\"2001-10-01T00:00:00\",\"2001-11-01T00:00:00\",\"2001-12-01T00:00:00\",\"2002-01-01T00:00:00\",\"2002-02-01T00:00:00\",\"2002-03-01T00:00:00\",\"2002-04-01T00:00:00\",\"2002-05-01T00:00:00\",\"2002-06-01T00:00:00\",\"2002-07-01T00:00:00\",\"2002-08-01T00:00:00\",\"2002-09-01T00:00:00\",\"2002-10-01T00:00:00\",\"2002-11-01T00:00:00\",\"2002-12-01T00:00:00\",\"2003-01-01T00:00:00\",\"2003-02-01T00:00:00\",\"2003-03-01T00:00:00\",\"2003-04-01T00:00:00\",\"2003-05-01T00:00:00\",\"2003-06-01T00:00:00\",\"2003-07-01T00:00:00\",\"2003-08-01T00:00:00\",\"2003-09-01T00:00:00\",\"2003-10-01T00:00:00\",\"2003-11-01T00:00:00\",\"2003-12-01T00:00:00\",\"2004-01-01T00:00:00\",\"2004-02-01T00:00:00\",\"2004-03-01T00:00:00\",\"2004-04-01T00:00:00\",\"2004-05-01T00:00:00\",\"2004-06-01T00:00:00\",\"2004-07-01T00:00:00\",\"2004-08-01T00:00:00\",\"2004-09-01T00:00:00\",\"2004-10-01T00:00:00\",\"2004-11-01T00:00:00\",\"2004-12-01T00:00:00\",\"2005-01-01T00:00:00\",\"2005-02-01T00:00:00\",\"2005-03-01T00:00:00\",\"2005-04-01T00:00:00\",\"2005-05-01T00:00:00\",\"2005-06-01T00:00:00\",\"2005-07-01T00:00:00\",\"2005-08-01T00:00:00\",\"2005-09-01T00:00:00\",\"2005-10-01T00:00:00\",\"2005-11-01T00:00:00\",\"2005-12-01T00:00:00\",\"2006-01-01T00:00:00\",\"2006-02-01T00:00:00\",\"2006-03-01T00:00:00\",\"2006-04-01T00:00:00\",\"2006-05-01T00:00:00\",\"2006-06-01T00:00:00\",\"2006-07-01T00:00:00\",\"2006-08-01T00:00:00\",\"2006-09-01T00:00:00\",\"2006-10-01T00:00:00\",\"2006-11-01T00:00:00\",\"2006-12-01T00:00:00\",\"2007-01-01T00:00:00\",\"2007-02-01T00:00:00\",\"2007-03-01T00:00:00\",\"2007-04-01T00:00:00\",\"2007-05-01T00:00:00\",\"2007-06-01T00:00:00\",\"2007-07-01T00:00:00\",\"2007-08-01T00:00:00\",\"2007-09-01T00:00:00\",\"2007-10-01T00:00:00\",\"2007-11-01T00:00:00\",\"2007-12-01T00:00:00\",\"2008-01-01T00:00:00\",\"2008-02-01T00:00:00\",\"2008-03-01T00:00:00\",\"2008-04-01T00:00:00\",\"2008-05-01T00:00:00\",\"2008-06-01T00:00:00\",\"2008-07-01T00:00:00\",\"2008-08-01T00:00:00\",\"2008-09-01T00:00:00\",\"2008-10-01T00:00:00\",\"2008-11-01T00:00:00\",\"2008-12-01T00:00:00\",\"2009-01-01T00:00:00\",\"2009-02-01T00:00:00\",\"2009-03-01T00:00:00\",\"2009-04-01T00:00:00\",\"2009-05-01T00:00:00\",\"2009-06-01T00:00:00\",\"2009-07-01T00:00:00\",\"2009-08-01T00:00:00\",\"2009-09-01T00:00:00\",\"2009-10-01T00:00:00\",\"2009-11-01T00:00:00\",\"2009-12-01T00:00:00\",\"2010-01-01T00:00:00\",\"2010-02-01T00:00:00\",\"2010-03-01T00:00:00\",\"2010-04-01T00:00:00\",\"2010-05-01T00:00:00\",\"2010-06-01T00:00:00\",\"2010-07-01T00:00:00\",\"2010-08-01T00:00:00\",\"2010-09-01T00:00:00\",\"2010-10-01T00:00:00\",\"2010-11-01T00:00:00\",\"2010-12-01T00:00:00\",\"2011-01-01T00:00:00\",\"2011-02-01T00:00:00\",\"2011-03-01T00:00:00\",\"2011-04-01T00:00:00\",\"2011-05-01T00:00:00\",\"2011-06-01T00:00:00\",\"2011-07-01T00:00:00\",\"2011-08-01T00:00:00\",\"2011-09-01T00:00:00\",\"2011-10-01T00:00:00\",\"2011-11-01T00:00:00\",\"2011-12-01T00:00:00\",\"2012-01-01T00:00:00\",\"2012-02-01T00:00:00\",\"2012-03-01T00:00:00\",\"2012-04-01T00:00:00\",\"2012-05-01T00:00:00\",\"2012-06-01T00:00:00\",\"2012-07-01T00:00:00\",\"2012-08-01T00:00:00\",\"2012-09-01T00:00:00\",\"2012-10-01T00:00:00\",\"2012-11-01T00:00:00\",\"2012-12-01T00:00:00\",\"2013-01-01T00:00:00\",\"2013-02-01T00:00:00\",\"2013-03-01T00:00:00\",\"2013-04-01T00:00:00\",\"2013-05-01T00:00:00\",\"2013-06-01T00:00:00\",\"2013-07-01T00:00:00\",\"2013-08-01T00:00:00\",\"2013-09-01T00:00:00\"],\"xaxis\":\"x\",\"y\":[null,null,null,null,null,null,null,null,null,null,null,null,null,null,null,null,null,null,null,null,null,null,null,null,null,null,null,null,null,null,null,null,null,null,null,null,null,null,null,null,null,null,null,null,null,null,null,25.92,null,null,null,null,null,null,null,null,null,null,null,null,null,null,null,null,null,null,null,null,null,null,null,null,null,null,null,null,null,null,null,null,null,null,null,null,null,null,null,null,null,null,null,null,null,null,null,null,null,null,null,null,null,null,null,null,null,null,null,null,null,null,null,null,null,null,null,null,null,null,null,null,null,null,null,null,null,null,null,null,null,null,null,null,null,null,null,null,null,null,null,null,null,null,null,null,null,null,null,null,null,null,null,null,null,null,null,null,null,null,null,null,28.76,null,null,null,null,null,null,null,null,null,null,null,null,null,null,null,null,null,null,null,null,null,null,null,null,null,null,null,null,null,null,null,null,null,null,null,null,null,null,null,null,null,null,null,null,null,null,null,null,null,null,null,null,null,null,null,null,null,null,null,null,null,null,null,null,null,null,null,null,null,null,null,null,null,null,null,null,null,null,null,null,null,null,null,null,null,null,null,null,null,null,null,null,null,null,null,null,null,null,null,null,null,null,null,null,null,null,null,null,null,null,null,null,null,null,null,null,null,null,null,null,null,null,null,null,null,null,null,null,null,null,null,null,null,null,null,null,null,null,null,null,null,null,null,null,null,null,null,null,null,null,null,null,null,null,null,null,null,null,null,null,null,null,null,null,null,null,null,null,null,null,null,null,null,null,null,null,null,null,null,null,null,null,null,null],\"yaxis\":\"y\",\"type\":\"scatter\"},{\"marker\":{\"color\":\"blue\",\"line\":{\"width\":1},\"size\":12},\"mode\":\"lines\",\"name\":\"Actuals\",\"x\":[\"1985-01-01T00:00:00\",\"1985-02-01T00:00:00\",\"1985-03-01T00:00:00\",\"1985-04-01T00:00:00\",\"1985-05-01T00:00:00\",\"1985-06-01T00:00:00\",\"1985-07-01T00:00:00\",\"1985-08-01T00:00:00\",\"1985-09-01T00:00:00\",\"1985-10-01T00:00:00\",\"1985-11-01T00:00:00\",\"1985-12-01T00:00:00\",\"1986-01-01T00:00:00\",\"1986-02-01T00:00:00\",\"1986-03-01T00:00:00\",\"1986-04-01T00:00:00\",\"1986-05-01T00:00:00\",\"1986-06-01T00:00:00\",\"1986-07-01T00:00:00\",\"1986-08-01T00:00:00\",\"1986-09-01T00:00:00\",\"1986-10-01T00:00:00\",\"1986-11-01T00:00:00\",\"1986-12-01T00:00:00\",\"1987-01-01T00:00:00\",\"1987-02-01T00:00:00\",\"1987-03-01T00:00:00\",\"1987-04-01T00:00:00\",\"1987-05-01T00:00:00\",\"1987-06-01T00:00:00\",\"1987-07-01T00:00:00\",\"1987-08-01T00:00:00\",\"1987-09-01T00:00:00\",\"1987-10-01T00:00:00\",\"1987-11-01T00:00:00\",\"1987-12-01T00:00:00\",\"1988-01-01T00:00:00\",\"1988-02-01T00:00:00\",\"1988-03-01T00:00:00\",\"1988-04-01T00:00:00\",\"1988-05-01T00:00:00\",\"1988-06-01T00:00:00\",\"1988-07-01T00:00:00\",\"1988-08-01T00:00:00\",\"1988-09-01T00:00:00\",\"1988-10-01T00:00:00\",\"1988-11-01T00:00:00\",\"1988-12-01T00:00:00\",\"1989-01-01T00:00:00\",\"1989-02-01T00:00:00\",\"1989-03-01T00:00:00\",\"1989-04-01T00:00:00\",\"1989-05-01T00:00:00\",\"1989-06-01T00:00:00\",\"1989-07-01T00:00:00\",\"1989-08-01T00:00:00\",\"1989-09-01T00:00:00\",\"1989-10-01T00:00:00\",\"1989-11-01T00:00:00\",\"1989-12-01T00:00:00\",\"1990-01-01T00:00:00\",\"1990-02-01T00:00:00\",\"1990-03-01T00:00:00\",\"1990-04-01T00:00:00\",\"1990-05-01T00:00:00\",\"1990-06-01T00:00:00\",\"1990-07-01T00:00:00\",\"1990-08-01T00:00:00\",\"1990-09-01T00:00:00\",\"1990-10-01T00:00:00\",\"1990-11-01T00:00:00\",\"1990-12-01T00:00:00\",\"1991-01-01T00:00:00\",\"1991-02-01T00:00:00\",\"1991-03-01T00:00:00\",\"1991-04-01T00:00:00\",\"1991-05-01T00:00:00\",\"1991-06-01T00:00:00\",\"1991-07-01T00:00:00\",\"1991-08-01T00:00:00\",\"1991-09-01T00:00:00\",\"1991-10-01T00:00:00\",\"1991-11-01T00:00:00\",\"1991-12-01T00:00:00\",\"1992-01-01T00:00:00\",\"1992-02-01T00:00:00\",\"1992-03-01T00:00:00\",\"1992-04-01T00:00:00\",\"1992-05-01T00:00:00\",\"1992-06-01T00:00:00\",\"1992-07-01T00:00:00\",\"1992-08-01T00:00:00\",\"1992-09-01T00:00:00\",\"1992-10-01T00:00:00\",\"1992-11-01T00:00:00\",\"1992-12-01T00:00:00\",\"1993-01-01T00:00:00\",\"1993-02-01T00:00:00\",\"1993-03-01T00:00:00\",\"1993-04-01T00:00:00\",\"1993-05-01T00:00:00\",\"1993-06-01T00:00:00\",\"1993-07-01T00:00:00\",\"1993-08-01T00:00:00\",\"1993-09-01T00:00:00\",\"1993-10-01T00:00:00\",\"1993-11-01T00:00:00\",\"1993-12-01T00:00:00\",\"1994-01-01T00:00:00\",\"1994-02-01T00:00:00\",\"1994-03-01T00:00:00\",\"1994-04-01T00:00:00\",\"1994-05-01T00:00:00\",\"1994-06-01T00:00:00\",\"1994-07-01T00:00:00\",\"1994-08-01T00:00:00\",\"1994-09-01T00:00:00\",\"1994-10-01T00:00:00\",\"1994-11-01T00:00:00\",\"1994-12-01T00:00:00\",\"1995-01-01T00:00:00\",\"1995-02-01T00:00:00\",\"1995-03-01T00:00:00\",\"1995-04-01T00:00:00\",\"1995-05-01T00:00:00\",\"1995-06-01T00:00:00\",\"1995-07-01T00:00:00\",\"1995-08-01T00:00:00\",\"1995-09-01T00:00:00\",\"1995-10-01T00:00:00\",\"1995-11-01T00:00:00\",\"1995-12-01T00:00:00\",\"1996-01-01T00:00:00\",\"1996-02-01T00:00:00\",\"1996-03-01T00:00:00\",\"1996-04-01T00:00:00\",\"1996-05-01T00:00:00\",\"1996-06-01T00:00:00\",\"1996-07-01T00:00:00\",\"1996-08-01T00:00:00\",\"1996-09-01T00:00:00\",\"1996-10-01T00:00:00\",\"1996-11-01T00:00:00\",\"1996-12-01T00:00:00\",\"1997-01-01T00:00:00\",\"1997-02-01T00:00:00\",\"1997-03-01T00:00:00\",\"1997-04-01T00:00:00\",\"1997-05-01T00:00:00\",\"1997-06-01T00:00:00\",\"1997-07-01T00:00:00\",\"1997-08-01T00:00:00\",\"1997-09-01T00:00:00\",\"1997-10-01T00:00:00\",\"1997-11-01T00:00:00\",\"1997-12-01T00:00:00\",\"1998-01-01T00:00:00\",\"1998-02-01T00:00:00\",\"1998-03-01T00:00:00\",\"1998-04-01T00:00:00\",\"1998-05-01T00:00:00\",\"1998-06-01T00:00:00\",\"1998-07-01T00:00:00\",\"1998-08-01T00:00:00\",\"1998-09-01T00:00:00\",\"1998-10-01T00:00:00\",\"1998-11-01T00:00:00\",\"1998-12-01T00:00:00\",\"1999-01-01T00:00:00\",\"1999-02-01T00:00:00\",\"1999-03-01T00:00:00\",\"1999-04-01T00:00:00\",\"1999-05-01T00:00:00\",\"1999-06-01T00:00:00\",\"1999-07-01T00:00:00\",\"1999-08-01T00:00:00\",\"1999-09-01T00:00:00\",\"1999-10-01T00:00:00\",\"1999-11-01T00:00:00\",\"1999-12-01T00:00:00\",\"2000-01-01T00:00:00\",\"2000-02-01T00:00:00\",\"2000-03-01T00:00:00\",\"2000-04-01T00:00:00\",\"2000-05-01T00:00:00\",\"2000-06-01T00:00:00\",\"2000-07-01T00:00:00\",\"2000-08-01T00:00:00\",\"2000-09-01T00:00:00\",\"2000-10-01T00:00:00\",\"2000-11-01T00:00:00\",\"2000-12-01T00:00:00\",\"2001-01-01T00:00:00\",\"2001-02-01T00:00:00\",\"2001-03-01T00:00:00\",\"2001-04-01T00:00:00\",\"2001-05-01T00:00:00\",\"2001-06-01T00:00:00\",\"2001-07-01T00:00:00\",\"2001-08-01T00:00:00\",\"2001-09-01T00:00:00\",\"2001-10-01T00:00:00\",\"2001-11-01T00:00:00\",\"2001-12-01T00:00:00\",\"2002-01-01T00:00:00\",\"2002-02-01T00:00:00\",\"2002-03-01T00:00:00\",\"2002-04-01T00:00:00\",\"2002-05-01T00:00:00\",\"2002-06-01T00:00:00\",\"2002-07-01T00:00:00\",\"2002-08-01T00:00:00\",\"2002-09-01T00:00:00\",\"2002-10-01T00:00:00\",\"2002-11-01T00:00:00\",\"2002-12-01T00:00:00\",\"2003-01-01T00:00:00\",\"2003-02-01T00:00:00\",\"2003-03-01T00:00:00\",\"2003-04-01T00:00:00\",\"2003-05-01T00:00:00\",\"2003-06-01T00:00:00\",\"2003-07-01T00:00:00\",\"2003-08-01T00:00:00\",\"2003-09-01T00:00:00\",\"2003-10-01T00:00:00\",\"2003-11-01T00:00:00\",\"2003-12-01T00:00:00\",\"2004-01-01T00:00:00\",\"2004-02-01T00:00:00\",\"2004-03-01T00:00:00\",\"2004-04-01T00:00:00\",\"2004-05-01T00:00:00\",\"2004-06-01T00:00:00\",\"2004-07-01T00:00:00\",\"2004-08-01T00:00:00\",\"2004-09-01T00:00:00\",\"2004-10-01T00:00:00\",\"2004-11-01T00:00:00\",\"2004-12-01T00:00:00\",\"2005-01-01T00:00:00\",\"2005-02-01T00:00:00\",\"2005-03-01T00:00:00\",\"2005-04-01T00:00:00\",\"2005-05-01T00:00:00\",\"2005-06-01T00:00:00\",\"2005-07-01T00:00:00\",\"2005-08-01T00:00:00\",\"2005-09-01T00:00:00\",\"2005-10-01T00:00:00\",\"2005-11-01T00:00:00\",\"2005-12-01T00:00:00\",\"2006-01-01T00:00:00\",\"2006-02-01T00:00:00\",\"2006-03-01T00:00:00\",\"2006-04-01T00:00:00\",\"2006-05-01T00:00:00\",\"2006-06-01T00:00:00\",\"2006-07-01T00:00:00\",\"2006-08-01T00:00:00\",\"2006-09-01T00:00:00\",\"2006-10-01T00:00:00\",\"2006-11-01T00:00:00\",\"2006-12-01T00:00:00\",\"2007-01-01T00:00:00\",\"2007-02-01T00:00:00\",\"2007-03-01T00:00:00\",\"2007-04-01T00:00:00\",\"2007-05-01T00:00:00\",\"2007-06-01T00:00:00\",\"2007-07-01T00:00:00\",\"2007-08-01T00:00:00\",\"2007-09-01T00:00:00\",\"2007-10-01T00:00:00\",\"2007-11-01T00:00:00\",\"2007-12-01T00:00:00\",\"2008-01-01T00:00:00\",\"2008-02-01T00:00:00\",\"2008-03-01T00:00:00\",\"2008-04-01T00:00:00\",\"2008-05-01T00:00:00\",\"2008-06-01T00:00:00\",\"2008-07-01T00:00:00\",\"2008-08-01T00:00:00\",\"2008-09-01T00:00:00\",\"2008-10-01T00:00:00\",\"2008-11-01T00:00:00\",\"2008-12-01T00:00:00\",\"2009-01-01T00:00:00\",\"2009-02-01T00:00:00\",\"2009-03-01T00:00:00\",\"2009-04-01T00:00:00\",\"2009-05-01T00:00:00\",\"2009-06-01T00:00:00\",\"2009-07-01T00:00:00\",\"2009-08-01T00:00:00\",\"2009-09-01T00:00:00\",\"2009-10-01T00:00:00\",\"2009-11-01T00:00:00\",\"2009-12-01T00:00:00\",\"2010-01-01T00:00:00\",\"2010-02-01T00:00:00\",\"2010-03-01T00:00:00\",\"2010-04-01T00:00:00\",\"2010-05-01T00:00:00\",\"2010-06-01T00:00:00\",\"2010-07-01T00:00:00\",\"2010-08-01T00:00:00\",\"2010-09-01T00:00:00\",\"2010-10-01T00:00:00\",\"2010-11-01T00:00:00\",\"2010-12-01T00:00:00\",\"2011-01-01T00:00:00\",\"2011-02-01T00:00:00\",\"2011-03-01T00:00:00\",\"2011-04-01T00:00:00\",\"2011-05-01T00:00:00\",\"2011-06-01T00:00:00\",\"2011-07-01T00:00:00\",\"2011-08-01T00:00:00\",\"2011-09-01T00:00:00\",\"2011-10-01T00:00:00\",\"2011-11-01T00:00:00\",\"2011-12-01T00:00:00\",\"2012-01-01T00:00:00\",\"2012-02-01T00:00:00\",\"2012-03-01T00:00:00\",\"2012-04-01T00:00:00\",\"2012-05-01T00:00:00\",\"2012-06-01T00:00:00\",\"2012-07-01T00:00:00\",\"2012-08-01T00:00:00\",\"2012-09-01T00:00:00\",\"2012-10-01T00:00:00\",\"2012-11-01T00:00:00\",\"2012-12-01T00:00:00\",\"2013-01-01T00:00:00\",\"2013-02-01T00:00:00\",\"2013-03-01T00:00:00\",\"2013-04-01T00:00:00\",\"2013-05-01T00:00:00\",\"2013-06-01T00:00:00\",\"2013-07-01T00:00:00\",\"2013-08-01T00:00:00\",\"2013-09-01T00:00:00\"],\"xaxis\":\"x\",\"y\":[26.15,27.23,27.22,27.36,27.65,27.06,26.2,26.75,26.68,26.66,26.66,26.64,26.03,26.5,26.9,27.24,28.04,27.26,26.58,26.46,26.36,26.29,26.21,26.53,26.03,26.39,27.53,27.64,27.8,27.79,27.48,26.97,27.34,27.5,27.38,26.47,26.58,27.05,27.34,27.93,27.86,27.42,27.12,26.54,27.01,26.69,26.67,25.92,26.62,26.0,26.99,27.1,27.37,27.38,27.27,26.94,26.96,26.7,26.93,26.4,26.22,27.24,27.13,27.89,27.84,27.37,26.77,26.74,26.94,26.95,27.2,26.34,26.65,26.73,27.33,27.48,27.8,27.59,27.05,26.76,26.87,27.18,26.54,26.44,26.71,27.07,27.71,27.63,27.93,27.55,26.83,26.59,26.46,26.17,26.45,26.37,26.6,26.76,27.2,27.22,27.8,27.49,27.16,26.92,26.7,27.0,26.87,26.81,26.49,27.03,27.08,27.43,27.54,27.39,26.66,26.73,26.98,27.39,27.69,27.09,26.86,27.06,27.27,27.8,28.02,27.6,26.98,26.96,26.95,26.81,26.68,26.76,26.31,26.77,27.61,27.66,28.14,27.63,27.45,26.86,27.02,26.41,26.67,26.3,26.37,27.08,27.8,27.39,27.96,27.63,26.95,26.92,27.14,27.68,27.81,27.69,28.04,27.94,28.26,28.29,28.76,27.72,27.11,27.04,27.19,26.7,27.02,26.96,26.55,26.92,27.74,28.05,27.52,27.35,26.64,26.54,27.08,26.48,26.78,26.51,26.61,27.06,27.7,27.69,28.05,27.11,27.09,26.59,27.34,26.98,26.87,27.28,26.82,26.74,27.46,27.47,28.1,27.2,27.17,27.14,27.01,26.7,26.79,26.99,26.67,26.86,27.68,27.58,28.2,27.88,27.34,27.14,27.15,27.57,27.39,27.35,27.61,27.05,27.84,28.11,28.38,28.16,27.54,27.43,27.18,27.04,27.32,26.55,27.16,27.06,27.75,28.21,27.97,27.52,26.96,27.1,27.46,27.64,27.36,26.9,26.61,27.17,27.6,27.98,28.19,27.61,27.08,26.99,27.19,26.82,26.8,26.62,26.46,27.29,27.46,27.53,27.84,27.42,27.32,26.9,27.1,27.89,28.12,27.33,27.41,26.8,27.48,27.53,28.0,27.34,27.15,26.94,27.08,27.06,27.23,26.46,27.09,26.44,27.0,27.36,27.83,27.22,26.88,26.68,26.97,26.8,26.86,26.53,26.29,26.51,27.44,27.81,27.99,27.8,27.28,27.29,27.73,27.3,27.1,27.19,26.79,27.57,27.9,28.61,28.49,27.39,27.04,27.09,26.3,26.32,26.88,26.6,26.56,27.03,27.24,27.65,27.89,27.71,27.07,27.09,27.21,27.04,27.18,27.25,26.91,27.29,27.69,27.61,28.13,27.72,27.1,27.05,27.43,27.32,27.09,27.01,26.74,27.34,27.72,27.64,27.94,27.88,26.86,26.87,26.87],\"yaxis\":\"y\",\"type\":\"scatter\"}],                        {\"autosize\":false,\"height\":865,\"margin\":{\"t\":75},\"showlegend\":true,\"title\":{\"text\":\"Outliers Detection\"},\"width\":1000,\"xaxis\":{\"anchor\":\"y\",\"domain\":[0,1],\"gridcolor\":\"#ffffff\",\"mirror\":true,\"showgrid\":true,\"showline\":true,\"showticklabels\":true,\"tickfont\":{\"size\":10},\"ticklen\":4,\"zeroline\":false},\"yaxis\":{\"anchor\":\"x\",\"domain\":[0.62,1],\"gridcolor\":\"#ffffff\",\"hoverformat\":\".2f\",\"mirror\":true,\"showgrid\":true,\"showline\":true,\"tickfont\":{\"size\":10},\"ticklen\":4,\"zeroline\":false},\"template\":{\"data\":{\"bar\":[{\"error_x\":{\"color\":\"#2a3f5f\"},\"error_y\":{\"color\":\"#2a3f5f\"},\"marker\":{\"line\":{\"color\":\"#E5ECF6\",\"width\":0.5},\"pattern\":{\"fillmode\":\"overlay\",\"size\":10,\"solidity\":0.2}},\"type\":\"bar\"}],\"barpolar\":[{\"marker\":{\"line\":{\"color\":\"#E5ECF6\",\"width\":0.5},\"pattern\":{\"fillmode\":\"overlay\",\"size\":10,\"solidity\":0.2}},\"type\":\"barpolar\"}],\"carpet\":[{\"aaxis\":{\"endlinecolor\":\"#2a3f5f\",\"gridcolor\":\"white\",\"linecolor\":\"white\",\"minorgridcolor\":\"white\",\"startlinecolor\":\"#2a3f5f\"},\"baxis\":{\"endlinecolor\":\"#2a3f5f\",\"gridcolor\":\"white\",\"linecolor\":\"white\",\"minorgridcolor\":\"white\",\"startlinecolor\":\"#2a3f5f\"},\"type\":\"carpet\"}],\"choropleth\":[{\"colorbar\":{\"outlinewidth\":0,\"ticks\":\"\"},\"type\":\"choropleth\"}],\"contour\":[{\"colorbar\":{\"outlinewidth\":0,\"ticks\":\"\"},\"colorscale\":[[0.0,\"#0d0887\"],[0.1111111111111111,\"#46039f\"],[0.2222222222222222,\"#7201a8\"],[0.3333333333333333,\"#9c179e\"],[0.4444444444444444,\"#bd3786\"],[0.5555555555555556,\"#d8576b\"],[0.6666666666666666,\"#ed7953\"],[0.7777777777777778,\"#fb9f3a\"],[0.8888888888888888,\"#fdca26\"],[1.0,\"#f0f921\"]],\"type\":\"contour\"}],\"contourcarpet\":[{\"colorbar\":{\"outlinewidth\":0,\"ticks\":\"\"},\"type\":\"contourcarpet\"}],\"heatmap\":[{\"colorbar\":{\"outlinewidth\":0,\"ticks\":\"\"},\"colorscale\":[[0.0,\"#0d0887\"],[0.1111111111111111,\"#46039f\"],[0.2222222222222222,\"#7201a8\"],[0.3333333333333333,\"#9c179e\"],[0.4444444444444444,\"#bd3786\"],[0.5555555555555556,\"#d8576b\"],[0.6666666666666666,\"#ed7953\"],[0.7777777777777778,\"#fb9f3a\"],[0.8888888888888888,\"#fdca26\"],[1.0,\"#f0f921\"]],\"type\":\"heatmap\"}],\"heatmapgl\":[{\"colorbar\":{\"outlinewidth\":0,\"ticks\":\"\"},\"colorscale\":[[0.0,\"#0d0887\"],[0.1111111111111111,\"#46039f\"],[0.2222222222222222,\"#7201a8\"],[0.3333333333333333,\"#9c179e\"],[0.4444444444444444,\"#bd3786\"],[0.5555555555555556,\"#d8576b\"],[0.6666666666666666,\"#ed7953\"],[0.7777777777777778,\"#fb9f3a\"],[0.8888888888888888,\"#fdca26\"],[1.0,\"#f0f921\"]],\"type\":\"heatmapgl\"}],\"histogram\":[{\"marker\":{\"pattern\":{\"fillmode\":\"overlay\",\"size\":10,\"solidity\":0.2}},\"type\":\"histogram\"}],\"histogram2d\":[{\"colorbar\":{\"outlinewidth\":0,\"ticks\":\"\"},\"colorscale\":[[0.0,\"#0d0887\"],[0.1111111111111111,\"#46039f\"],[0.2222222222222222,\"#7201a8\"],[0.3333333333333333,\"#9c179e\"],[0.4444444444444444,\"#bd3786\"],[0.5555555555555556,\"#d8576b\"],[0.6666666666666666,\"#ed7953\"],[0.7777777777777778,\"#fb9f3a\"],[0.8888888888888888,\"#fdca26\"],[1.0,\"#f0f921\"]],\"type\":\"histogram2d\"}],\"histogram2dcontour\":[{\"colorbar\":{\"outlinewidth\":0,\"ticks\":\"\"},\"colorscale\":[[0.0,\"#0d0887\"],[0.1111111111111111,\"#46039f\"],[0.2222222222222222,\"#7201a8\"],[0.3333333333333333,\"#9c179e\"],[0.4444444444444444,\"#bd3786\"],[0.5555555555555556,\"#d8576b\"],[0.6666666666666666,\"#ed7953\"],[0.7777777777777778,\"#fb9f3a\"],[0.8888888888888888,\"#fdca26\"],[1.0,\"#f0f921\"]],\"type\":\"histogram2dcontour\"}],\"mesh3d\":[{\"colorbar\":{\"outlinewidth\":0,\"ticks\":\"\"},\"type\":\"mesh3d\"}],\"parcoords\":[{\"line\":{\"colorbar\":{\"outlinewidth\":0,\"ticks\":\"\"}},\"type\":\"parcoords\"}],\"pie\":[{\"automargin\":true,\"type\":\"pie\"}],\"scatter\":[{\"marker\":{\"colorbar\":{\"outlinewidth\":0,\"ticks\":\"\"}},\"type\":\"scatter\"}],\"scatter3d\":[{\"line\":{\"colorbar\":{\"outlinewidth\":0,\"ticks\":\"\"}},\"marker\":{\"colorbar\":{\"outlinewidth\":0,\"ticks\":\"\"}},\"type\":\"scatter3d\"}],\"scattercarpet\":[{\"marker\":{\"colorbar\":{\"outlinewidth\":0,\"ticks\":\"\"}},\"type\":\"scattercarpet\"}],\"scattergeo\":[{\"marker\":{\"colorbar\":{\"outlinewidth\":0,\"ticks\":\"\"}},\"type\":\"scattergeo\"}],\"scattergl\":[{\"marker\":{\"colorbar\":{\"outlinewidth\":0,\"ticks\":\"\"}},\"type\":\"scattergl\"}],\"scattermapbox\":[{\"marker\":{\"colorbar\":{\"outlinewidth\":0,\"ticks\":\"\"}},\"type\":\"scattermapbox\"}],\"scatterpolar\":[{\"marker\":{\"colorbar\":{\"outlinewidth\":0,\"ticks\":\"\"}},\"type\":\"scatterpolar\"}],\"scatterpolargl\":[{\"marker\":{\"colorbar\":{\"outlinewidth\":0,\"ticks\":\"\"}},\"type\":\"scatterpolargl\"}],\"scatterternary\":[{\"marker\":{\"colorbar\":{\"outlinewidth\":0,\"ticks\":\"\"}},\"type\":\"scatterternary\"}],\"surface\":[{\"colorbar\":{\"outlinewidth\":0,\"ticks\":\"\"},\"colorscale\":[[0.0,\"#0d0887\"],[0.1111111111111111,\"#46039f\"],[0.2222222222222222,\"#7201a8\"],[0.3333333333333333,\"#9c179e\"],[0.4444444444444444,\"#bd3786\"],[0.5555555555555556,\"#d8576b\"],[0.6666666666666666,\"#ed7953\"],[0.7777777777777778,\"#fb9f3a\"],[0.8888888888888888,\"#fdca26\"],[1.0,\"#f0f921\"]],\"type\":\"surface\"}],\"table\":[{\"cells\":{\"fill\":{\"color\":\"#EBF0F8\"},\"line\":{\"color\":\"white\"}},\"header\":{\"fill\":{\"color\":\"#C8D4E3\"},\"line\":{\"color\":\"white\"}},\"type\":\"table\"}]},\"layout\":{\"annotationdefaults\":{\"arrowcolor\":\"#2a3f5f\",\"arrowhead\":0,\"arrowwidth\":1},\"autotypenumbers\":\"strict\",\"coloraxis\":{\"colorbar\":{\"outlinewidth\":0,\"ticks\":\"\"}},\"colorscale\":{\"diverging\":[[0,\"#8e0152\"],[0.1,\"#c51b7d\"],[0.2,\"#de77ae\"],[0.3,\"#f1b6da\"],[0.4,\"#fde0ef\"],[0.5,\"#f7f7f7\"],[0.6,\"#e6f5d0\"],[0.7,\"#b8e186\"],[0.8,\"#7fbc41\"],[0.9,\"#4d9221\"],[1,\"#276419\"]],\"sequential\":[[0.0,\"#0d0887\"],[0.1111111111111111,\"#46039f\"],[0.2222222222222222,\"#7201a8\"],[0.3333333333333333,\"#9c179e\"],[0.4444444444444444,\"#bd3786\"],[0.5555555555555556,\"#d8576b\"],[0.6666666666666666,\"#ed7953\"],[0.7777777777777778,\"#fb9f3a\"],[0.8888888888888888,\"#fdca26\"],[1.0,\"#f0f921\"]],\"sequentialminus\":[[0.0,\"#0d0887\"],[0.1111111111111111,\"#46039f\"],[0.2222222222222222,\"#7201a8\"],[0.3333333333333333,\"#9c179e\"],[0.4444444444444444,\"#bd3786\"],[0.5555555555555556,\"#d8576b\"],[0.6666666666666666,\"#ed7953\"],[0.7777777777777778,\"#fb9f3a\"],[0.8888888888888888,\"#fdca26\"],[1.0,\"#f0f921\"]]},\"colorway\":[\"#636efa\",\"#EF553B\",\"#00cc96\",\"#ab63fa\",\"#FFA15A\",\"#19d3f3\",\"#FF6692\",\"#B6E880\",\"#FF97FF\",\"#FECB52\"],\"font\":{\"color\":\"#2a3f5f\"},\"geo\":{\"bgcolor\":\"white\",\"lakecolor\":\"white\",\"landcolor\":\"#E5ECF6\",\"showlakes\":true,\"showland\":true,\"subunitcolor\":\"white\"},\"hoverlabel\":{\"align\":\"left\"},\"hovermode\":\"closest\",\"mapbox\":{\"style\":\"light\"},\"paper_bgcolor\":\"white\",\"plot_bgcolor\":\"#E5ECF6\",\"polar\":{\"angularaxis\":{\"gridcolor\":\"white\",\"linecolor\":\"white\",\"ticks\":\"\"},\"bgcolor\":\"#E5ECF6\",\"radialaxis\":{\"gridcolor\":\"white\",\"linecolor\":\"white\",\"ticks\":\"\"}},\"scene\":{\"xaxis\":{\"backgroundcolor\":\"#E5ECF6\",\"gridcolor\":\"white\",\"gridwidth\":2,\"linecolor\":\"white\",\"showbackground\":true,\"ticks\":\"\",\"zerolinecolor\":\"white\"},\"yaxis\":{\"backgroundcolor\":\"#E5ECF6\",\"gridcolor\":\"white\",\"gridwidth\":2,\"linecolor\":\"white\",\"showbackground\":true,\"ticks\":\"\",\"zerolinecolor\":\"white\"},\"zaxis\":{\"backgroundcolor\":\"#E5ECF6\",\"gridcolor\":\"white\",\"gridwidth\":2,\"linecolor\":\"white\",\"showbackground\":true,\"ticks\":\"\",\"zerolinecolor\":\"white\"}},\"shapedefaults\":{\"line\":{\"color\":\"#2a3f5f\"}},\"ternary\":{\"aaxis\":{\"gridcolor\":\"white\",\"linecolor\":\"white\",\"ticks\":\"\"},\"baxis\":{\"gridcolor\":\"white\",\"linecolor\":\"white\",\"ticks\":\"\"},\"bgcolor\":\"#E5ECF6\",\"caxis\":{\"gridcolor\":\"white\",\"linecolor\":\"white\",\"ticks\":\"\"}},\"title\":{\"x\":0.05},\"xaxis\":{\"automargin\":true,\"gridcolor\":\"white\",\"linecolor\":\"white\",\"ticks\":\"\",\"title\":{\"standoff\":15},\"zerolinecolor\":\"white\",\"zerolinewidth\":2},\"yaxis\":{\"automargin\":true,\"gridcolor\":\"white\",\"linecolor\":\"white\",\"ticks\":\"\",\"title\":{\"standoff\":15},\"zerolinecolor\":\"white\",\"zerolinewidth\":2}}}},                        {\"responsive\": true}                    ).then(function(){\n",
              "                            \n",
              "var gd = document.getElementById('900ca01d-0988-4484-b9db-8bb85163bb99');\n",
              "var x = new MutationObserver(function (mutations, observer) {{\n",
              "        var display = window.getComputedStyle(gd).display;\n",
              "        if (!display || display === 'none') {{\n",
              "            console.log([gd, 'removed!']);\n",
              "            Plotly.purge(gd);\n",
              "            observer.disconnect();\n",
              "        }}\n",
              "}});\n",
              "\n",
              "// Listen for the removal of the full notebook cells\n",
              "var notebookContainer = gd.closest('#notebook-container');\n",
              "if (notebookContainer) {{\n",
              "    x.observe(notebookContainer, {childList: true});\n",
              "}}\n",
              "\n",
              "// Listen for the clearing of the current output cell\n",
              "var outputEl = gd.closest('.output');\n",
              "if (outputEl) {{\n",
              "    x.observe(outputEl, {childList: true});\n",
              "}}\n",
              "\n",
              "                        })                };                            </script>        </div>\n",
              "</body>\n",
              "</html>"
            ]
          },
          "metadata": {}
        }
      ]
    },
    {
      "cell_type": "markdown",
      "source": [
        "Two outliers are detected in this dataset. The extreme temperature was 25.92 and 28.76 degrees Celcius that happened in December 1988 and May 1998, respectively. Because these outliers might be useful information, I will not remove these datapoints."
      ],
      "metadata": {
        "id": "qz6lQPtj-WKa"
      }
    },
    {
      "cell_type": "markdown",
      "source": [
        "## **3. DATA PREPROCESSING**"
      ],
      "metadata": {
        "id": "0G9BNmhm7spm"
      }
    },
    {
      "cell_type": "markdown",
      "source": [
        "### **Train-Test Split**"
      ],
      "metadata": {
        "id": "c9z2DMDF75PL"
      }
    },
    {
      "cell_type": "code",
      "source": [
        "# 70% of data is used for training and 30% of data for testing\n",
        "train = jkt.iloc[0: int(len(jkt)*0.7), :]\n",
        "test = jkt.iloc[int(len(jkt)*0.7) :, :]\n",
        "\n",
        "# Plot train-test split\n",
        "trace1  = go.Scatter(mode='lines', x = train.index, y = train['Temp'], name='Training', marker_color='crimson')\n",
        "trace2 = go.Scatter(mode='lines', x = test.index, y = test['Temp'], name='Testing', marker_color='blue')\n",
        "\n",
        "data = [trace1, trace2]\n",
        "layout = go.Layout(title_text='Train-test Split')\n",
        "fig = go.Figure(data=data, layout=layout)\n",
        "fig.show()"
      ],
      "metadata": {
        "colab": {
          "base_uri": "https://localhost:8080/",
          "height": 542
        },
        "id": "wQdCgLiK78--",
        "outputId": "5479389a-23db-48e3-c77b-34d5ea7dd67a"
      },
      "execution_count": null,
      "outputs": [
        {
          "output_type": "display_data",
          "data": {
            "text/html": [
              "<html>\n",
              "<head><meta charset=\"utf-8\" /></head>\n",
              "<body>\n",
              "    <div>            <script src=\"https://cdnjs.cloudflare.com/ajax/libs/mathjax/2.7.5/MathJax.js?config=TeX-AMS-MML_SVG\"></script><script type=\"text/javascript\">if (window.MathJax) {MathJax.Hub.Config({SVG: {font: \"STIX-Web\"}});}</script>                <script type=\"text/javascript\">window.PlotlyConfig = {MathJaxConfig: 'local'};</script>\n",
              "        <script src=\"https://cdn.plot.ly/plotly-2.8.3.min.js\"></script>                <div id=\"a82c7738-1bbd-4acd-8776-8b0381aad7bd\" class=\"plotly-graph-div\" style=\"height:525px; width:100%;\"></div>            <script type=\"text/javascript\">                                    window.PLOTLYENV=window.PLOTLYENV || {};                                    if (document.getElementById(\"a82c7738-1bbd-4acd-8776-8b0381aad7bd\")) {                    Plotly.newPlot(                        \"a82c7738-1bbd-4acd-8776-8b0381aad7bd\",                        [{\"marker\":{\"color\":\"crimson\"},\"mode\":\"lines\",\"name\":\"Training\",\"x\":[\"1985-01-01T00:00:00\",\"1985-02-01T00:00:00\",\"1985-03-01T00:00:00\",\"1985-04-01T00:00:00\",\"1985-05-01T00:00:00\",\"1985-06-01T00:00:00\",\"1985-07-01T00:00:00\",\"1985-08-01T00:00:00\",\"1985-09-01T00:00:00\",\"1985-10-01T00:00:00\",\"1985-11-01T00:00:00\",\"1985-12-01T00:00:00\",\"1986-01-01T00:00:00\",\"1986-02-01T00:00:00\",\"1986-03-01T00:00:00\",\"1986-04-01T00:00:00\",\"1986-05-01T00:00:00\",\"1986-06-01T00:00:00\",\"1986-07-01T00:00:00\",\"1986-08-01T00:00:00\",\"1986-09-01T00:00:00\",\"1986-10-01T00:00:00\",\"1986-11-01T00:00:00\",\"1986-12-01T00:00:00\",\"1987-01-01T00:00:00\",\"1987-02-01T00:00:00\",\"1987-03-01T00:00:00\",\"1987-04-01T00:00:00\",\"1987-05-01T00:00:00\",\"1987-06-01T00:00:00\",\"1987-07-01T00:00:00\",\"1987-08-01T00:00:00\",\"1987-09-01T00:00:00\",\"1987-10-01T00:00:00\",\"1987-11-01T00:00:00\",\"1987-12-01T00:00:00\",\"1988-01-01T00:00:00\",\"1988-02-01T00:00:00\",\"1988-03-01T00:00:00\",\"1988-04-01T00:00:00\",\"1988-05-01T00:00:00\",\"1988-06-01T00:00:00\",\"1988-07-01T00:00:00\",\"1988-08-01T00:00:00\",\"1988-09-01T00:00:00\",\"1988-10-01T00:00:00\",\"1988-11-01T00:00:00\",\"1988-12-01T00:00:00\",\"1989-01-01T00:00:00\",\"1989-02-01T00:00:00\",\"1989-03-01T00:00:00\",\"1989-04-01T00:00:00\",\"1989-05-01T00:00:00\",\"1989-06-01T00:00:00\",\"1989-07-01T00:00:00\",\"1989-08-01T00:00:00\",\"1989-09-01T00:00:00\",\"1989-10-01T00:00:00\",\"1989-11-01T00:00:00\",\"1989-12-01T00:00:00\",\"1990-01-01T00:00:00\",\"1990-02-01T00:00:00\",\"1990-03-01T00:00:00\",\"1990-04-01T00:00:00\",\"1990-05-01T00:00:00\",\"1990-06-01T00:00:00\",\"1990-07-01T00:00:00\",\"1990-08-01T00:00:00\",\"1990-09-01T00:00:00\",\"1990-10-01T00:00:00\",\"1990-11-01T00:00:00\",\"1990-12-01T00:00:00\",\"1991-01-01T00:00:00\",\"1991-02-01T00:00:00\",\"1991-03-01T00:00:00\",\"1991-04-01T00:00:00\",\"1991-05-01T00:00:00\",\"1991-06-01T00:00:00\",\"1991-07-01T00:00:00\",\"1991-08-01T00:00:00\",\"1991-09-01T00:00:00\",\"1991-10-01T00:00:00\",\"1991-11-01T00:00:00\",\"1991-12-01T00:00:00\",\"1992-01-01T00:00:00\",\"1992-02-01T00:00:00\",\"1992-03-01T00:00:00\",\"1992-04-01T00:00:00\",\"1992-05-01T00:00:00\",\"1992-06-01T00:00:00\",\"1992-07-01T00:00:00\",\"1992-08-01T00:00:00\",\"1992-09-01T00:00:00\",\"1992-10-01T00:00:00\",\"1992-11-01T00:00:00\",\"1992-12-01T00:00:00\",\"1993-01-01T00:00:00\",\"1993-02-01T00:00:00\",\"1993-03-01T00:00:00\",\"1993-04-01T00:00:00\",\"1993-05-01T00:00:00\",\"1993-06-01T00:00:00\",\"1993-07-01T00:00:00\",\"1993-08-01T00:00:00\",\"1993-09-01T00:00:00\",\"1993-10-01T00:00:00\",\"1993-11-01T00:00:00\",\"1993-12-01T00:00:00\",\"1994-01-01T00:00:00\",\"1994-02-01T00:00:00\",\"1994-03-01T00:00:00\",\"1994-04-01T00:00:00\",\"1994-05-01T00:00:00\",\"1994-06-01T00:00:00\",\"1994-07-01T00:00:00\",\"1994-08-01T00:00:00\",\"1994-09-01T00:00:00\",\"1994-10-01T00:00:00\",\"1994-11-01T00:00:00\",\"1994-12-01T00:00:00\",\"1995-01-01T00:00:00\",\"1995-02-01T00:00:00\",\"1995-03-01T00:00:00\",\"1995-04-01T00:00:00\",\"1995-05-01T00:00:00\",\"1995-06-01T00:00:00\",\"1995-07-01T00:00:00\",\"1995-08-01T00:00:00\",\"1995-09-01T00:00:00\",\"1995-10-01T00:00:00\",\"1995-11-01T00:00:00\",\"1995-12-01T00:00:00\",\"1996-01-01T00:00:00\",\"1996-02-01T00:00:00\",\"1996-03-01T00:00:00\",\"1996-04-01T00:00:00\",\"1996-05-01T00:00:00\",\"1996-06-01T00:00:00\",\"1996-07-01T00:00:00\",\"1996-08-01T00:00:00\",\"1996-09-01T00:00:00\",\"1996-10-01T00:00:00\",\"1996-11-01T00:00:00\",\"1996-12-01T00:00:00\",\"1997-01-01T00:00:00\",\"1997-02-01T00:00:00\",\"1997-03-01T00:00:00\",\"1997-04-01T00:00:00\",\"1997-05-01T00:00:00\",\"1997-06-01T00:00:00\",\"1997-07-01T00:00:00\",\"1997-08-01T00:00:00\",\"1997-09-01T00:00:00\",\"1997-10-01T00:00:00\",\"1997-11-01T00:00:00\",\"1997-12-01T00:00:00\",\"1998-01-01T00:00:00\",\"1998-02-01T00:00:00\",\"1998-03-01T00:00:00\",\"1998-04-01T00:00:00\",\"1998-05-01T00:00:00\",\"1998-06-01T00:00:00\",\"1998-07-01T00:00:00\",\"1998-08-01T00:00:00\",\"1998-09-01T00:00:00\",\"1998-10-01T00:00:00\",\"1998-11-01T00:00:00\",\"1998-12-01T00:00:00\",\"1999-01-01T00:00:00\",\"1999-02-01T00:00:00\",\"1999-03-01T00:00:00\",\"1999-04-01T00:00:00\",\"1999-05-01T00:00:00\",\"1999-06-01T00:00:00\",\"1999-07-01T00:00:00\",\"1999-08-01T00:00:00\",\"1999-09-01T00:00:00\",\"1999-10-01T00:00:00\",\"1999-11-01T00:00:00\",\"1999-12-01T00:00:00\",\"2000-01-01T00:00:00\",\"2000-02-01T00:00:00\",\"2000-03-01T00:00:00\",\"2000-04-01T00:00:00\",\"2000-05-01T00:00:00\",\"2000-06-01T00:00:00\",\"2000-07-01T00:00:00\",\"2000-08-01T00:00:00\",\"2000-09-01T00:00:00\",\"2000-10-01T00:00:00\",\"2000-11-01T00:00:00\",\"2000-12-01T00:00:00\",\"2001-01-01T00:00:00\",\"2001-02-01T00:00:00\",\"2001-03-01T00:00:00\",\"2001-04-01T00:00:00\",\"2001-05-01T00:00:00\",\"2001-06-01T00:00:00\",\"2001-07-01T00:00:00\",\"2001-08-01T00:00:00\",\"2001-09-01T00:00:00\",\"2001-10-01T00:00:00\",\"2001-11-01T00:00:00\",\"2001-12-01T00:00:00\",\"2002-01-01T00:00:00\",\"2002-02-01T00:00:00\",\"2002-03-01T00:00:00\",\"2002-04-01T00:00:00\",\"2002-05-01T00:00:00\",\"2002-06-01T00:00:00\",\"2002-07-01T00:00:00\",\"2002-08-01T00:00:00\",\"2002-09-01T00:00:00\",\"2002-10-01T00:00:00\",\"2002-11-01T00:00:00\",\"2002-12-01T00:00:00\",\"2003-01-01T00:00:00\",\"2003-02-01T00:00:00\",\"2003-03-01T00:00:00\",\"2003-04-01T00:00:00\",\"2003-05-01T00:00:00\",\"2003-06-01T00:00:00\",\"2003-07-01T00:00:00\",\"2003-08-01T00:00:00\",\"2003-09-01T00:00:00\",\"2003-10-01T00:00:00\",\"2003-11-01T00:00:00\",\"2003-12-01T00:00:00\",\"2004-01-01T00:00:00\",\"2004-02-01T00:00:00\",\"2004-03-01T00:00:00\",\"2004-04-01T00:00:00\",\"2004-05-01T00:00:00\",\"2004-06-01T00:00:00\",\"2004-07-01T00:00:00\",\"2004-08-01T00:00:00\",\"2004-09-01T00:00:00\",\"2004-10-01T00:00:00\",\"2004-11-01T00:00:00\",\"2004-12-01T00:00:00\",\"2005-01-01T00:00:00\"],\"y\":[26.15,27.23,27.22,27.36,27.65,27.06,26.2,26.75,26.68,26.66,26.66,26.64,26.03,26.5,26.9,27.24,28.04,27.26,26.58,26.46,26.36,26.29,26.21,26.53,26.03,26.39,27.53,27.64,27.8,27.79,27.48,26.97,27.34,27.5,27.38,26.47,26.58,27.05,27.34,27.93,27.86,27.42,27.12,26.54,27.01,26.69,26.67,25.92,26.62,26.0,26.99,27.1,27.37,27.38,27.27,26.94,26.96,26.7,26.93,26.4,26.22,27.24,27.13,27.89,27.84,27.37,26.77,26.74,26.94,26.95,27.2,26.34,26.65,26.73,27.33,27.48,27.8,27.59,27.05,26.76,26.87,27.18,26.54,26.44,26.71,27.07,27.71,27.63,27.93,27.55,26.83,26.59,26.46,26.17,26.45,26.37,26.6,26.76,27.2,27.22,27.8,27.49,27.16,26.92,26.7,27.0,26.87,26.81,26.49,27.03,27.08,27.43,27.54,27.39,26.66,26.73,26.98,27.39,27.69,27.09,26.86,27.06,27.27,27.8,28.02,27.6,26.98,26.96,26.95,26.81,26.68,26.76,26.31,26.77,27.61,27.66,28.14,27.63,27.45,26.86,27.02,26.41,26.67,26.3,26.37,27.08,27.8,27.39,27.96,27.63,26.95,26.92,27.14,27.68,27.81,27.69,28.04,27.94,28.26,28.29,28.76,27.72,27.11,27.04,27.19,26.7,27.02,26.96,26.55,26.92,27.74,28.05,27.52,27.35,26.64,26.54,27.08,26.48,26.78,26.51,26.61,27.06,27.7,27.69,28.05,27.11,27.09,26.59,27.34,26.98,26.87,27.28,26.82,26.74,27.46,27.47,28.1,27.2,27.17,27.14,27.01,26.7,26.79,26.99,26.67,26.86,27.68,27.58,28.2,27.88,27.34,27.14,27.15,27.57,27.39,27.35,27.61,27.05,27.84,28.11,28.38,28.16,27.54,27.43,27.18,27.04,27.32,26.55,27.16,27.06,27.75,28.21,27.97,27.52,26.96,27.1,27.46,27.64,27.36,26.9,26.61],\"type\":\"scatter\"},{\"marker\":{\"color\":\"blue\"},\"mode\":\"lines\",\"name\":\"Testing\",\"x\":[\"2005-02-01T00:00:00\",\"2005-03-01T00:00:00\",\"2005-04-01T00:00:00\",\"2005-05-01T00:00:00\",\"2005-06-01T00:00:00\",\"2005-07-01T00:00:00\",\"2005-08-01T00:00:00\",\"2005-09-01T00:00:00\",\"2005-10-01T00:00:00\",\"2005-11-01T00:00:00\",\"2005-12-01T00:00:00\",\"2006-01-01T00:00:00\",\"2006-02-01T00:00:00\",\"2006-03-01T00:00:00\",\"2006-04-01T00:00:00\",\"2006-05-01T00:00:00\",\"2006-06-01T00:00:00\",\"2006-07-01T00:00:00\",\"2006-08-01T00:00:00\",\"2006-09-01T00:00:00\",\"2006-10-01T00:00:00\",\"2006-11-01T00:00:00\",\"2006-12-01T00:00:00\",\"2007-01-01T00:00:00\",\"2007-02-01T00:00:00\",\"2007-03-01T00:00:00\",\"2007-04-01T00:00:00\",\"2007-05-01T00:00:00\",\"2007-06-01T00:00:00\",\"2007-07-01T00:00:00\",\"2007-08-01T00:00:00\",\"2007-09-01T00:00:00\",\"2007-10-01T00:00:00\",\"2007-11-01T00:00:00\",\"2007-12-01T00:00:00\",\"2008-01-01T00:00:00\",\"2008-02-01T00:00:00\",\"2008-03-01T00:00:00\",\"2008-04-01T00:00:00\",\"2008-05-01T00:00:00\",\"2008-06-01T00:00:00\",\"2008-07-01T00:00:00\",\"2008-08-01T00:00:00\",\"2008-09-01T00:00:00\",\"2008-10-01T00:00:00\",\"2008-11-01T00:00:00\",\"2008-12-01T00:00:00\",\"2009-01-01T00:00:00\",\"2009-02-01T00:00:00\",\"2009-03-01T00:00:00\",\"2009-04-01T00:00:00\",\"2009-05-01T00:00:00\",\"2009-06-01T00:00:00\",\"2009-07-01T00:00:00\",\"2009-08-01T00:00:00\",\"2009-09-01T00:00:00\",\"2009-10-01T00:00:00\",\"2009-11-01T00:00:00\",\"2009-12-01T00:00:00\",\"2010-01-01T00:00:00\",\"2010-02-01T00:00:00\",\"2010-03-01T00:00:00\",\"2010-04-01T00:00:00\",\"2010-05-01T00:00:00\",\"2010-06-01T00:00:00\",\"2010-07-01T00:00:00\",\"2010-08-01T00:00:00\",\"2010-09-01T00:00:00\",\"2010-10-01T00:00:00\",\"2010-11-01T00:00:00\",\"2010-12-01T00:00:00\",\"2011-01-01T00:00:00\",\"2011-02-01T00:00:00\",\"2011-03-01T00:00:00\",\"2011-04-01T00:00:00\",\"2011-05-01T00:00:00\",\"2011-06-01T00:00:00\",\"2011-07-01T00:00:00\",\"2011-08-01T00:00:00\",\"2011-09-01T00:00:00\",\"2011-10-01T00:00:00\",\"2011-11-01T00:00:00\",\"2011-12-01T00:00:00\",\"2012-01-01T00:00:00\",\"2012-02-01T00:00:00\",\"2012-03-01T00:00:00\",\"2012-04-01T00:00:00\",\"2012-05-01T00:00:00\",\"2012-06-01T00:00:00\",\"2012-07-01T00:00:00\",\"2012-08-01T00:00:00\",\"2012-09-01T00:00:00\",\"2012-10-01T00:00:00\",\"2012-11-01T00:00:00\",\"2012-12-01T00:00:00\",\"2013-01-01T00:00:00\",\"2013-02-01T00:00:00\",\"2013-03-01T00:00:00\",\"2013-04-01T00:00:00\",\"2013-05-01T00:00:00\",\"2013-06-01T00:00:00\",\"2013-07-01T00:00:00\",\"2013-08-01T00:00:00\",\"2013-09-01T00:00:00\"],\"y\":[27.17,27.6,27.98,28.19,27.61,27.08,26.99,27.19,26.82,26.8,26.62,26.46,27.29,27.46,27.53,27.84,27.42,27.32,26.9,27.1,27.89,28.12,27.33,27.41,26.8,27.48,27.53,28.0,27.34,27.15,26.94,27.08,27.06,27.23,26.46,27.09,26.44,27.0,27.36,27.83,27.22,26.88,26.68,26.97,26.8,26.86,26.53,26.29,26.51,27.44,27.81,27.99,27.8,27.28,27.29,27.73,27.3,27.1,27.19,26.79,27.57,27.9,28.61,28.49,27.39,27.04,27.09,26.3,26.32,26.88,26.6,26.56,27.03,27.24,27.65,27.89,27.71,27.07,27.09,27.21,27.04,27.18,27.25,26.91,27.29,27.69,27.61,28.13,27.72,27.1,27.05,27.43,27.32,27.09,27.01,26.74,27.34,27.72,27.64,27.94,27.88,26.86,26.87,26.87],\"type\":\"scatter\"}],                        {\"title\":{\"text\":\"Train-test Split\"},\"template\":{\"data\":{\"bar\":[{\"error_x\":{\"color\":\"#2a3f5f\"},\"error_y\":{\"color\":\"#2a3f5f\"},\"marker\":{\"line\":{\"color\":\"#E5ECF6\",\"width\":0.5},\"pattern\":{\"fillmode\":\"overlay\",\"size\":10,\"solidity\":0.2}},\"type\":\"bar\"}],\"barpolar\":[{\"marker\":{\"line\":{\"color\":\"#E5ECF6\",\"width\":0.5},\"pattern\":{\"fillmode\":\"overlay\",\"size\":10,\"solidity\":0.2}},\"type\":\"barpolar\"}],\"carpet\":[{\"aaxis\":{\"endlinecolor\":\"#2a3f5f\",\"gridcolor\":\"white\",\"linecolor\":\"white\",\"minorgridcolor\":\"white\",\"startlinecolor\":\"#2a3f5f\"},\"baxis\":{\"endlinecolor\":\"#2a3f5f\",\"gridcolor\":\"white\",\"linecolor\":\"white\",\"minorgridcolor\":\"white\",\"startlinecolor\":\"#2a3f5f\"},\"type\":\"carpet\"}],\"choropleth\":[{\"colorbar\":{\"outlinewidth\":0,\"ticks\":\"\"},\"type\":\"choropleth\"}],\"contour\":[{\"colorbar\":{\"outlinewidth\":0,\"ticks\":\"\"},\"colorscale\":[[0.0,\"#0d0887\"],[0.1111111111111111,\"#46039f\"],[0.2222222222222222,\"#7201a8\"],[0.3333333333333333,\"#9c179e\"],[0.4444444444444444,\"#bd3786\"],[0.5555555555555556,\"#d8576b\"],[0.6666666666666666,\"#ed7953\"],[0.7777777777777778,\"#fb9f3a\"],[0.8888888888888888,\"#fdca26\"],[1.0,\"#f0f921\"]],\"type\":\"contour\"}],\"contourcarpet\":[{\"colorbar\":{\"outlinewidth\":0,\"ticks\":\"\"},\"type\":\"contourcarpet\"}],\"heatmap\":[{\"colorbar\":{\"outlinewidth\":0,\"ticks\":\"\"},\"colorscale\":[[0.0,\"#0d0887\"],[0.1111111111111111,\"#46039f\"],[0.2222222222222222,\"#7201a8\"],[0.3333333333333333,\"#9c179e\"],[0.4444444444444444,\"#bd3786\"],[0.5555555555555556,\"#d8576b\"],[0.6666666666666666,\"#ed7953\"],[0.7777777777777778,\"#fb9f3a\"],[0.8888888888888888,\"#fdca26\"],[1.0,\"#f0f921\"]],\"type\":\"heatmap\"}],\"heatmapgl\":[{\"colorbar\":{\"outlinewidth\":0,\"ticks\":\"\"},\"colorscale\":[[0.0,\"#0d0887\"],[0.1111111111111111,\"#46039f\"],[0.2222222222222222,\"#7201a8\"],[0.3333333333333333,\"#9c179e\"],[0.4444444444444444,\"#bd3786\"],[0.5555555555555556,\"#d8576b\"],[0.6666666666666666,\"#ed7953\"],[0.7777777777777778,\"#fb9f3a\"],[0.8888888888888888,\"#fdca26\"],[1.0,\"#f0f921\"]],\"type\":\"heatmapgl\"}],\"histogram\":[{\"marker\":{\"pattern\":{\"fillmode\":\"overlay\",\"size\":10,\"solidity\":0.2}},\"type\":\"histogram\"}],\"histogram2d\":[{\"colorbar\":{\"outlinewidth\":0,\"ticks\":\"\"},\"colorscale\":[[0.0,\"#0d0887\"],[0.1111111111111111,\"#46039f\"],[0.2222222222222222,\"#7201a8\"],[0.3333333333333333,\"#9c179e\"],[0.4444444444444444,\"#bd3786\"],[0.5555555555555556,\"#d8576b\"],[0.6666666666666666,\"#ed7953\"],[0.7777777777777778,\"#fb9f3a\"],[0.8888888888888888,\"#fdca26\"],[1.0,\"#f0f921\"]],\"type\":\"histogram2d\"}],\"histogram2dcontour\":[{\"colorbar\":{\"outlinewidth\":0,\"ticks\":\"\"},\"colorscale\":[[0.0,\"#0d0887\"],[0.1111111111111111,\"#46039f\"],[0.2222222222222222,\"#7201a8\"],[0.3333333333333333,\"#9c179e\"],[0.4444444444444444,\"#bd3786\"],[0.5555555555555556,\"#d8576b\"],[0.6666666666666666,\"#ed7953\"],[0.7777777777777778,\"#fb9f3a\"],[0.8888888888888888,\"#fdca26\"],[1.0,\"#f0f921\"]],\"type\":\"histogram2dcontour\"}],\"mesh3d\":[{\"colorbar\":{\"outlinewidth\":0,\"ticks\":\"\"},\"type\":\"mesh3d\"}],\"parcoords\":[{\"line\":{\"colorbar\":{\"outlinewidth\":0,\"ticks\":\"\"}},\"type\":\"parcoords\"}],\"pie\":[{\"automargin\":true,\"type\":\"pie\"}],\"scatter\":[{\"marker\":{\"colorbar\":{\"outlinewidth\":0,\"ticks\":\"\"}},\"type\":\"scatter\"}],\"scatter3d\":[{\"line\":{\"colorbar\":{\"outlinewidth\":0,\"ticks\":\"\"}},\"marker\":{\"colorbar\":{\"outlinewidth\":0,\"ticks\":\"\"}},\"type\":\"scatter3d\"}],\"scattercarpet\":[{\"marker\":{\"colorbar\":{\"outlinewidth\":0,\"ticks\":\"\"}},\"type\":\"scattercarpet\"}],\"scattergeo\":[{\"marker\":{\"colorbar\":{\"outlinewidth\":0,\"ticks\":\"\"}},\"type\":\"scattergeo\"}],\"scattergl\":[{\"marker\":{\"colorbar\":{\"outlinewidth\":0,\"ticks\":\"\"}},\"type\":\"scattergl\"}],\"scattermapbox\":[{\"marker\":{\"colorbar\":{\"outlinewidth\":0,\"ticks\":\"\"}},\"type\":\"scattermapbox\"}],\"scatterpolar\":[{\"marker\":{\"colorbar\":{\"outlinewidth\":0,\"ticks\":\"\"}},\"type\":\"scatterpolar\"}],\"scatterpolargl\":[{\"marker\":{\"colorbar\":{\"outlinewidth\":0,\"ticks\":\"\"}},\"type\":\"scatterpolargl\"}],\"scatterternary\":[{\"marker\":{\"colorbar\":{\"outlinewidth\":0,\"ticks\":\"\"}},\"type\":\"scatterternary\"}],\"surface\":[{\"colorbar\":{\"outlinewidth\":0,\"ticks\":\"\"},\"colorscale\":[[0.0,\"#0d0887\"],[0.1111111111111111,\"#46039f\"],[0.2222222222222222,\"#7201a8\"],[0.3333333333333333,\"#9c179e\"],[0.4444444444444444,\"#bd3786\"],[0.5555555555555556,\"#d8576b\"],[0.6666666666666666,\"#ed7953\"],[0.7777777777777778,\"#fb9f3a\"],[0.8888888888888888,\"#fdca26\"],[1.0,\"#f0f921\"]],\"type\":\"surface\"}],\"table\":[{\"cells\":{\"fill\":{\"color\":\"#EBF0F8\"},\"line\":{\"color\":\"white\"}},\"header\":{\"fill\":{\"color\":\"#C8D4E3\"},\"line\":{\"color\":\"white\"}},\"type\":\"table\"}]},\"layout\":{\"annotationdefaults\":{\"arrowcolor\":\"#2a3f5f\",\"arrowhead\":0,\"arrowwidth\":1},\"autotypenumbers\":\"strict\",\"coloraxis\":{\"colorbar\":{\"outlinewidth\":0,\"ticks\":\"\"}},\"colorscale\":{\"diverging\":[[0,\"#8e0152\"],[0.1,\"#c51b7d\"],[0.2,\"#de77ae\"],[0.3,\"#f1b6da\"],[0.4,\"#fde0ef\"],[0.5,\"#f7f7f7\"],[0.6,\"#e6f5d0\"],[0.7,\"#b8e186\"],[0.8,\"#7fbc41\"],[0.9,\"#4d9221\"],[1,\"#276419\"]],\"sequential\":[[0.0,\"#0d0887\"],[0.1111111111111111,\"#46039f\"],[0.2222222222222222,\"#7201a8\"],[0.3333333333333333,\"#9c179e\"],[0.4444444444444444,\"#bd3786\"],[0.5555555555555556,\"#d8576b\"],[0.6666666666666666,\"#ed7953\"],[0.7777777777777778,\"#fb9f3a\"],[0.8888888888888888,\"#fdca26\"],[1.0,\"#f0f921\"]],\"sequentialminus\":[[0.0,\"#0d0887\"],[0.1111111111111111,\"#46039f\"],[0.2222222222222222,\"#7201a8\"],[0.3333333333333333,\"#9c179e\"],[0.4444444444444444,\"#bd3786\"],[0.5555555555555556,\"#d8576b\"],[0.6666666666666666,\"#ed7953\"],[0.7777777777777778,\"#fb9f3a\"],[0.8888888888888888,\"#fdca26\"],[1.0,\"#f0f921\"]]},\"colorway\":[\"#636efa\",\"#EF553B\",\"#00cc96\",\"#ab63fa\",\"#FFA15A\",\"#19d3f3\",\"#FF6692\",\"#B6E880\",\"#FF97FF\",\"#FECB52\"],\"font\":{\"color\":\"#2a3f5f\"},\"geo\":{\"bgcolor\":\"white\",\"lakecolor\":\"white\",\"landcolor\":\"#E5ECF6\",\"showlakes\":true,\"showland\":true,\"subunitcolor\":\"white\"},\"hoverlabel\":{\"align\":\"left\"},\"hovermode\":\"closest\",\"mapbox\":{\"style\":\"light\"},\"paper_bgcolor\":\"white\",\"plot_bgcolor\":\"#E5ECF6\",\"polar\":{\"angularaxis\":{\"gridcolor\":\"white\",\"linecolor\":\"white\",\"ticks\":\"\"},\"bgcolor\":\"#E5ECF6\",\"radialaxis\":{\"gridcolor\":\"white\",\"linecolor\":\"white\",\"ticks\":\"\"}},\"scene\":{\"xaxis\":{\"backgroundcolor\":\"#E5ECF6\",\"gridcolor\":\"white\",\"gridwidth\":2,\"linecolor\":\"white\",\"showbackground\":true,\"ticks\":\"\",\"zerolinecolor\":\"white\"},\"yaxis\":{\"backgroundcolor\":\"#E5ECF6\",\"gridcolor\":\"white\",\"gridwidth\":2,\"linecolor\":\"white\",\"showbackground\":true,\"ticks\":\"\",\"zerolinecolor\":\"white\"},\"zaxis\":{\"backgroundcolor\":\"#E5ECF6\",\"gridcolor\":\"white\",\"gridwidth\":2,\"linecolor\":\"white\",\"showbackground\":true,\"ticks\":\"\",\"zerolinecolor\":\"white\"}},\"shapedefaults\":{\"line\":{\"color\":\"#2a3f5f\"}},\"ternary\":{\"aaxis\":{\"gridcolor\":\"white\",\"linecolor\":\"white\",\"ticks\":\"\"},\"baxis\":{\"gridcolor\":\"white\",\"linecolor\":\"white\",\"ticks\":\"\"},\"bgcolor\":\"#E5ECF6\",\"caxis\":{\"gridcolor\":\"white\",\"linecolor\":\"white\",\"ticks\":\"\"}},\"title\":{\"x\":0.05},\"xaxis\":{\"automargin\":true,\"gridcolor\":\"white\",\"linecolor\":\"white\",\"ticks\":\"\",\"title\":{\"standoff\":15},\"zerolinecolor\":\"white\",\"zerolinewidth\":2},\"yaxis\":{\"automargin\":true,\"gridcolor\":\"white\",\"linecolor\":\"white\",\"ticks\":\"\",\"title\":{\"standoff\":15},\"zerolinecolor\":\"white\",\"zerolinewidth\":2}}}},                        {\"responsive\": true}                    ).then(function(){\n",
              "                            \n",
              "var gd = document.getElementById('a82c7738-1bbd-4acd-8776-8b0381aad7bd');\n",
              "var x = new MutationObserver(function (mutations, observer) {{\n",
              "        var display = window.getComputedStyle(gd).display;\n",
              "        if (!display || display === 'none') {{\n",
              "            console.log([gd, 'removed!']);\n",
              "            Plotly.purge(gd);\n",
              "            observer.disconnect();\n",
              "        }}\n",
              "}});\n",
              "\n",
              "// Listen for the removal of the full notebook cells\n",
              "var notebookContainer = gd.closest('#notebook-container');\n",
              "if (notebookContainer) {{\n",
              "    x.observe(notebookContainer, {childList: true});\n",
              "}}\n",
              "\n",
              "// Listen for the clearing of the current output cell\n",
              "var outputEl = gd.closest('.output');\n",
              "if (outputEl) {{\n",
              "    x.observe(outputEl, {childList: true});\n",
              "}}\n",
              "\n",
              "                        })                };                            </script>        </div>\n",
              "</body>\n",
              "</html>"
            ]
          },
          "metadata": {}
        }
      ]
    },
    {
      "cell_type": "markdown",
      "source": [
        "### **Feature Scaling**\n"
      ],
      "metadata": {
        "id": "WtvMf3-i-BdO"
      }
    },
    {
      "cell_type": "code",
      "source": [
        "# Minmax Scaler\n",
        "sc = MinMaxScaler(feature_range = (0,1))\n",
        "\n",
        "train_sc = sc.fit_transform(train)\n",
        "test_sc = sc.transform(test)"
      ],
      "metadata": {
        "id": "bnz0zFyp-Hfa"
      },
      "execution_count": null,
      "outputs": []
    },
    {
      "cell_type": "markdown",
      "source": [
        "### **Data Shape Conversion**"
      ],
      "metadata": {
        "id": "8wrnKPrS-cw9"
      }
    },
    {
      "cell_type": "markdown",
      "source": [
        "Before building a model, LSTM and CNN expects the input data to be of **3D shape (number of samples, timesteps, number of features)**. For this project, I choose timesteps = 6."
      ],
      "metadata": {
        "id": "3ZUx5BbM-h9q"
      }
    },
    {
      "cell_type": "code",
      "source": [
        "def data_conv(data, timesteps):\n",
        "  x, y = [], []\n",
        "  for i in range(timesteps, data.shape[0]):\n",
        "    x.append(data[i-timesteps:i,0])\n",
        "    y.append(data[i,0])\n",
        "\n",
        "  # Convert to the format of #number of samples, #timesteps, #features\n",
        "  x = np.array(x)\n",
        "  x = x.reshape(x.shape[0], x.shape[1], 1)\n",
        "  y = np.array(y)\n",
        "    \n",
        "  return x,y"
      ],
      "metadata": {
        "id": "dttBlFAT_6fp"
      },
      "execution_count": null,
      "outputs": []
    },
    {
      "cell_type": "code",
      "source": [
        "timesteps = 6 # use data from previous 6 months to predict 1 future month\n",
        "# Training Data\n",
        "train_x, train_y = data_conv(train_sc, timesteps)\n",
        "\n",
        "# Testing Data\n",
        "test_x, test_y = data_conv(test_sc, timesteps)"
      ],
      "metadata": {
        "id": "mPkNGjdjA0uW"
      },
      "execution_count": null,
      "outputs": []
    },
    {
      "cell_type": "code",
      "source": [
        "# Training Data\n",
        "print(f'Train_x shape : {train_x.shape}')\n",
        "print(f'Train_y shape : {train_y.shape}')\n",
        "\n",
        "# Testing Data\n",
        "print(f'Test_x shape : {test_x.shape}')\n",
        "print(f'Test_y shape : {test_y.shape}')"
      ],
      "metadata": {
        "colab": {
          "base_uri": "https://localhost:8080/"
        },
        "id": "uzW6_rmXBIDi",
        "outputId": "1fbc39c5-3602-4dc0-e789-49eca8bf9d22"
      },
      "execution_count": null,
      "outputs": [
        {
          "output_type": "stream",
          "name": "stdout",
          "text": [
            "Train_x shape : (235, 6, 1)\n",
            "Train_y shape : (235,)\n",
            "Test_x shape : (98, 6, 1)\n",
            "Test_y shape : (98,)\n"
          ]
        }
      ]
    },
    {
      "cell_type": "markdown",
      "source": [
        "## **4. HYPERPARAMETER TUNING**"
      ],
      "metadata": {
        "id": "lkNE92DUBpBt"
      }
    },
    {
      "cell_type": "code",
      "source": [
        "# Function for building the hyperparameter tuning LSTM \n",
        "def build_lstm(hp):\n",
        "  activation = hp.Choice('activation', ['relu', 'tanh',  'selu','elu'])\n",
        "  num_rnn_layers = hp.Int('num_rnn_layers', min_value=1, max_value=64)\n",
        "  dropout_rate = hp.Float('dropout_rate', min_value = 0.2, max_value = 0.9)\n",
        "  num_units = hp.Int('num_units', min_value=1, max_value=100)\n",
        "      \n",
        "  model = Sequential()\n",
        "  # Input Layer \n",
        "  model.add(LSTM(units=num_units, activation=activation,input_shape=(timesteps, 1), return_sequences = True))\n",
        "    \n",
        "  # Tune the number of hidden layers\n",
        "  # Hidden Layers\n",
        "  for i in range(num_rnn_layers) :\n",
        "    model.add(Dropout(dropout_rate))\n",
        "    model.add(LSTM(units=num_units, activation = activation, return_sequences = True))\n",
        "        \n",
        "  model.add(LSTM(units=num_units, activation = activation, return_sequences = False))\n",
        "  # Output Layes\n",
        "  model.add(Dense(1, activation = activation))\n",
        "  \n",
        "  # Compile the model\n",
        "  model.compile(loss='mean_squared_error', optimizer='Adam', metrics = ['mse', 'mae'])                                       \n",
        "  return model"
      ],
      "metadata": {
        "id": "3-0MTQiIBvC8"
      },
      "execution_count": null,
      "outputs": []
    },
    {
      "cell_type": "code",
      "source": [
        "def build_cnn(hp):\n",
        "  # Hyperparameter Tuning for Conv1D\n",
        "  kernel = hp.Int('kernel', min_value = 1, max_value = 3)\n",
        "  filter = hp.Choice('filter', [32, 64,128]) # filter is used for data extraction\n",
        "  unit = hp.Int('unit', min_value = 10, max_value = 100)\n",
        "  dropout = hp.Float('dropout', min_value = 0.2, max_value = 0.9)\n",
        "  activation_cnn = hp.Choice('activation_cnn', ['relu', 'sigmoid', 'softmax', 'tanh'])\n",
        "  activation_dense = hp.Choice('activation_dense',['relu', 'tanh',  'selu','elu'])\n",
        "\n",
        "  model = Sequential()\n",
        "  model.add(Conv1D(filters = filter, kernel_size= kernel, kernel_initializer = 'he_normal', activation = activation_cnn, input_shape = (timesteps, 1)))\n",
        "  model.add(MaxPooling1D(pool_size = 1))\n",
        "  model.add(Flatten()) \n",
        "  model.add(Dropout(dropout))\n",
        "  model.add(Dense(units = unit, activation = activation_dense))\n",
        "  model.add(Dropout(dropout))\n",
        "  # Output Layer\n",
        "  model.add(Dense(1, activation = 'relu'))\n",
        "  \n",
        "  # Compile the model\n",
        "  model.compile(loss='mean_squared_error', optimizer='Adam', metrics = ['mse', 'mae'])                                       \n",
        "  return model"
      ],
      "metadata": {
        "id": "BFK24HleDM_Q"
      },
      "execution_count": null,
      "outputs": []
    },
    {
      "cell_type": "code",
      "source": [
        "# Function to get best model and best hyperparameter of LSTM \n",
        "def best_model_lstm(tuner, df1, df2, df3, df4,  n_epochs=100) :\n",
        "  tuner.search(df1, df2, epochs = n_epochs, validation_data = (df3, df4), verbose =1)\n",
        "  best_model = tuner.get_best_models(num_models=1)\n",
        "  model = best_model[0]\n",
        "  best_hps = tuner.get_best_hyperparameters(num_trials=1)[0]\n",
        "  unit = best_hps.get('num_units')\n",
        "  layer = best_hps.get('num_rnn_layers')\n",
        "  activation = best_hps.get('activation')\n",
        "  dropout = best_hps.get('dropout_rate')\n",
        "  return model, unit, layer, activation, dropout\n",
        "\n",
        "# Function to get best model and best hyperparameters of CNN1D\n",
        "def best_model_cnn(tuner, df1, df2, df3, df4,  n_epochs=100) :\n",
        "  tuner.search(df1, df2, epochs = n_epochs, validation_data = (df3, df4), verbose =1)\n",
        "  best_model = tuner.get_best_models(num_models=1)\n",
        "  model = best_model[0]\n",
        "  best_hps = tuner.get_best_hyperparameters(num_trials=1)[0]\n",
        "  unit = best_hps.get('unit')\n",
        "  kernel = best_hps.get('kernel')\n",
        "  activation_cnn = best_hps.get('activation_cnn')\n",
        "  activation_dense = best_hps.get('activation_dense')\n",
        "  dropout = best_hps.get('dropout')\n",
        "  filter = best_hps.get('filter')\n",
        "  return model, unit, kernel, activation_cnn, activation_dense, dropout, filter"
      ],
      "metadata": {
        "id": "eDMCIIo1CGKC"
      },
      "execution_count": null,
      "outputs": []
    },
    {
      "cell_type": "code",
      "source": [
        "# Function to display the best hyperparameters of LSTM and BiLSTM\n",
        "def best_hps_lstm(unit, layer, activation, dropout) :\n",
        "\n",
        "  output = print(f\"\"\"The hyperparameter search is complete. The optimal number of layer is {layer}, \n",
        "  the optimal number of units is {unit},\n",
        "  the best activation is {activation},\n",
        "  the best dropout is {dropout}\"\"\")\n",
        "  \n",
        "  return output\n",
        "\n",
        "# Function to display the best hyperparameters of CNN\n",
        "def best_hps_cnn(unit, kernel, activation_cnn, activation_dense, dropout, filter) :\n",
        "\n",
        "  output = print(f\"\"\"The hyperparameter search is complete. The optimal number of filter is {filter}, , \n",
        "  the optimal kernel size is {kernel},\n",
        "  the optimal number of units is {unit},\n",
        "  the best activation for CNN is {activation_cnn},\n",
        "  the best activation for dense is {activation_dense},\n",
        "  the best dropout is {dropout}\"\"\")\n",
        "  \n",
        "  return output"
      ],
      "metadata": {
        "id": "VYG80cX2CXEL"
      },
      "execution_count": null,
      "outputs": []
    },
    {
      "cell_type": "code",
      "source": [
        "def make_pred(model, df1, df2, df3, df4, epochs=100, batch_size=64) :\n",
        "  # df1 = train_x\n",
        "  # df2 = train_y\n",
        "  # df3 = test_x\n",
        "  # df4 = test_y\n",
        "  history = model.fit(df1, df2, epochs = epochs, batch_size = batch_size, verbose = 1, validation_data = (df3, df4) )\n",
        "\n",
        "  # make predictions\n",
        "  best_pred_train= model.predict(df1)\n",
        "  best_pred_test = model.predict(df3)\n",
        "\n",
        "   # invert predictions\n",
        "  best_pred_train_inv = sc.inverse_transform(best_pred_train)\n",
        "  df2_inv = sc.inverse_transform([df2])\n",
        "  best_pred_test_inv = sc.inverse_transform(best_pred_test)\n",
        "  df4_inv = sc.inverse_transform([df4])\n",
        "\n",
        "  return best_pred_train_inv, best_pred_test_inv, df2_inv, df4_inv, history"
      ],
      "metadata": {
        "id": "Lv4kW5r8DFnG"
      },
      "execution_count": null,
      "outputs": []
    },
    {
      "cell_type": "code",
      "source": [
        "# Function to evaluate the model and also display the RMSE and MAE values\n",
        "def model_evaluation(best_pred_train_inv, best_pred_test_inv, df2_inv, df4_inv) :\n",
        "  rmse_train = sqrt(mean_squared_error(df2_inv[0], best_pred_train_inv[:,0]))\n",
        "  rmse_test = sqrt(mean_squared_error(df4_inv[0], best_pred_test_inv[:,0]))\n",
        "  mae_train = mean_absolute_error(df2_inv[0], best_pred_train_inv[:,0])\n",
        "  mae_test =  mean_absolute_error(df4_inv[0], best_pred_test_inv[:,0])\n",
        "\n",
        "  return rmse_train, rmse_test, mae_train, mae_test"
      ],
      "metadata": {
        "id": "9m1GXUTeEWBQ"
      },
      "execution_count": null,
      "outputs": []
    },
    {
      "cell_type": "code",
      "source": [
        "def pred_plot(df, best_pred1, best_pred2) :\n",
        "  plt.figure(figsize=(12,6))\n",
        "  plt.plot( df[0][:80], 'k', label=\"Actual\")\n",
        "  plt.plot(best_pred1[:,0][:80], 'b', label=\"CNN\")\n",
        "  plt.plot(best_pred2[:,0][:80], 'r', label = 'LSTM')\n",
        "  # plt.tick_params(left=False, labelleft=True) #remove ticks\n",
        "  plt.tight_layout()\n",
        "  sns.despine(top=True)\n",
        "  plt.subplots_adjust(left=0.07)\n",
        "  plt.ylabel('Air Temperature', size=15)\n",
        "  plt.xlabel('Timestep', size=15)\n",
        "  plt.legend(fontsize=15)\n",
        "  plt.show()"
      ],
      "metadata": {
        "id": "8HQI7f1eEoca"
      },
      "execution_count": null,
      "outputs": []
    },
    {
      "cell_type": "markdown",
      "source": [
        "## **5. MODEL BUILDING**"
      ],
      "metadata": {
        "id": "wM3LQ4-1E18V"
      }
    },
    {
      "cell_type": "markdown",
      "source": [
        "### **LSTM**"
      ],
      "metadata": {
        "id": "HJcQdbk8E-V0"
      }
    },
    {
      "cell_type": "code",
      "source": [
        "tuner_lstm = BayesianOptimization(build_lstm, objective = 'val_loss', max_trials = 10, directory = 'tuner_lstm', project_name = 'bayesian_opt')"
      ],
      "metadata": {
        "id": "1uW6telEE4wK"
      },
      "execution_count": null,
      "outputs": []
    },
    {
      "cell_type": "code",
      "source": [
        "model_lstm, unit_lstm, layer_lstm, activation_lstm, dropout_lstm = best_model_lstm(tuner_lstm, train_x, train_y, test_x, test_y)"
      ],
      "metadata": {
        "colab": {
          "base_uri": "https://localhost:8080/"
        },
        "id": "g-D-hEXIFJGx",
        "outputId": "03d99ea0-27da-4af0-c467-ded252bb3ca9"
      },
      "execution_count": null,
      "outputs": [
        {
          "output_type": "stream",
          "name": "stdout",
          "text": [
            "Trial 10 Complete [00h 00m 28s]\n",
            "val_loss: 0.02860938012599945\n",
            "\n",
            "Best val_loss So Far: 0.027750518172979355\n",
            "Total elapsed time: 00h 29m 43s\n"
          ]
        }
      ]
    },
    {
      "cell_type": "code",
      "source": [
        "best_hps_lstm(unit_lstm, layer_lstm, activation_lstm, dropout_lstm)"
      ],
      "metadata": {
        "colab": {
          "base_uri": "https://localhost:8080/"
        },
        "id": "w_3qDYIXMCgB",
        "outputId": "99269f75-a73f-4a26-e4f3-13714bdfb770"
      },
      "execution_count": null,
      "outputs": [
        {
          "output_type": "stream",
          "name": "stdout",
          "text": [
            "The hyperparameter search is complete. The optimal number of layer is 1, \n",
            "  the optimal number of units is 100,\n",
            "  the best activation is relu,\n",
            "  the best dropout is 0.8999999999999999\n"
          ]
        }
      ]
    },
    {
      "cell_type": "code",
      "source": [
        "model_lstm.summary()"
      ],
      "metadata": {
        "colab": {
          "base_uri": "https://localhost:8080/"
        },
        "id": "FcgztjIoMP2-",
        "outputId": "ee7bb03d-6b19-4123-a588-4435939623d6"
      },
      "execution_count": null,
      "outputs": [
        {
          "output_type": "stream",
          "name": "stdout",
          "text": [
            "Model: \"sequential\"\n",
            "_________________________________________________________________\n",
            " Layer (type)                Output Shape              Param #   \n",
            "=================================================================\n",
            " lstm (LSTM)                 (None, 6, 100)            40800     \n",
            "                                                                 \n",
            " dropout (Dropout)           (None, 6, 100)            0         \n",
            "                                                                 \n",
            " lstm_1 (LSTM)               (None, 6, 100)            80400     \n",
            "                                                                 \n",
            " lstm_2 (LSTM)               (None, 100)               80400     \n",
            "                                                                 \n",
            " dense (Dense)               (None, 1)                 101       \n",
            "                                                                 \n",
            "=================================================================\n",
            "Total params: 201,701\n",
            "Trainable params: 201,701\n",
            "Non-trainable params: 0\n",
            "_________________________________________________________________\n"
          ]
        }
      ]
    },
    {
      "cell_type": "code",
      "source": [
        "pred_train_lstm, pred_test_lstm, ntrain_y, ntest_y, history_lstm = make_pred(model_lstm, train_x, train_y, test_x, test_y)"
      ],
      "metadata": {
        "colab": {
          "base_uri": "https://localhost:8080/"
        },
        "id": "JLhNALeHMVaO",
        "outputId": "6f0a6f82-ba5d-4543-cf9c-d5a6e0a05cf2"
      },
      "execution_count": null,
      "outputs": [
        {
          "output_type": "stream",
          "name": "stdout",
          "text": [
            "Epoch 1/100\n",
            "4/4 [==============================] - 4s 204ms/step - loss: 0.0310 - mse: 0.0310 - mae: 0.1445 - val_loss: 0.0307 - val_mse: 0.0307 - val_mae: 0.1350\n",
            "Epoch 2/100\n",
            "4/4 [==============================] - 0s 34ms/step - loss: 0.0311 - mse: 0.0311 - mae: 0.1408 - val_loss: 0.0329 - val_mse: 0.0329 - val_mae: 0.1408\n",
            "Epoch 3/100\n",
            "4/4 [==============================] - 0s 37ms/step - loss: 0.0312 - mse: 0.0312 - mae: 0.1415 - val_loss: 0.0305 - val_mse: 0.0305 - val_mae: 0.1348\n",
            "Epoch 4/100\n",
            "4/4 [==============================] - 0s 37ms/step - loss: 0.0308 - mse: 0.0308 - mae: 0.1410 - val_loss: 0.0298 - val_mse: 0.0298 - val_mae: 0.1330\n",
            "Epoch 5/100\n",
            "4/4 [==============================] - 0s 34ms/step - loss: 0.0309 - mse: 0.0309 - mae: 0.1429 - val_loss: 0.0295 - val_mse: 0.0295 - val_mae: 0.1325\n",
            "Epoch 6/100\n",
            "4/4 [==============================] - 0s 35ms/step - loss: 0.0306 - mse: 0.0306 - mae: 0.1434 - val_loss: 0.0330 - val_mse: 0.0330 - val_mae: 0.1415\n",
            "Epoch 7/100\n",
            "4/4 [==============================] - 0s 35ms/step - loss: 0.0325 - mse: 0.0325 - mae: 0.1439 - val_loss: 0.0327 - val_mse: 0.0327 - val_mae: 0.1407\n",
            "Epoch 8/100\n",
            "4/4 [==============================] - 0s 35ms/step - loss: 0.0303 - mse: 0.0303 - mae: 0.1414 - val_loss: 0.0306 - val_mse: 0.0306 - val_mae: 0.1350\n",
            "Epoch 9/100\n",
            "4/4 [==============================] - 0s 34ms/step - loss: 0.0300 - mse: 0.0300 - mae: 0.1379 - val_loss: 0.0306 - val_mse: 0.0306 - val_mae: 0.1350\n",
            "Epoch 10/100\n",
            "4/4 [==============================] - 0s 34ms/step - loss: 0.0284 - mse: 0.0284 - mae: 0.1360 - val_loss: 0.0302 - val_mse: 0.0302 - val_mae: 0.1340\n",
            "Epoch 11/100\n",
            "4/4 [==============================] - 0s 34ms/step - loss: 0.0306 - mse: 0.0306 - mae: 0.1414 - val_loss: 0.0310 - val_mse: 0.0310 - val_mae: 0.1361\n",
            "Epoch 12/100\n",
            "4/4 [==============================] - 0s 36ms/step - loss: 0.0302 - mse: 0.0302 - mae: 0.1427 - val_loss: 0.0324 - val_mse: 0.0324 - val_mae: 0.1395\n",
            "Epoch 13/100\n",
            "4/4 [==============================] - 0s 34ms/step - loss: 0.0310 - mse: 0.0310 - mae: 0.1424 - val_loss: 0.0342 - val_mse: 0.0342 - val_mae: 0.1443\n",
            "Epoch 14/100\n",
            "4/4 [==============================] - 0s 34ms/step - loss: 0.0291 - mse: 0.0291 - mae: 0.1386 - val_loss: 0.0308 - val_mse: 0.0308 - val_mae: 0.1357\n",
            "Epoch 15/100\n",
            "4/4 [==============================] - 0s 35ms/step - loss: 0.0313 - mse: 0.0313 - mae: 0.1447 - val_loss: 0.0307 - val_mse: 0.0307 - val_mae: 0.1356\n",
            "Epoch 16/100\n",
            "4/4 [==============================] - 0s 35ms/step - loss: 0.0295 - mse: 0.0295 - mae: 0.1403 - val_loss: 0.0333 - val_mse: 0.0333 - val_mae: 0.1422\n",
            "Epoch 17/100\n",
            "4/4 [==============================] - 0s 34ms/step - loss: 0.0296 - mse: 0.0296 - mae: 0.1393 - val_loss: 0.0297 - val_mse: 0.0297 - val_mae: 0.1333\n",
            "Epoch 18/100\n",
            "4/4 [==============================] - 0s 33ms/step - loss: 0.0307 - mse: 0.0307 - mae: 0.1433 - val_loss: 0.0305 - val_mse: 0.0305 - val_mae: 0.1353\n",
            "Epoch 19/100\n",
            "4/4 [==============================] - 0s 37ms/step - loss: 0.0283 - mse: 0.0283 - mae: 0.1365 - val_loss: 0.0315 - val_mse: 0.0315 - val_mae: 0.1379\n",
            "Epoch 20/100\n",
            "4/4 [==============================] - 0s 34ms/step - loss: 0.0308 - mse: 0.0308 - mae: 0.1422 - val_loss: 0.0331 - val_mse: 0.0331 - val_mae: 0.1418\n",
            "Epoch 21/100\n",
            "4/4 [==============================] - 0s 34ms/step - loss: 0.0300 - mse: 0.0300 - mae: 0.1380 - val_loss: 0.0312 - val_mse: 0.0312 - val_mae: 0.1374\n",
            "Epoch 22/100\n",
            "4/4 [==============================] - 0s 34ms/step - loss: 0.0290 - mse: 0.0290 - mae: 0.1381 - val_loss: 0.0290 - val_mse: 0.0290 - val_mae: 0.1317\n",
            "Epoch 23/100\n",
            "4/4 [==============================] - 0s 34ms/step - loss: 0.0305 - mse: 0.0305 - mae: 0.1420 - val_loss: 0.0291 - val_mse: 0.0291 - val_mae: 0.1319\n",
            "Epoch 24/100\n",
            "4/4 [==============================] - 0s 34ms/step - loss: 0.0299 - mse: 0.0299 - mae: 0.1382 - val_loss: 0.0324 - val_mse: 0.0324 - val_mae: 0.1405\n",
            "Epoch 25/100\n",
            "4/4 [==============================] - 0s 35ms/step - loss: 0.0301 - mse: 0.0301 - mae: 0.1393 - val_loss: 0.0322 - val_mse: 0.0322 - val_mae: 0.1402\n",
            "Epoch 26/100\n",
            "4/4 [==============================] - 0s 35ms/step - loss: 0.0303 - mse: 0.0303 - mae: 0.1433 - val_loss: 0.0288 - val_mse: 0.0288 - val_mae: 0.1316\n",
            "Epoch 27/100\n",
            "4/4 [==============================] - 0s 35ms/step - loss: 0.0314 - mse: 0.0314 - mae: 0.1439 - val_loss: 0.0271 - val_mse: 0.0271 - val_mae: 0.1270\n",
            "Epoch 28/100\n",
            "4/4 [==============================] - 0s 37ms/step - loss: 0.0296 - mse: 0.0296 - mae: 0.1399 - val_loss: 0.0332 - val_mse: 0.0332 - val_mae: 0.1428\n",
            "Epoch 29/100\n",
            "4/4 [==============================] - 0s 37ms/step - loss: 0.0298 - mse: 0.0298 - mae: 0.1402 - val_loss: 0.0334 - val_mse: 0.0334 - val_mae: 0.1435\n",
            "Epoch 30/100\n",
            "4/4 [==============================] - 0s 39ms/step - loss: 0.0302 - mse: 0.0302 - mae: 0.1409 - val_loss: 0.0291 - val_mse: 0.0291 - val_mae: 0.1322\n",
            "Epoch 31/100\n",
            "4/4 [==============================] - 0s 33ms/step - loss: 0.0297 - mse: 0.0297 - mae: 0.1413 - val_loss: 0.0262 - val_mse: 0.0262 - val_mae: 0.1245\n",
            "Epoch 32/100\n",
            "4/4 [==============================] - 0s 38ms/step - loss: 0.0300 - mse: 0.0300 - mae: 0.1423 - val_loss: 0.0309 - val_mse: 0.0309 - val_mae: 0.1369\n",
            "Epoch 33/100\n",
            "4/4 [==============================] - 0s 34ms/step - loss: 0.0292 - mse: 0.0292 - mae: 0.1367 - val_loss: 0.0328 - val_mse: 0.0328 - val_mae: 0.1424\n",
            "Epoch 34/100\n",
            "4/4 [==============================] - 0s 37ms/step - loss: 0.0296 - mse: 0.0296 - mae: 0.1389 - val_loss: 0.0283 - val_mse: 0.0283 - val_mae: 0.1305\n",
            "Epoch 35/100\n",
            "4/4 [==============================] - 0s 39ms/step - loss: 0.0283 - mse: 0.0283 - mae: 0.1362 - val_loss: 0.0273 - val_mse: 0.0273 - val_mae: 0.1278\n",
            "Epoch 36/100\n",
            "4/4 [==============================] - 0s 33ms/step - loss: 0.0301 - mse: 0.0301 - mae: 0.1421 - val_loss: 0.0293 - val_mse: 0.0293 - val_mae: 0.1330\n",
            "Epoch 37/100\n",
            "4/4 [==============================] - 0s 33ms/step - loss: 0.0302 - mse: 0.0302 - mae: 0.1401 - val_loss: 0.0317 - val_mse: 0.0317 - val_mae: 0.1394\n",
            "Epoch 38/100\n",
            "4/4 [==============================] - 0s 35ms/step - loss: 0.0300 - mse: 0.0300 - mae: 0.1395 - val_loss: 0.0282 - val_mse: 0.0282 - val_mae: 0.1305\n",
            "Epoch 39/100\n",
            "4/4 [==============================] - 0s 36ms/step - loss: 0.0286 - mse: 0.0286 - mae: 0.1395 - val_loss: 0.0296 - val_mse: 0.0296 - val_mae: 0.1341\n",
            "Epoch 40/100\n",
            "4/4 [==============================] - 0s 34ms/step - loss: 0.0274 - mse: 0.0274 - mae: 0.1351 - val_loss: 0.0345 - val_mse: 0.0345 - val_mae: 0.1474\n",
            "Epoch 41/100\n",
            "4/4 [==============================] - 0s 36ms/step - loss: 0.0304 - mse: 0.0304 - mae: 0.1410 - val_loss: 0.0294 - val_mse: 0.0294 - val_mae: 0.1336\n",
            "Epoch 42/100\n",
            "4/4 [==============================] - 0s 35ms/step - loss: 0.0287 - mse: 0.0287 - mae: 0.1343 - val_loss: 0.0260 - val_mse: 0.0260 - val_mae: 0.1245\n",
            "Epoch 43/100\n",
            "4/4 [==============================] - 0s 37ms/step - loss: 0.0290 - mse: 0.0290 - mae: 0.1404 - val_loss: 0.0285 - val_mse: 0.0285 - val_mae: 0.1313\n",
            "Epoch 44/100\n",
            "4/4 [==============================] - 0s 35ms/step - loss: 0.0300 - mse: 0.0300 - mae: 0.1392 - val_loss: 0.0322 - val_mse: 0.0322 - val_mae: 0.1412\n",
            "Epoch 45/100\n",
            "4/4 [==============================] - 0s 41ms/step - loss: 0.0302 - mse: 0.0302 - mae: 0.1398 - val_loss: 0.0313 - val_mse: 0.0313 - val_mae: 0.1388\n",
            "Epoch 46/100\n",
            "4/4 [==============================] - 0s 34ms/step - loss: 0.0279 - mse: 0.0279 - mae: 0.1358 - val_loss: 0.0279 - val_mse: 0.0279 - val_mae: 0.1300\n",
            "Epoch 47/100\n",
            "4/4 [==============================] - 0s 36ms/step - loss: 0.0305 - mse: 0.0305 - mae: 0.1409 - val_loss: 0.0290 - val_mse: 0.0290 - val_mae: 0.1327\n",
            "Epoch 48/100\n",
            "4/4 [==============================] - 0s 42ms/step - loss: 0.0276 - mse: 0.0276 - mae: 0.1342 - val_loss: 0.0319 - val_mse: 0.0319 - val_mae: 0.1406\n",
            "Epoch 49/100\n",
            "4/4 [==============================] - 0s 34ms/step - loss: 0.0267 - mse: 0.0267 - mae: 0.1329 - val_loss: 0.0329 - val_mse: 0.0329 - val_mae: 0.1436\n",
            "Epoch 50/100\n",
            "4/4 [==============================] - 0s 34ms/step - loss: 0.0287 - mse: 0.0287 - mae: 0.1376 - val_loss: 0.0283 - val_mse: 0.0283 - val_mae: 0.1313\n",
            "Epoch 51/100\n",
            "4/4 [==============================] - 0s 37ms/step - loss: 0.0296 - mse: 0.0296 - mae: 0.1402 - val_loss: 0.0285 - val_mse: 0.0285 - val_mae: 0.1317\n",
            "Epoch 52/100\n",
            "4/4 [==============================] - 0s 35ms/step - loss: 0.0270 - mse: 0.0270 - mae: 0.1322 - val_loss: 0.0287 - val_mse: 0.0287 - val_mae: 0.1322\n",
            "Epoch 53/100\n",
            "4/4 [==============================] - 0s 34ms/step - loss: 0.0280 - mse: 0.0280 - mae: 0.1362 - val_loss: 0.0323 - val_mse: 0.0323 - val_mae: 0.1422\n",
            "Epoch 54/100\n",
            "4/4 [==============================] - 0s 37ms/step - loss: 0.0276 - mse: 0.0276 - mae: 0.1352 - val_loss: 0.0286 - val_mse: 0.0286 - val_mae: 0.1327\n",
            "Epoch 55/100\n",
            "4/4 [==============================] - 0s 34ms/step - loss: 0.0279 - mse: 0.0279 - mae: 0.1357 - val_loss: 0.0276 - val_mse: 0.0276 - val_mae: 0.1305\n",
            "Epoch 56/100\n",
            "4/4 [==============================] - 0s 36ms/step - loss: 0.0297 - mse: 0.0297 - mae: 0.1397 - val_loss: 0.0290 - val_mse: 0.0290 - val_mae: 0.1341\n",
            "Epoch 57/100\n",
            "4/4 [==============================] - 0s 35ms/step - loss: 0.0292 - mse: 0.0292 - mae: 0.1407 - val_loss: 0.0284 - val_mse: 0.0284 - val_mae: 0.1321\n",
            "Epoch 58/100\n",
            "4/4 [==============================] - 0s 35ms/step - loss: 0.0289 - mse: 0.0289 - mae: 0.1380 - val_loss: 0.0280 - val_mse: 0.0280 - val_mae: 0.1307\n",
            "Epoch 59/100\n",
            "4/4 [==============================] - 0s 34ms/step - loss: 0.0265 - mse: 0.0265 - mae: 0.1328 - val_loss: 0.0282 - val_mse: 0.0282 - val_mae: 0.1313\n",
            "Epoch 60/100\n",
            "4/4 [==============================] - 0s 40ms/step - loss: 0.0274 - mse: 0.0274 - mae: 0.1343 - val_loss: 0.0303 - val_mse: 0.0303 - val_mae: 0.1375\n",
            "Epoch 61/100\n",
            "4/4 [==============================] - 0s 33ms/step - loss: 0.0265 - mse: 0.0265 - mae: 0.1316 - val_loss: 0.0274 - val_mse: 0.0274 - val_mae: 0.1299\n",
            "Epoch 62/100\n",
            "4/4 [==============================] - 0s 33ms/step - loss: 0.0276 - mse: 0.0276 - mae: 0.1334 - val_loss: 0.0283 - val_mse: 0.0283 - val_mae: 0.1324\n",
            "Epoch 63/100\n",
            "4/4 [==============================] - 0s 36ms/step - loss: 0.0277 - mse: 0.0277 - mae: 0.1349 - val_loss: 0.0278 - val_mse: 0.0278 - val_mae: 0.1309\n",
            "Epoch 64/100\n",
            "4/4 [==============================] - 0s 40ms/step - loss: 0.0255 - mse: 0.0255 - mae: 0.1297 - val_loss: 0.0299 - val_mse: 0.0299 - val_mae: 0.1366\n",
            "Epoch 65/100\n",
            "4/4 [==============================] - 0s 36ms/step - loss: 0.0287 - mse: 0.0287 - mae: 0.1335 - val_loss: 0.0292 - val_mse: 0.0292 - val_mae: 0.1350\n",
            "Epoch 66/100\n",
            "4/4 [==============================] - 0s 36ms/step - loss: 0.0270 - mse: 0.0270 - mae: 0.1320 - val_loss: 0.0269 - val_mse: 0.0269 - val_mae: 0.1288\n",
            "Epoch 67/100\n",
            "4/4 [==============================] - 0s 34ms/step - loss: 0.0274 - mse: 0.0274 - mae: 0.1339 - val_loss: 0.0290 - val_mse: 0.0290 - val_mae: 0.1347\n",
            "Epoch 68/100\n",
            "4/4 [==============================] - 0s 38ms/step - loss: 0.0256 - mse: 0.0256 - mae: 0.1307 - val_loss: 0.0253 - val_mse: 0.0253 - val_mae: 0.1242\n",
            "Epoch 69/100\n",
            "4/4 [==============================] - 0s 34ms/step - loss: 0.0285 - mse: 0.0285 - mae: 0.1369 - val_loss: 0.0280 - val_mse: 0.0280 - val_mae: 0.1321\n",
            "Epoch 70/100\n",
            "4/4 [==============================] - 0s 37ms/step - loss: 0.0280 - mse: 0.0280 - mae: 0.1349 - val_loss: 0.0331 - val_mse: 0.0331 - val_mae: 0.1453\n",
            "Epoch 71/100\n",
            "4/4 [==============================] - 0s 33ms/step - loss: 0.0273 - mse: 0.0273 - mae: 0.1343 - val_loss: 0.0291 - val_mse: 0.0291 - val_mae: 0.1343\n",
            "Epoch 72/100\n",
            "4/4 [==============================] - 0s 33ms/step - loss: 0.0264 - mse: 0.0264 - mae: 0.1328 - val_loss: 0.0290 - val_mse: 0.0290 - val_mae: 0.1342\n",
            "Epoch 73/100\n",
            "4/4 [==============================] - 0s 34ms/step - loss: 0.0267 - mse: 0.0267 - mae: 0.1331 - val_loss: 0.0301 - val_mse: 0.0301 - val_mae: 0.1369\n",
            "Epoch 74/100\n",
            "4/4 [==============================] - 0s 33ms/step - loss: 0.0270 - mse: 0.0270 - mae: 0.1360 - val_loss: 0.0294 - val_mse: 0.0294 - val_mae: 0.1350\n",
            "Epoch 75/100\n",
            "4/4 [==============================] - 0s 32ms/step - loss: 0.0283 - mse: 0.0283 - mae: 0.1363 - val_loss: 0.0307 - val_mse: 0.0307 - val_mae: 0.1386\n",
            "Epoch 76/100\n",
            "4/4 [==============================] - 0s 36ms/step - loss: 0.0283 - mse: 0.0283 - mae: 0.1367 - val_loss: 0.0293 - val_mse: 0.0293 - val_mae: 0.1351\n",
            "Epoch 77/100\n",
            "4/4 [==============================] - 0s 37ms/step - loss: 0.0278 - mse: 0.0278 - mae: 0.1321 - val_loss: 0.0294 - val_mse: 0.0294 - val_mae: 0.1354\n",
            "Epoch 78/100\n",
            "4/4 [==============================] - 0s 38ms/step - loss: 0.0285 - mse: 0.0285 - mae: 0.1388 - val_loss: 0.0266 - val_mse: 0.0266 - val_mae: 0.1283\n",
            "Epoch 79/100\n",
            "4/4 [==============================] - 0s 33ms/step - loss: 0.0282 - mse: 0.0282 - mae: 0.1352 - val_loss: 0.0289 - val_mse: 0.0289 - val_mae: 0.1347\n",
            "Epoch 80/100\n",
            "4/4 [==============================] - 0s 35ms/step - loss: 0.0271 - mse: 0.0271 - mae: 0.1320 - val_loss: 0.0270 - val_mse: 0.0270 - val_mae: 0.1299\n",
            "Epoch 81/100\n",
            "4/4 [==============================] - 0s 33ms/step - loss: 0.0271 - mse: 0.0271 - mae: 0.1340 - val_loss: 0.0280 - val_mse: 0.0280 - val_mae: 0.1328\n",
            "Epoch 82/100\n",
            "4/4 [==============================] - 0s 34ms/step - loss: 0.0254 - mse: 0.0254 - mae: 0.1269 - val_loss: 0.0262 - val_mse: 0.0262 - val_mae: 0.1282\n",
            "Epoch 83/100\n",
            "4/4 [==============================] - 0s 39ms/step - loss: 0.0259 - mse: 0.0259 - mae: 0.1325 - val_loss: 0.0303 - val_mse: 0.0303 - val_mae: 0.1393\n",
            "Epoch 84/100\n",
            "4/4 [==============================] - 0s 35ms/step - loss: 0.0261 - mse: 0.0261 - mae: 0.1298 - val_loss: 0.0308 - val_mse: 0.0308 - val_mae: 0.1405\n",
            "Epoch 85/100\n",
            "4/4 [==============================] - 0s 36ms/step - loss: 0.0265 - mse: 0.0265 - mae: 0.1302 - val_loss: 0.0266 - val_mse: 0.0266 - val_mae: 0.1285\n",
            "Epoch 86/100\n",
            "4/4 [==============================] - 0s 35ms/step - loss: 0.0283 - mse: 0.0283 - mae: 0.1392 - val_loss: 0.0265 - val_mse: 0.0265 - val_mae: 0.1285\n",
            "Epoch 87/100\n",
            "4/4 [==============================] - 0s 35ms/step - loss: 0.0274 - mse: 0.0274 - mae: 0.1352 - val_loss: 0.0314 - val_mse: 0.0314 - val_mae: 0.1424\n",
            "Epoch 88/100\n",
            "4/4 [==============================] - 0s 36ms/step - loss: 0.0262 - mse: 0.0262 - mae: 0.1283 - val_loss: 0.0273 - val_mse: 0.0273 - val_mae: 0.1316\n",
            "Epoch 89/100\n",
            "4/4 [==============================] - 0s 34ms/step - loss: 0.0272 - mse: 0.0272 - mae: 0.1389 - val_loss: 0.0242 - val_mse: 0.0242 - val_mae: 0.1223\n",
            "Epoch 90/100\n",
            "4/4 [==============================] - 0s 34ms/step - loss: 0.0262 - mse: 0.0262 - mae: 0.1322 - val_loss: 0.0332 - val_mse: 0.0332 - val_mae: 0.1473\n",
            "Epoch 91/100\n",
            "4/4 [==============================] - 0s 33ms/step - loss: 0.0250 - mse: 0.0250 - mae: 0.1260 - val_loss: 0.0314 - val_mse: 0.0314 - val_mae: 0.1426\n",
            "Epoch 92/100\n",
            "4/4 [==============================] - 0s 34ms/step - loss: 0.0278 - mse: 0.0278 - mae: 0.1365 - val_loss: 0.0271 - val_mse: 0.0271 - val_mae: 0.1308\n",
            "Epoch 93/100\n",
            "4/4 [==============================] - 0s 35ms/step - loss: 0.0275 - mse: 0.0275 - mae: 0.1338 - val_loss: 0.0312 - val_mse: 0.0312 - val_mae: 0.1417\n",
            "Epoch 94/100\n",
            "4/4 [==============================] - 0s 35ms/step - loss: 0.0250 - mse: 0.0250 - mae: 0.1262 - val_loss: 0.0262 - val_mse: 0.0262 - val_mae: 0.1284\n",
            "Epoch 95/100\n",
            "4/4 [==============================] - 0s 34ms/step - loss: 0.0252 - mse: 0.0252 - mae: 0.1309 - val_loss: 0.0287 - val_mse: 0.0287 - val_mae: 0.1358\n",
            "Epoch 96/100\n",
            "4/4 [==============================] - 0s 33ms/step - loss: 0.0275 - mse: 0.0275 - mae: 0.1339 - val_loss: 0.0380 - val_mse: 0.0380 - val_mae: 0.1600\n",
            "Epoch 97/100\n",
            "4/4 [==============================] - 0s 33ms/step - loss: 0.0267 - mse: 0.0267 - mae: 0.1319 - val_loss: 0.0297 - val_mse: 0.0297 - val_mae: 0.1384\n",
            "Epoch 98/100\n",
            "4/4 [==============================] - 0s 36ms/step - loss: 0.0263 - mse: 0.0263 - mae: 0.1322 - val_loss: 0.0260 - val_mse: 0.0260 - val_mae: 0.1269\n",
            "Epoch 99/100\n",
            "4/4 [==============================] - 0s 33ms/step - loss: 0.0266 - mse: 0.0266 - mae: 0.1340 - val_loss: 0.0322 - val_mse: 0.0322 - val_mae: 0.1439\n",
            "Epoch 100/100\n",
            "4/4 [==============================] - 0s 38ms/step - loss: 0.0256 - mse: 0.0256 - mae: 0.1310 - val_loss: 0.0328 - val_mse: 0.0328 - val_mae: 0.1460\n"
          ]
        }
      ]
    },
    {
      "cell_type": "code",
      "source": [
        "rmse_trainlstm, rmse_testlstm, mae_trainlstm, mae_testlstm = model_evaluation(pred_train_lstm, pred_test_lstm, ntrain_y, ntest_y)\n",
        "print(f\"\"\"RMSE score train: {rmse_trainlstm}\n",
        "  \\nRMSE score test: {rmse_testlstm}\n",
        "  '\\nMAE score train : {mae_trainlstm}\n",
        "  '\\nMAE score test :  {mae_testlstm}\"\"\")"
      ],
      "metadata": {
        "colab": {
          "base_uri": "https://localhost:8080/"
        },
        "id": "a0BHxOriMlOZ",
        "outputId": "2bf8961e-ce26-4205-91fe-a3905e8f36aa"
      },
      "execution_count": null,
      "outputs": [
        {
          "output_type": "stream",
          "name": "stdout",
          "text": [
            "RMSE score train: 0.4930890906891181\n",
            "  \n",
            "RMSE score test: 0.5146548834372238\n",
            "  '\n",
            "MAE score train : 0.3924336031649975\n",
            "  '\n",
            "MAE score test :  0.4147162184423326\n"
          ]
        }
      ]
    },
    {
      "cell_type": "markdown",
      "source": [
        "### **CNN**"
      ],
      "metadata": {
        "id": "RbYQ9hdmOEf8"
      }
    },
    {
      "cell_type": "code",
      "source": [
        "tuner_cnn = BayesianOptimization(build_cnn, objective = 'val_loss', max_trials = 10, directory = 'tuner_cnn', project_name = 'bayesian_opt')"
      ],
      "metadata": {
        "id": "o-s-rFeTOGkJ"
      },
      "execution_count": null,
      "outputs": []
    },
    {
      "cell_type": "code",
      "source": [
        "model_cnn, unit_cnn, kernel_cnn, activation_cnn, activation_dense, dropout_cnn, filter_cnn = best_model_cnn(tuner_cnn, train_x, train_y, test_x, test_y)"
      ],
      "metadata": {
        "colab": {
          "base_uri": "https://localhost:8080/"
        },
        "id": "wJqPUmb9OL5_",
        "outputId": "d97876b3-024a-401d-9904-c496d3caffbf"
      },
      "execution_count": null,
      "outputs": [
        {
          "output_type": "stream",
          "name": "stdout",
          "text": [
            "Trial 10 Complete [00h 00m 09s]\n",
            "val_loss: 0.016166552901268005\n",
            "\n",
            "Best val_loss So Far: 0.015661999583244324\n",
            "Total elapsed time: 00h 01m 49s\n"
          ]
        }
      ]
    },
    {
      "cell_type": "code",
      "source": [
        "best_hps_cnn(unit_cnn, kernel_cnn, activation_cnn, activation_dense, dropout_cnn, filter_cnn)"
      ],
      "metadata": {
        "colab": {
          "base_uri": "https://localhost:8080/"
        },
        "id": "AaKiurQiWwoT",
        "outputId": "c3711d7b-91d3-4076-e505-70ff1e5f71d9"
      },
      "execution_count": null,
      "outputs": [
        {
          "output_type": "stream",
          "name": "stdout",
          "text": [
            "The hyperparameter search is complete. The optimal number of filter is 128, , \n",
            "  the optimal kernel size is 1,\n",
            "  the optimal number of units is 10,\n",
            "  the best activation for CNN is tanh,\n",
            "  the best activation for dense is relu,\n",
            "  the best dropout is 0.2\n"
          ]
        }
      ]
    },
    {
      "cell_type": "code",
      "source": [
        "model_cnn.summary()"
      ],
      "metadata": {
        "colab": {
          "base_uri": "https://localhost:8080/"
        },
        "id": "BwHQZ0dCXISl",
        "outputId": "791565ad-8b0c-44e6-8703-a769fba4bab2"
      },
      "execution_count": null,
      "outputs": [
        {
          "output_type": "stream",
          "name": "stdout",
          "text": [
            "Model: \"sequential\"\n",
            "_________________________________________________________________\n",
            " Layer (type)                Output Shape              Param #   \n",
            "=================================================================\n",
            " conv1d (Conv1D)             (None, 6, 128)            256       \n",
            "                                                                 \n",
            " max_pooling1d (MaxPooling1D  (None, 6, 128)           0         \n",
            " )                                                               \n",
            "                                                                 \n",
            " flatten (Flatten)           (None, 768)               0         \n",
            "                                                                 \n",
            " dropout (Dropout)           (None, 768)               0         \n",
            "                                                                 \n",
            " dense (Dense)               (None, 10)                7690      \n",
            "                                                                 \n",
            " dropout_1 (Dropout)         (None, 10)                0         \n",
            "                                                                 \n",
            " dense_1 (Dense)             (None, 1)                 11        \n",
            "                                                                 \n",
            "=================================================================\n",
            "Total params: 7,957\n",
            "Trainable params: 7,957\n",
            "Non-trainable params: 0\n",
            "_________________________________________________________________\n"
          ]
        }
      ]
    },
    {
      "cell_type": "code",
      "source": [
        "pred_train_cnn, pred_test_cnn, ntrain_y, ntest_y, history1_cnn = make_pred(model_cnn, train_x, train_y, test_x, test_y)"
      ],
      "metadata": {
        "colab": {
          "base_uri": "https://localhost:8080/"
        },
        "id": "5gY9j-10XO6I",
        "outputId": "18d3aef7-d943-4a0e-90d0-08c92ee2bcec"
      },
      "execution_count": null,
      "outputs": [
        {
          "output_type": "stream",
          "name": "stdout",
          "text": [
            "Epoch 1/100\n",
            "4/4 [==============================] - 1s 68ms/step - loss: 0.0247 - mse: 0.0247 - mae: 0.1248 - val_loss: 0.0157 - val_mse: 0.0157 - val_mae: 0.1021\n",
            "Epoch 2/100\n",
            "4/4 [==============================] - 0s 16ms/step - loss: 0.0243 - mse: 0.0243 - mae: 0.1212 - val_loss: 0.0169 - val_mse: 0.0169 - val_mae: 0.1052\n",
            "Epoch 3/100\n",
            "4/4 [==============================] - 0s 14ms/step - loss: 0.0231 - mse: 0.0231 - mae: 0.1222 - val_loss: 0.0183 - val_mse: 0.0183 - val_mae: 0.1098\n",
            "Epoch 4/100\n",
            "4/4 [==============================] - 0s 13ms/step - loss: 0.0223 - mse: 0.0223 - mae: 0.1204 - val_loss: 0.0177 - val_mse: 0.0177 - val_mae: 0.1081\n",
            "Epoch 5/100\n",
            "4/4 [==============================] - 0s 15ms/step - loss: 0.0228 - mse: 0.0228 - mae: 0.1193 - val_loss: 0.0169 - val_mse: 0.0169 - val_mae: 0.1057\n",
            "Epoch 6/100\n",
            "4/4 [==============================] - 0s 14ms/step - loss: 0.0205 - mse: 0.0205 - mae: 0.1143 - val_loss: 0.0166 - val_mse: 0.0166 - val_mae: 0.1046\n",
            "Epoch 7/100\n",
            "4/4 [==============================] - 0s 16ms/step - loss: 0.0221 - mse: 0.0221 - mae: 0.1202 - val_loss: 0.0169 - val_mse: 0.0169 - val_mae: 0.1056\n",
            "Epoch 8/100\n",
            "4/4 [==============================] - 0s 15ms/step - loss: 0.0192 - mse: 0.0192 - mae: 0.1115 - val_loss: 0.0177 - val_mse: 0.0177 - val_mae: 0.1086\n",
            "Epoch 9/100\n",
            "4/4 [==============================] - 0s 15ms/step - loss: 0.0239 - mse: 0.0239 - mae: 0.1226 - val_loss: 0.0175 - val_mse: 0.0175 - val_mae: 0.1078\n",
            "Epoch 10/100\n",
            "4/4 [==============================] - 0s 15ms/step - loss: 0.0217 - mse: 0.0217 - mae: 0.1177 - val_loss: 0.0168 - val_mse: 0.0168 - val_mae: 0.1059\n",
            "Epoch 11/100\n",
            "4/4 [==============================] - 0s 14ms/step - loss: 0.0212 - mse: 0.0212 - mae: 0.1178 - val_loss: 0.0166 - val_mse: 0.0166 - val_mae: 0.1052\n",
            "Epoch 12/100\n",
            "4/4 [==============================] - 0s 13ms/step - loss: 0.0217 - mse: 0.0217 - mae: 0.1156 - val_loss: 0.0167 - val_mse: 0.0167 - val_mae: 0.1053\n",
            "Epoch 13/100\n",
            "4/4 [==============================] - 0s 14ms/step - loss: 0.0223 - mse: 0.0223 - mae: 0.1181 - val_loss: 0.0173 - val_mse: 0.0173 - val_mae: 0.1071\n",
            "Epoch 14/100\n",
            "4/4 [==============================] - 0s 13ms/step - loss: 0.0203 - mse: 0.0203 - mae: 0.1130 - val_loss: 0.0168 - val_mse: 0.0168 - val_mae: 0.1055\n",
            "Epoch 15/100\n",
            "4/4 [==============================] - 0s 13ms/step - loss: 0.0227 - mse: 0.0227 - mae: 0.1198 - val_loss: 0.0167 - val_mse: 0.0167 - val_mae: 0.1051\n",
            "Epoch 16/100\n",
            "4/4 [==============================] - 0s 18ms/step - loss: 0.0211 - mse: 0.0211 - mae: 0.1148 - val_loss: 0.0172 - val_mse: 0.0172 - val_mae: 0.1069\n",
            "Epoch 17/100\n",
            "4/4 [==============================] - 0s 13ms/step - loss: 0.0198 - mse: 0.0198 - mae: 0.1117 - val_loss: 0.0170 - val_mse: 0.0170 - val_mae: 0.1063\n",
            "Epoch 18/100\n",
            "4/4 [==============================] - 0s 13ms/step - loss: 0.0228 - mse: 0.0228 - mae: 0.1216 - val_loss: 0.0172 - val_mse: 0.0172 - val_mae: 0.1071\n",
            "Epoch 19/100\n",
            "4/4 [==============================] - 0s 17ms/step - loss: 0.0215 - mse: 0.0215 - mae: 0.1158 - val_loss: 0.0169 - val_mse: 0.0169 - val_mae: 0.1065\n",
            "Epoch 20/100\n",
            "4/4 [==============================] - 0s 19ms/step - loss: 0.0209 - mse: 0.0209 - mae: 0.1159 - val_loss: 0.0167 - val_mse: 0.0167 - val_mae: 0.1063\n",
            "Epoch 21/100\n",
            "4/4 [==============================] - 0s 12ms/step - loss: 0.0209 - mse: 0.0209 - mae: 0.1143 - val_loss: 0.0175 - val_mse: 0.0175 - val_mae: 0.1087\n",
            "Epoch 22/100\n",
            "4/4 [==============================] - 0s 19ms/step - loss: 0.0204 - mse: 0.0204 - mae: 0.1119 - val_loss: 0.0180 - val_mse: 0.0180 - val_mae: 0.1102\n",
            "Epoch 23/100\n",
            "4/4 [==============================] - 0s 18ms/step - loss: 0.0215 - mse: 0.0215 - mae: 0.1170 - val_loss: 0.0180 - val_mse: 0.0180 - val_mae: 0.1101\n",
            "Epoch 24/100\n",
            "4/4 [==============================] - 0s 29ms/step - loss: 0.0219 - mse: 0.0219 - mae: 0.1179 - val_loss: 0.0173 - val_mse: 0.0173 - val_mae: 0.1081\n",
            "Epoch 25/100\n",
            "4/4 [==============================] - 0s 25ms/step - loss: 0.0215 - mse: 0.0215 - mae: 0.1157 - val_loss: 0.0173 - val_mse: 0.0173 - val_mae: 0.1075\n",
            "Epoch 26/100\n",
            "4/4 [==============================] - 0s 26ms/step - loss: 0.0239 - mse: 0.0239 - mae: 0.1224 - val_loss: 0.0176 - val_mse: 0.0176 - val_mae: 0.1084\n",
            "Epoch 27/100\n",
            "4/4 [==============================] - 0s 30ms/step - loss: 0.0224 - mse: 0.0224 - mae: 0.1187 - val_loss: 0.0176 - val_mse: 0.0176 - val_mae: 0.1083\n",
            "Epoch 28/100\n",
            "4/4 [==============================] - 0s 20ms/step - loss: 0.0215 - mse: 0.0215 - mae: 0.1135 - val_loss: 0.0174 - val_mse: 0.0174 - val_mae: 0.1077\n",
            "Epoch 29/100\n",
            "4/4 [==============================] - 0s 38ms/step - loss: 0.0206 - mse: 0.0206 - mae: 0.1136 - val_loss: 0.0168 - val_mse: 0.0168 - val_mae: 0.1057\n",
            "Epoch 30/100\n",
            "4/4 [==============================] - 0s 26ms/step - loss: 0.0216 - mse: 0.0216 - mae: 0.1163 - val_loss: 0.0168 - val_mse: 0.0168 - val_mae: 0.1056\n",
            "Epoch 31/100\n",
            "4/4 [==============================] - 0s 38ms/step - loss: 0.0204 - mse: 0.0204 - mae: 0.1131 - val_loss: 0.0171 - val_mse: 0.0171 - val_mae: 0.1067\n",
            "Epoch 32/100\n",
            "4/4 [==============================] - 0s 23ms/step - loss: 0.0205 - mse: 0.0205 - mae: 0.1136 - val_loss: 0.0165 - val_mse: 0.0165 - val_mae: 0.1047\n",
            "Epoch 33/100\n",
            "4/4 [==============================] - 0s 18ms/step - loss: 0.0204 - mse: 0.0204 - mae: 0.1133 - val_loss: 0.0165 - val_mse: 0.0165 - val_mae: 0.1046\n",
            "Epoch 34/100\n",
            "4/4 [==============================] - 0s 25ms/step - loss: 0.0194 - mse: 0.0194 - mae: 0.1119 - val_loss: 0.0170 - val_mse: 0.0170 - val_mae: 0.1063\n",
            "Epoch 35/100\n",
            "4/4 [==============================] - 0s 18ms/step - loss: 0.0219 - mse: 0.0219 - mae: 0.1194 - val_loss: 0.0175 - val_mse: 0.0175 - val_mae: 0.1081\n",
            "Epoch 36/100\n",
            "4/4 [==============================] - 0s 24ms/step - loss: 0.0222 - mse: 0.0222 - mae: 0.1205 - val_loss: 0.0179 - val_mse: 0.0179 - val_mae: 0.1095\n",
            "Epoch 37/100\n",
            "4/4 [==============================] - 0s 36ms/step - loss: 0.0217 - mse: 0.0217 - mae: 0.1168 - val_loss: 0.0177 - val_mse: 0.0177 - val_mae: 0.1086\n",
            "Epoch 38/100\n",
            "4/4 [==============================] - 0s 20ms/step - loss: 0.0213 - mse: 0.0213 - mae: 0.1142 - val_loss: 0.0174 - val_mse: 0.0174 - val_mae: 0.1077\n",
            "Epoch 39/100\n",
            "4/4 [==============================] - 0s 26ms/step - loss: 0.0203 - mse: 0.0203 - mae: 0.1131 - val_loss: 0.0167 - val_mse: 0.0167 - val_mae: 0.1056\n",
            "Epoch 40/100\n",
            "4/4 [==============================] - 0s 25ms/step - loss: 0.0230 - mse: 0.0230 - mae: 0.1216 - val_loss: 0.0163 - val_mse: 0.0163 - val_mae: 0.1043\n",
            "Epoch 41/100\n",
            "4/4 [==============================] - 0s 27ms/step - loss: 0.0204 - mse: 0.0204 - mae: 0.1156 - val_loss: 0.0170 - val_mse: 0.0170 - val_mae: 0.1064\n",
            "Epoch 42/100\n",
            "4/4 [==============================] - 0s 19ms/step - loss: 0.0213 - mse: 0.0213 - mae: 0.1149 - val_loss: 0.0180 - val_mse: 0.0180 - val_mae: 0.1096\n",
            "Epoch 43/100\n",
            "4/4 [==============================] - 0s 25ms/step - loss: 0.0232 - mse: 0.0232 - mae: 0.1206 - val_loss: 0.0185 - val_mse: 0.0185 - val_mae: 0.1111\n",
            "Epoch 44/100\n",
            "4/4 [==============================] - 0s 20ms/step - loss: 0.0202 - mse: 0.0202 - mae: 0.1126 - val_loss: 0.0171 - val_mse: 0.0171 - val_mae: 0.1071\n",
            "Epoch 45/100\n",
            "4/4 [==============================] - 0s 12ms/step - loss: 0.0201 - mse: 0.0201 - mae: 0.1142 - val_loss: 0.0164 - val_mse: 0.0164 - val_mae: 0.1047\n",
            "Epoch 46/100\n",
            "4/4 [==============================] - 0s 12ms/step - loss: 0.0186 - mse: 0.0186 - mae: 0.1082 - val_loss: 0.0165 - val_mse: 0.0165 - val_mae: 0.1052\n",
            "Epoch 47/100\n",
            "4/4 [==============================] - 0s 12ms/step - loss: 0.0204 - mse: 0.0204 - mae: 0.1151 - val_loss: 0.0173 - val_mse: 0.0173 - val_mae: 0.1077\n",
            "Epoch 48/100\n",
            "4/4 [==============================] - 0s 13ms/step - loss: 0.0208 - mse: 0.0208 - mae: 0.1129 - val_loss: 0.0176 - val_mse: 0.0176 - val_mae: 0.1087\n",
            "Epoch 49/100\n",
            "4/4 [==============================] - 0s 13ms/step - loss: 0.0205 - mse: 0.0205 - mae: 0.1134 - val_loss: 0.0168 - val_mse: 0.0168 - val_mae: 0.1064\n",
            "Epoch 50/100\n",
            "4/4 [==============================] - 0s 13ms/step - loss: 0.0214 - mse: 0.0214 - mae: 0.1154 - val_loss: 0.0164 - val_mse: 0.0164 - val_mae: 0.1053\n",
            "Epoch 51/100\n",
            "4/4 [==============================] - 0s 13ms/step - loss: 0.0208 - mse: 0.0208 - mae: 0.1158 - val_loss: 0.0171 - val_mse: 0.0171 - val_mae: 0.1073\n",
            "Epoch 52/100\n",
            "4/4 [==============================] - 0s 12ms/step - loss: 0.0216 - mse: 0.0216 - mae: 0.1161 - val_loss: 0.0178 - val_mse: 0.0178 - val_mae: 0.1094\n",
            "Epoch 53/100\n",
            "4/4 [==============================] - 0s 12ms/step - loss: 0.0195 - mse: 0.0195 - mae: 0.1103 - val_loss: 0.0174 - val_mse: 0.0174 - val_mae: 0.1077\n",
            "Epoch 54/100\n",
            "4/4 [==============================] - 0s 12ms/step - loss: 0.0216 - mse: 0.0216 - mae: 0.1167 - val_loss: 0.0166 - val_mse: 0.0166 - val_mae: 0.1050\n",
            "Epoch 55/100\n",
            "4/4 [==============================] - 0s 12ms/step - loss: 0.0187 - mse: 0.0187 - mae: 0.1117 - val_loss: 0.0165 - val_mse: 0.0165 - val_mae: 0.1046\n",
            "Epoch 56/100\n",
            "4/4 [==============================] - 0s 13ms/step - loss: 0.0209 - mse: 0.0209 - mae: 0.1123 - val_loss: 0.0170 - val_mse: 0.0170 - val_mae: 0.1064\n",
            "Epoch 57/100\n",
            "4/4 [==============================] - 0s 12ms/step - loss: 0.0234 - mse: 0.0234 - mae: 0.1205 - val_loss: 0.0178 - val_mse: 0.0178 - val_mae: 0.1092\n",
            "Epoch 58/100\n",
            "4/4 [==============================] - 0s 18ms/step - loss: 0.0211 - mse: 0.0211 - mae: 0.1162 - val_loss: 0.0169 - val_mse: 0.0169 - val_mae: 0.1061\n",
            "Epoch 59/100\n",
            "4/4 [==============================] - 0s 16ms/step - loss: 0.0213 - mse: 0.0213 - mae: 0.1182 - val_loss: 0.0161 - val_mse: 0.0161 - val_mae: 0.1036\n",
            "Epoch 60/100\n",
            "4/4 [==============================] - 0s 17ms/step - loss: 0.0204 - mse: 0.0204 - mae: 0.1154 - val_loss: 0.0166 - val_mse: 0.0166 - val_mae: 0.1053\n",
            "Epoch 61/100\n",
            "4/4 [==============================] - 0s 13ms/step - loss: 0.0205 - mse: 0.0205 - mae: 0.1145 - val_loss: 0.0178 - val_mse: 0.0178 - val_mae: 0.1094\n",
            "Epoch 62/100\n",
            "4/4 [==============================] - 0s 12ms/step - loss: 0.0218 - mse: 0.0218 - mae: 0.1196 - val_loss: 0.0169 - val_mse: 0.0169 - val_mae: 0.1066\n",
            "Epoch 63/100\n",
            "4/4 [==============================] - 0s 13ms/step - loss: 0.0220 - mse: 0.0220 - mae: 0.1192 - val_loss: 0.0167 - val_mse: 0.0167 - val_mae: 0.1056\n",
            "Epoch 64/100\n",
            "4/4 [==============================] - 0s 13ms/step - loss: 0.0234 - mse: 0.0234 - mae: 0.1206 - val_loss: 0.0168 - val_mse: 0.0168 - val_mae: 0.1063\n",
            "Epoch 65/100\n",
            "4/4 [==============================] - 0s 12ms/step - loss: 0.0194 - mse: 0.0194 - mae: 0.1095 - val_loss: 0.0174 - val_mse: 0.0174 - val_mae: 0.1083\n",
            "Epoch 66/100\n",
            "4/4 [==============================] - 0s 14ms/step - loss: 0.0197 - mse: 0.0197 - mae: 0.1134 - val_loss: 0.0175 - val_mse: 0.0175 - val_mae: 0.1087\n",
            "Epoch 67/100\n",
            "4/4 [==============================] - 0s 13ms/step - loss: 0.0188 - mse: 0.0188 - mae: 0.1109 - val_loss: 0.0169 - val_mse: 0.0169 - val_mae: 0.1072\n",
            "Epoch 68/100\n",
            "4/4 [==============================] - 0s 13ms/step - loss: 0.0195 - mse: 0.0195 - mae: 0.1110 - val_loss: 0.0172 - val_mse: 0.0172 - val_mae: 0.1081\n",
            "Epoch 69/100\n",
            "4/4 [==============================] - 0s 13ms/step - loss: 0.0205 - mse: 0.0205 - mae: 0.1183 - val_loss: 0.0168 - val_mse: 0.0168 - val_mae: 0.1071\n",
            "Epoch 70/100\n",
            "4/4 [==============================] - 0s 12ms/step - loss: 0.0197 - mse: 0.0197 - mae: 0.1158 - val_loss: 0.0173 - val_mse: 0.0173 - val_mae: 0.1084\n",
            "Epoch 71/100\n",
            "4/4 [==============================] - 0s 12ms/step - loss: 0.0210 - mse: 0.0210 - mae: 0.1170 - val_loss: 0.0178 - val_mse: 0.0178 - val_mae: 0.1099\n",
            "Epoch 72/100\n",
            "4/4 [==============================] - 0s 12ms/step - loss: 0.0220 - mse: 0.0220 - mae: 0.1190 - val_loss: 0.0178 - val_mse: 0.0178 - val_mae: 0.1098\n",
            "Epoch 73/100\n",
            "4/4 [==============================] - 0s 13ms/step - loss: 0.0192 - mse: 0.0192 - mae: 0.1115 - val_loss: 0.0173 - val_mse: 0.0173 - val_mae: 0.1083\n",
            "Epoch 74/100\n",
            "4/4 [==============================] - 0s 13ms/step - loss: 0.0189 - mse: 0.0189 - mae: 0.1102 - val_loss: 0.0166 - val_mse: 0.0166 - val_mae: 0.1059\n",
            "Epoch 75/100\n",
            "4/4 [==============================] - 0s 13ms/step - loss: 0.0184 - mse: 0.0184 - mae: 0.1089 - val_loss: 0.0165 - val_mse: 0.0165 - val_mae: 0.1055\n",
            "Epoch 76/100\n",
            "4/4 [==============================] - 0s 15ms/step - loss: 0.0192 - mse: 0.0192 - mae: 0.1108 - val_loss: 0.0168 - val_mse: 0.0168 - val_mae: 0.1065\n",
            "Epoch 77/100\n",
            "4/4 [==============================] - 0s 15ms/step - loss: 0.0189 - mse: 0.0189 - mae: 0.1082 - val_loss: 0.0175 - val_mse: 0.0175 - val_mae: 0.1087\n",
            "Epoch 78/100\n",
            "4/4 [==============================] - 0s 12ms/step - loss: 0.0187 - mse: 0.0187 - mae: 0.1099 - val_loss: 0.0170 - val_mse: 0.0170 - val_mae: 0.1071\n",
            "Epoch 79/100\n",
            "4/4 [==============================] - 0s 13ms/step - loss: 0.0223 - mse: 0.0223 - mae: 0.1212 - val_loss: 0.0169 - val_mse: 0.0169 - val_mae: 0.1070\n",
            "Epoch 80/100\n",
            "4/4 [==============================] - 0s 12ms/step - loss: 0.0200 - mse: 0.0200 - mae: 0.1149 - val_loss: 0.0167 - val_mse: 0.0167 - val_mae: 0.1060\n",
            "Epoch 81/100\n",
            "4/4 [==============================] - 0s 12ms/step - loss: 0.0206 - mse: 0.0206 - mae: 0.1148 - val_loss: 0.0171 - val_mse: 0.0171 - val_mae: 0.1075\n",
            "Epoch 82/100\n",
            "4/4 [==============================] - 0s 12ms/step - loss: 0.0187 - mse: 0.0187 - mae: 0.1108 - val_loss: 0.0169 - val_mse: 0.0169 - val_mae: 0.1068\n",
            "Epoch 83/100\n",
            "4/4 [==============================] - 0s 13ms/step - loss: 0.0217 - mse: 0.0217 - mae: 0.1182 - val_loss: 0.0173 - val_mse: 0.0173 - val_mae: 0.1080\n",
            "Epoch 84/100\n",
            "4/4 [==============================] - 0s 12ms/step - loss: 0.0217 - mse: 0.0217 - mae: 0.1150 - val_loss: 0.0174 - val_mse: 0.0174 - val_mae: 0.1083\n",
            "Epoch 85/100\n",
            "4/4 [==============================] - 0s 12ms/step - loss: 0.0194 - mse: 0.0194 - mae: 0.1133 - val_loss: 0.0169 - val_mse: 0.0169 - val_mae: 0.1064\n",
            "Epoch 86/100\n",
            "4/4 [==============================] - 0s 12ms/step - loss: 0.0192 - mse: 0.0192 - mae: 0.1107 - val_loss: 0.0164 - val_mse: 0.0164 - val_mae: 0.1046\n",
            "Epoch 87/100\n",
            "4/4 [==============================] - 0s 13ms/step - loss: 0.0209 - mse: 0.0209 - mae: 0.1182 - val_loss: 0.0164 - val_mse: 0.0164 - val_mae: 0.1048\n",
            "Epoch 88/100\n",
            "4/4 [==============================] - 0s 12ms/step - loss: 0.0217 - mse: 0.0217 - mae: 0.1179 - val_loss: 0.0171 - val_mse: 0.0171 - val_mae: 0.1071\n",
            "Epoch 89/100\n",
            "4/4 [==============================] - 0s 12ms/step - loss: 0.0195 - mse: 0.0195 - mae: 0.1128 - val_loss: 0.0172 - val_mse: 0.0172 - val_mae: 0.1076\n",
            "Epoch 90/100\n",
            "4/4 [==============================] - 0s 18ms/step - loss: 0.0199 - mse: 0.0199 - mae: 0.1114 - val_loss: 0.0171 - val_mse: 0.0171 - val_mae: 0.1075\n",
            "Epoch 91/100\n",
            "4/4 [==============================] - 0s 13ms/step - loss: 0.0211 - mse: 0.0211 - mae: 0.1153 - val_loss: 0.0171 - val_mse: 0.0171 - val_mae: 0.1076\n",
            "Epoch 92/100\n",
            "4/4 [==============================] - 0s 12ms/step - loss: 0.0192 - mse: 0.0192 - mae: 0.1123 - val_loss: 0.0171 - val_mse: 0.0171 - val_mae: 0.1076\n",
            "Epoch 93/100\n",
            "4/4 [==============================] - 0s 13ms/step - loss: 0.0203 - mse: 0.0203 - mae: 0.1132 - val_loss: 0.0168 - val_mse: 0.0168 - val_mae: 0.1066\n",
            "Epoch 94/100\n",
            "4/4 [==============================] - 0s 12ms/step - loss: 0.0195 - mse: 0.0195 - mae: 0.1125 - val_loss: 0.0166 - val_mse: 0.0166 - val_mae: 0.1058\n",
            "Epoch 95/100\n",
            "4/4 [==============================] - 0s 12ms/step - loss: 0.0203 - mse: 0.0203 - mae: 0.1144 - val_loss: 0.0166 - val_mse: 0.0166 - val_mae: 0.1059\n",
            "Epoch 96/100\n",
            "4/4 [==============================] - 0s 12ms/step - loss: 0.0207 - mse: 0.0207 - mae: 0.1146 - val_loss: 0.0168 - val_mse: 0.0168 - val_mae: 0.1066\n",
            "Epoch 97/100\n",
            "4/4 [==============================] - 0s 15ms/step - loss: 0.0204 - mse: 0.0204 - mae: 0.1155 - val_loss: 0.0174 - val_mse: 0.0174 - val_mae: 0.1087\n",
            "Epoch 98/100\n",
            "4/4 [==============================] - 0s 14ms/step - loss: 0.0217 - mse: 0.0217 - mae: 0.1183 - val_loss: 0.0173 - val_mse: 0.0173 - val_mae: 0.1084\n",
            "Epoch 99/100\n",
            "4/4 [==============================] - 0s 12ms/step - loss: 0.0201 - mse: 0.0201 - mae: 0.1149 - val_loss: 0.0172 - val_mse: 0.0172 - val_mae: 0.1078\n",
            "Epoch 100/100\n",
            "4/4 [==============================] - 0s 12ms/step - loss: 0.0214 - mse: 0.0214 - mae: 0.1163 - val_loss: 0.0170 - val_mse: 0.0170 - val_mae: 0.1070\n"
          ]
        }
      ]
    },
    {
      "cell_type": "code",
      "source": [
        "rmse_traincnn, rmse_testcnn, mae_traincnn, mae_testcnn = model_evaluation(pred_train_cnn, pred_test_cnn, ntrain_y, ntest_y)\n",
        "print(f\"\"\"RMSE score train: {rmse_traincnn}\n",
        "  \\nRMSE score test: {rmse_testcnn}\n",
        "  '\\nMAE score train : {mae_traincnn}\n",
        "  '\\nMAE score test :  {mae_testcnn}\"\"\")"
      ],
      "metadata": {
        "colab": {
          "base_uri": "https://localhost:8080/"
        },
        "id": "0JjlxT5vXnBf",
        "outputId": "19de33aa-7d64-48fe-b0c8-5fb130b5a9ea"
      },
      "execution_count": null,
      "outputs": [
        {
          "output_type": "stream",
          "name": "stdout",
          "text": [
            "RMSE score train: 0.37088779720734555\n",
            "  \n",
            "RMSE score test: 0.3698407014006863\n",
            "  '\n",
            "MAE score train : 0.2969153150193233\n",
            "  '\n",
            "MAE score test :  0.3039625237912545\n"
          ]
        }
      ]
    },
    {
      "cell_type": "code",
      "source": [
        "pred_plot(ntest_y,  pred_test_cnn, pred_test_lstm)"
      ],
      "metadata": {
        "colab": {
          "base_uri": "https://localhost:8080/",
          "height": 460
        },
        "id": "zUubhxRVMuAG",
        "outputId": "7e556a23-7b54-4f1b-c70c-31ae237228e6"
      },
      "execution_count": null,
      "outputs": [
        {
          "output_type": "display_data",
          "data": {
            "text/plain": [
              "<Figure size 864x432 with 1 Axes>"
            ],
            "image/png": "[encoded data removed]"
          },
          "metadata": {
            "needs_background": "light"
          }
        }
      ]
    },
    {
      "cell_type": "markdown",
      "source": [
        "## **6. MODEL COMPARISON**"
      ],
      "metadata": {
        "id": "Vfz69NJ4Ywss"
      }
    },
    {
      "cell_type": "code",
      "source": [
        "model_comparison = pd.DataFrame(columns = ['Model', 'RMSE Training', 'RMSE Testing', 'MAE Training', 'MAE Testing'])\n",
        "model_comparison = model_comparison.append({'Model' : 'LSTM', 'RMSE Training' : rmse_trainlstm, 'RMSE Testing' : rmse_testlstm, \n",
        "                                            'MAE Training' : mae_trainlstm, 'MAE Testing' : mae_testlstm }, ignore_index = True)\n",
        "model_comparison = model_comparison.append({'Model' : 'CNN', 'RMSE Training' : rmse_traincnn, 'RMSE Testing' : rmse_testcnn, \n",
        "                                            'MAE Training' : mae_traincnn, 'MAE Testing' : mae_testcnn }, ignore_index = True)\n",
        "\n",
        "model_comparison = model_comparison.round(decimals = 2)\n",
        "model_comparison"
      ],
      "metadata": {
        "colab": {
          "base_uri": "https://localhost:8080/",
          "height": 112
        },
        "id": "_3APCIq9ZIhd",
        "outputId": "33057d7f-9d92-4ef1-d44c-1a5295be1b45"
      },
      "execution_count": null,
      "outputs": [
        {
          "output_type": "execute_result",
          "data": {
            "text/plain": [
              "  Model  RMSE Training  RMSE Testing  MAE Training  MAE Testing\n",
              "0  LSTM           0.49          0.51          0.39         0.41\n",
              "1   CNN           0.37          0.37          0.30         0.30"
            ],
            "text/html": [
              "\n",
              "  <div id=\"df-adc30019-a20c-4a7d-bb70-a5de3eb88ef4\">\n",
              "    <div class=\"colab-df-container\">\n",
              "      <div>\n",
              "<style scoped>\n",
              "    .dataframe tbody tr th:only-of-type {\n",
              "        vertical-align: middle;\n",
              "    }\n",
              "\n",
              "    .dataframe tbody tr th {\n",
              "        vertical-align: top;\n",
              "    }\n",
              "\n",
              "    .dataframe thead th {\n",
              "        text-align: right;\n",
              "    }\n",
              "</style>\n",
              "<table border=\"1\" class=\"dataframe\">\n",
              "  <thead>\n",
              "    <tr style=\"text-align: right;\">\n",
              "      <th></th>\n",
              "      <th>Model</th>\n",
              "      <th>RMSE Training</th>\n",
              "      <th>RMSE Testing</th>\n",
              "      <th>MAE Training</th>\n",
              "      <th>MAE Testing</th>\n",
              "    </tr>\n",
              "  </thead>\n",
              "  <tbody>\n",
              "    <tr>\n",
              "      <th>0</th>\n",
              "      <td>LSTM</td>\n",
              "      <td>0.49</td>\n",
              "      <td>0.51</td>\n",
              "      <td>0.39</td>\n",
              "      <td>0.41</td>\n",
              "    </tr>\n",
              "    <tr>\n",
              "      <th>1</th>\n",
              "      <td>CNN</td>\n",
              "      <td>0.37</td>\n",
              "      <td>0.37</td>\n",
              "      <td>0.30</td>\n",
              "      <td>0.30</td>\n",
              "    </tr>\n",
              "  </tbody>\n",
              "</table>\n",
              "</div>\n",
              "      <button class=\"colab-df-convert\" onclick=\"convertToInteractive('df-adc30019-a20c-4a7d-bb70-a5de3eb88ef4')\"\n",
              "              title=\"Convert this dataframe to an interactive table.\"\n",
              "              style=\"display:none;\">\n",
              "        \n",
              "  <svg xmlns=\"http://www.w3.org/2000/svg\" height=\"24px\"viewBox=\"0 0 24 24\"\n",
              "       width=\"24px\">\n",
              "    <path d=\"M0 0h24v24H0V0z\" fill=\"none\"/>\n",
              "    <path d=\"M18.56 5.44l.94 2.06.94-2.06 2.06-.94-2.06-.94-.94-2.06-.94 2.06-2.06.94zm-11 1L8.5 8.5l.94-2.06 2.06-.94-2.06-.94L8.5 2.5l-.94 2.06-2.06.94zm10 10l.94 2.06.94-2.06 2.06-.94-2.06-.94-.94-2.06-.94 2.06-2.06.94z\"/><path d=\"M17.41 7.96l-1.37-1.37c-.4-.4-.92-.59-1.43-.59-.52 0-1.04.2-1.43.59L10.3 9.45l-7.72 7.72c-.78.78-.78 2.05 0 2.83L4 21.41c.39.39.9.59 1.41.59.51 0 1.02-.2 1.41-.59l7.78-7.78 2.81-2.81c.8-.78.8-2.07 0-2.86zM5.41 20L4 18.59l7.72-7.72 1.47 1.35L5.41 20z\"/>\n",
              "  </svg>\n",
              "      </button>\n",
              "      \n",
              "  <style>\n",
              "    .colab-df-container {\n",
              "      display:flex;\n",
              "      flex-wrap:wrap;\n",
              "      gap: 12px;\n",
              "    }\n",
              "\n",
              "    .colab-df-convert {\n",
              "      background-color: #E8F0FE;\n",
              "      border: none;\n",
              "      border-radius: 50%;\n",
              "      cursor: pointer;\n",
              "      display: none;\n",
              "      fill: #1967D2;\n",
              "      height: 32px;\n",
              "      padding: 0 0 0 0;\n",
              "      width: 32px;\n",
              "    }\n",
              "\n",
              "    .colab-df-convert:hover {\n",
              "      background-color: #E2EBFA;\n",
              "      box-shadow: 0px 1px 2px rgba(60, 64, 67, 0.3), 0px 1px 3px 1px rgba(60, 64, 67, 0.15);\n",
              "      fill: #174EA6;\n",
              "    }\n",
              "\n",
              "    [theme=dark] .colab-df-convert {\n",
              "      background-color: #3B4455;\n",
              "      fill: #D2E3FC;\n",
              "    }\n",
              "\n",
              "    [theme=dark] .colab-df-convert:hover {\n",
              "      background-color: #434B5C;\n",
              "      box-shadow: 0px 1px 3px 1px rgba(0, 0, 0, 0.15);\n",
              "      filter: drop-shadow(0px 1px 2px rgba(0, 0, 0, 0.3));\n",
              "      fill: #FFFFFF;\n",
              "    }\n",
              "  </style>\n",
              "\n",
              "      <script>\n",
              "        const buttonEl =\n",
              "          document.querySelector('#df-adc30019-a20c-4a7d-bb70-a5de3eb88ef4 button.colab-df-convert');\n",
              "        buttonEl.style.display =\n",
              "          google.colab.kernel.accessAllowed ? 'block' : 'none';\n",
              "\n",
              "        async function convertToInteractive(key) {\n",
              "          const element = document.querySelector('#df-adc30019-a20c-4a7d-bb70-a5de3eb88ef4');\n",
              "          const dataTable =\n",
              "            await google.colab.kernel.invokeFunction('convertToInteractive',\n",
              "                                                     [key], {});\n",
              "          if (!dataTable) return;\n",
              "\n",
              "          const docLinkHtml = 'Like what you see? Visit the ' +\n",
              "            '<a target=\"_blank\" href=https://colab.research.google.com/notebooks/data_table.ipynb>data table notebook</a>'\n",
              "            + ' to learn more about interactive tables.';\n",
              "          element.innerHTML = '';\n",
              "          dataTable['output_type'] = 'display_data';\n",
              "          await google.colab.output.renderOutput(dataTable, element);\n",
              "          const docLink = document.createElement('div');\n",
              "          docLink.innerHTML = docLinkHtml;\n",
              "          element.appendChild(docLink);\n",
              "        }\n",
              "      </script>\n",
              "    </div>\n",
              "  </div>\n",
              "  "
            ]
          },
          "metadata": {},
          "execution_count": 54
        }
      ]
    },
    {
      "cell_type": "markdown",
      "source": [
        "It can be seen that CNN outperforms LSTM, so I will predict the next month by building the tuned CNN"
      ],
      "metadata": {
        "id": "QArQ-DXme42V"
      }
    },
    {
      "cell_type": "markdown",
      "source": [
        "## **7. PREDICTION**"
      ],
      "metadata": {
        "id": "GS3RzuCRf9VZ"
      }
    },
    {
      "cell_type": "code",
      "source": [
        "pred_list = test_sc[-timesteps:]\n",
        "\n",
        "# Data shape conversion\n",
        "x = pred_list.reshape((1, timesteps, 1))\n",
        "out = model_cnn.predict(x)[0][0]\n",
        "\n",
        "\n",
        "pred_list = np.append(pred_list, out)\n",
        "pred_list = pred_list.reshape(-1,1)\n",
        "pred_list_inv = sc.inverse_transform(pred_list)"
      ],
      "metadata": {
        "id": "s7NNbgqVfVMk"
      },
      "execution_count": null,
      "outputs": []
    },
    {
      "cell_type": "code",
      "source": [
        "# Date dataframe\n",
        "date = ['2013-04-01', '2013-05-01','2013-06-01', '2013-07-01', '2013-08-01', '2013-09-01', '2013-10-01']\n",
        "date = pd.DataFrame(date)\n",
        "date.columns = ['Date']\n",
        "\n",
        "pred = pd.DataFrame(pred_list_inv)\n",
        "pred.columns = ['Temp']\n",
        "\n",
        "pred_list = pd.concat([date, pred], axis=1)\n",
        "pred_list['Date'] = pd.to_datetime(pred_list['Date'], format = '%Y-%m-%d')\n",
        "\n",
        "\n",
        "# Plot train-test split\n",
        "trace1  = go.Scatter(mode='lines', x = pred_list.Date.values[0:-1], y = pred_list.Temp.values[0:-1], name = 'Actual' , marker_color='blue')\n",
        "trace2 = go.Scatter(mode='lines', x = pred_list.Date.values[-2:], y = pred_list.Temp.values[-2:], name = 'Prediction', marker_color='crimson')\n",
        "\n",
        "data = [trace1, trace2]\n",
        "layout = go.Layout(title_text='Prediction')\n",
        "fig = go.Figure(data=data, layout=layout)\n",
        "fig.show()"
      ],
      "metadata": {
        "colab": {
          "base_uri": "https://localhost:8080/",
          "height": 542
        },
        "id": "ayrygQExkNhq",
        "outputId": "2f5bb47c-ede1-4e9a-ae6f-248e53663fc9"
      },
      "execution_count": null,
      "outputs": [
        {
          "output_type": "display_data",
          "data": {
            "text/html": [
              "<html>\n",
              "<head><meta charset=\"utf-8\" /></head>\n",
              "<body>\n",
              "    <div>            <script src=\"https://cdnjs.cloudflare.com/ajax/libs/mathjax/2.7.5/MathJax.js?config=TeX-AMS-MML_SVG\"></script><script type=\"text/javascript\">if (window.MathJax) {MathJax.Hub.Config({SVG: {font: \"STIX-Web\"}});}</script>                <script type=\"text/javascript\">window.PlotlyConfig = {MathJaxConfig: 'local'};</script>\n",
              "        <script src=\"https://cdn.plot.ly/plotly-2.8.3.min.js\"></script>                <div id=\"27a03285-3a4d-4866-8083-edec5d1d7cf9\" class=\"plotly-graph-div\" style=\"height:525px; width:100%;\"></div>            <script type=\"text/javascript\">                                    window.PLOTLYENV=window.PLOTLYENV || {};                                    if (document.getElementById(\"27a03285-3a4d-4866-8083-edec5d1d7cf9\")) {                    Plotly.newPlot(                        \"27a03285-3a4d-4866-8083-edec5d1d7cf9\",                        [{\"marker\":{\"color\":\"blue\"},\"mode\":\"lines\",\"name\":\"Actual\",\"x\":[\"2013-04-01T00:00:00.000000000\",\"2013-05-01T00:00:00.000000000\",\"2013-06-01T00:00:00.000000000\",\"2013-07-01T00:00:00.000000000\",\"2013-08-01T00:00:00.000000000\",\"2013-09-01T00:00:00.000000000\"],\"y\":[27.64,27.94,27.879999999999995,26.86,26.87,26.87],\"type\":\"scatter\"},{\"marker\":{\"color\":\"crimson\"},\"mode\":\"lines\",\"name\":\"Prediction\",\"x\":[\"2013-09-01T00:00:00.000000000\",\"2013-10-01T00:00:00.000000000\"],\"y\":[26.87,26.93293837666512],\"type\":\"scatter\"}],                        {\"title\":{\"text\":\"Prediction\"},\"template\":{\"data\":{\"bar\":[{\"error_x\":{\"color\":\"#2a3f5f\"},\"error_y\":{\"color\":\"#2a3f5f\"},\"marker\":{\"line\":{\"color\":\"#E5ECF6\",\"width\":0.5},\"pattern\":{\"fillmode\":\"overlay\",\"size\":10,\"solidity\":0.2}},\"type\":\"bar\"}],\"barpolar\":[{\"marker\":{\"line\":{\"color\":\"#E5ECF6\",\"width\":0.5},\"pattern\":{\"fillmode\":\"overlay\",\"size\":10,\"solidity\":0.2}},\"type\":\"barpolar\"}],\"carpet\":[{\"aaxis\":{\"endlinecolor\":\"#2a3f5f\",\"gridcolor\":\"white\",\"linecolor\":\"white\",\"minorgridcolor\":\"white\",\"startlinecolor\":\"#2a3f5f\"},\"baxis\":{\"endlinecolor\":\"#2a3f5f\",\"gridcolor\":\"white\",\"linecolor\":\"white\",\"minorgridcolor\":\"white\",\"startlinecolor\":\"#2a3f5f\"},\"type\":\"carpet\"}],\"choropleth\":[{\"colorbar\":{\"outlinewidth\":0,\"ticks\":\"\"},\"type\":\"choropleth\"}],\"contour\":[{\"colorbar\":{\"outlinewidth\":0,\"ticks\":\"\"},\"colorscale\":[[0.0,\"#0d0887\"],[0.1111111111111111,\"#46039f\"],[0.2222222222222222,\"#7201a8\"],[0.3333333333333333,\"#9c179e\"],[0.4444444444444444,\"#bd3786\"],[0.5555555555555556,\"#d8576b\"],[0.6666666666666666,\"#ed7953\"],[0.7777777777777778,\"#fb9f3a\"],[0.8888888888888888,\"#fdca26\"],[1.0,\"#f0f921\"]],\"type\":\"contour\"}],\"contourcarpet\":[{\"colorbar\":{\"outlinewidth\":0,\"ticks\":\"\"},\"type\":\"contourcarpet\"}],\"heatmap\":[{\"colorbar\":{\"outlinewidth\":0,\"ticks\":\"\"},\"colorscale\":[[0.0,\"#0d0887\"],[0.1111111111111111,\"#46039f\"],[0.2222222222222222,\"#7201a8\"],[0.3333333333333333,\"#9c179e\"],[0.4444444444444444,\"#bd3786\"],[0.5555555555555556,\"#d8576b\"],[0.6666666666666666,\"#ed7953\"],[0.7777777777777778,\"#fb9f3a\"],[0.8888888888888888,\"#fdca26\"],[1.0,\"#f0f921\"]],\"type\":\"heatmap\"}],\"heatmapgl\":[{\"colorbar\":{\"outlinewidth\":0,\"ticks\":\"\"},\"colorscale\":[[0.0,\"#0d0887\"],[0.1111111111111111,\"#46039f\"],[0.2222222222222222,\"#7201a8\"],[0.3333333333333333,\"#9c179e\"],[0.4444444444444444,\"#bd3786\"],[0.5555555555555556,\"#d8576b\"],[0.6666666666666666,\"#ed7953\"],[0.7777777777777778,\"#fb9f3a\"],[0.8888888888888888,\"#fdca26\"],[1.0,\"#f0f921\"]],\"type\":\"heatmapgl\"}],\"histogram\":[{\"marker\":{\"pattern\":{\"fillmode\":\"overlay\",\"size\":10,\"solidity\":0.2}},\"type\":\"histogram\"}],\"histogram2d\":[{\"colorbar\":{\"outlinewidth\":0,\"ticks\":\"\"},\"colorscale\":[[0.0,\"#0d0887\"],[0.1111111111111111,\"#46039f\"],[0.2222222222222222,\"#7201a8\"],[0.3333333333333333,\"#9c179e\"],[0.4444444444444444,\"#bd3786\"],[0.5555555555555556,\"#d8576b\"],[0.6666666666666666,\"#ed7953\"],[0.7777777777777778,\"#fb9f3a\"],[0.8888888888888888,\"#fdca26\"],[1.0,\"#f0f921\"]],\"type\":\"histogram2d\"}],\"histogram2dcontour\":[{\"colorbar\":{\"outlinewidth\":0,\"ticks\":\"\"},\"colorscale\":[[0.0,\"#0d0887\"],[0.1111111111111111,\"#46039f\"],[0.2222222222222222,\"#7201a8\"],[0.3333333333333333,\"#9c179e\"],[0.4444444444444444,\"#bd3786\"],[0.5555555555555556,\"#d8576b\"],[0.6666666666666666,\"#ed7953\"],[0.7777777777777778,\"#fb9f3a\"],[0.8888888888888888,\"#fdca26\"],[1.0,\"#f0f921\"]],\"type\":\"histogram2dcontour\"}],\"mesh3d\":[{\"colorbar\":{\"outlinewidth\":0,\"ticks\":\"\"},\"type\":\"mesh3d\"}],\"parcoords\":[{\"line\":{\"colorbar\":{\"outlinewidth\":0,\"ticks\":\"\"}},\"type\":\"parcoords\"}],\"pie\":[{\"automargin\":true,\"type\":\"pie\"}],\"scatter\":[{\"marker\":{\"colorbar\":{\"outlinewidth\":0,\"ticks\":\"\"}},\"type\":\"scatter\"}],\"scatter3d\":[{\"line\":{\"colorbar\":{\"outlinewidth\":0,\"ticks\":\"\"}},\"marker\":{\"colorbar\":{\"outlinewidth\":0,\"ticks\":\"\"}},\"type\":\"scatter3d\"}],\"scattercarpet\":[{\"marker\":{\"colorbar\":{\"outlinewidth\":0,\"ticks\":\"\"}},\"type\":\"scattercarpet\"}],\"scattergeo\":[{\"marker\":{\"colorbar\":{\"outlinewidth\":0,\"ticks\":\"\"}},\"type\":\"scattergeo\"}],\"scattergl\":[{\"marker\":{\"colorbar\":{\"outlinewidth\":0,\"ticks\":\"\"}},\"type\":\"scattergl\"}],\"scattermapbox\":[{\"marker\":{\"colorbar\":{\"outlinewidth\":0,\"ticks\":\"\"}},\"type\":\"scattermapbox\"}],\"scatterpolar\":[{\"marker\":{\"colorbar\":{\"outlinewidth\":0,\"ticks\":\"\"}},\"type\":\"scatterpolar\"}],\"scatterpolargl\":[{\"marker\":{\"colorbar\":{\"outlinewidth\":0,\"ticks\":\"\"}},\"type\":\"scatterpolargl\"}],\"scatterternary\":[{\"marker\":{\"colorbar\":{\"outlinewidth\":0,\"ticks\":\"\"}},\"type\":\"scatterternary\"}],\"surface\":[{\"colorbar\":{\"outlinewidth\":0,\"ticks\":\"\"},\"colorscale\":[[0.0,\"#0d0887\"],[0.1111111111111111,\"#46039f\"],[0.2222222222222222,\"#7201a8\"],[0.3333333333333333,\"#9c179e\"],[0.4444444444444444,\"#bd3786\"],[0.5555555555555556,\"#d8576b\"],[0.6666666666666666,\"#ed7953\"],[0.7777777777777778,\"#fb9f3a\"],[0.8888888888888888,\"#fdca26\"],[1.0,\"#f0f921\"]],\"type\":\"surface\"}],\"table\":[{\"cells\":{\"fill\":{\"color\":\"#EBF0F8\"},\"line\":{\"color\":\"white\"}},\"header\":{\"fill\":{\"color\":\"#C8D4E3\"},\"line\":{\"color\":\"white\"}},\"type\":\"table\"}]},\"layout\":{\"annotationdefaults\":{\"arrowcolor\":\"#2a3f5f\",\"arrowhead\":0,\"arrowwidth\":1},\"autotypenumbers\":\"strict\",\"coloraxis\":{\"colorbar\":{\"outlinewidth\":0,\"ticks\":\"\"}},\"colorscale\":{\"diverging\":[[0,\"#8e0152\"],[0.1,\"#c51b7d\"],[0.2,\"#de77ae\"],[0.3,\"#f1b6da\"],[0.4,\"#fde0ef\"],[0.5,\"#f7f7f7\"],[0.6,\"#e6f5d0\"],[0.7,\"#b8e186\"],[0.8,\"#7fbc41\"],[0.9,\"#4d9221\"],[1,\"#276419\"]],\"sequential\":[[0.0,\"#0d0887\"],[0.1111111111111111,\"#46039f\"],[0.2222222222222222,\"#7201a8\"],[0.3333333333333333,\"#9c179e\"],[0.4444444444444444,\"#bd3786\"],[0.5555555555555556,\"#d8576b\"],[0.6666666666666666,\"#ed7953\"],[0.7777777777777778,\"#fb9f3a\"],[0.8888888888888888,\"#fdca26\"],[1.0,\"#f0f921\"]],\"sequentialminus\":[[0.0,\"#0d0887\"],[0.1111111111111111,\"#46039f\"],[0.2222222222222222,\"#7201a8\"],[0.3333333333333333,\"#9c179e\"],[0.4444444444444444,\"#bd3786\"],[0.5555555555555556,\"#d8576b\"],[0.6666666666666666,\"#ed7953\"],[0.7777777777777778,\"#fb9f3a\"],[0.8888888888888888,\"#fdca26\"],[1.0,\"#f0f921\"]]},\"colorway\":[\"#636efa\",\"#EF553B\",\"#00cc96\",\"#ab63fa\",\"#FFA15A\",\"#19d3f3\",\"#FF6692\",\"#B6E880\",\"#FF97FF\",\"#FECB52\"],\"font\":{\"color\":\"#2a3f5f\"},\"geo\":{\"bgcolor\":\"white\",\"lakecolor\":\"white\",\"landcolor\":\"#E5ECF6\",\"showlakes\":true,\"showland\":true,\"subunitcolor\":\"white\"},\"hoverlabel\":{\"align\":\"left\"},\"hovermode\":\"closest\",\"mapbox\":{\"style\":\"light\"},\"paper_bgcolor\":\"white\",\"plot_bgcolor\":\"#E5ECF6\",\"polar\":{\"angularaxis\":{\"gridcolor\":\"white\",\"linecolor\":\"white\",\"ticks\":\"\"},\"bgcolor\":\"#E5ECF6\",\"radialaxis\":{\"gridcolor\":\"white\",\"linecolor\":\"white\",\"ticks\":\"\"}},\"scene\":{\"xaxis\":{\"backgroundcolor\":\"#E5ECF6\",\"gridcolor\":\"white\",\"gridwidth\":2,\"linecolor\":\"white\",\"showbackground\":true,\"ticks\":\"\",\"zerolinecolor\":\"white\"},\"yaxis\":{\"backgroundcolor\":\"#E5ECF6\",\"gridcolor\":\"white\",\"gridwidth\":2,\"linecolor\":\"white\",\"showbackground\":true,\"ticks\":\"\",\"zerolinecolor\":\"white\"},\"zaxis\":{\"backgroundcolor\":\"#E5ECF6\",\"gridcolor\":\"white\",\"gridwidth\":2,\"linecolor\":\"white\",\"showbackground\":true,\"ticks\":\"\",\"zerolinecolor\":\"white\"}},\"shapedefaults\":{\"line\":{\"color\":\"#2a3f5f\"}},\"ternary\":{\"aaxis\":{\"gridcolor\":\"white\",\"linecolor\":\"white\",\"ticks\":\"\"},\"baxis\":{\"gridcolor\":\"white\",\"linecolor\":\"white\",\"ticks\":\"\"},\"bgcolor\":\"#E5ECF6\",\"caxis\":{\"gridcolor\":\"white\",\"linecolor\":\"white\",\"ticks\":\"\"}},\"title\":{\"x\":0.05},\"xaxis\":{\"automargin\":true,\"gridcolor\":\"white\",\"linecolor\":\"white\",\"ticks\":\"\",\"title\":{\"standoff\":15},\"zerolinecolor\":\"white\",\"zerolinewidth\":2},\"yaxis\":{\"automargin\":true,\"gridcolor\":\"white\",\"linecolor\":\"white\",\"ticks\":\"\",\"title\":{\"standoff\":15},\"zerolinecolor\":\"white\",\"zerolinewidth\":2}}}},                        {\"responsive\": true}                    ).then(function(){\n",
              "                            \n",
              "var gd = document.getElementById('27a03285-3a4d-4866-8083-edec5d1d7cf9');\n",
              "var x = new MutationObserver(function (mutations, observer) {{\n",
              "        var display = window.getComputedStyle(gd).display;\n",
              "        if (!display || display === 'none') {{\n",
              "            console.log([gd, 'removed!']);\n",
              "            Plotly.purge(gd);\n",
              "            observer.disconnect();\n",
              "        }}\n",
              "}});\n",
              "\n",
              "// Listen for the removal of the full notebook cells\n",
              "var notebookContainer = gd.closest('#notebook-container');\n",
              "if (notebookContainer) {{\n",
              "    x.observe(notebookContainer, {childList: true});\n",
              "}}\n",
              "\n",
              "// Listen for the clearing of the current output cell\n",
              "var outputEl = gd.closest('.output');\n",
              "if (outputEl) {{\n",
              "    x.observe(outputEl, {childList: true});\n",
              "}}\n",
              "\n",
              "                        })                };                            </script>        </div>\n",
              "</body>\n",
              "</html>"
            ]
          },
          "metadata": {}
        }
      ]
    },
    {
      "cell_type": "markdown",
      "source": [
        "Air temperature in October 2013 will be **26.93 degrees Celcius**"
      ],
      "metadata": {
        "id": "2rUkjCmdwZlp"
      }
    }
  ]
}